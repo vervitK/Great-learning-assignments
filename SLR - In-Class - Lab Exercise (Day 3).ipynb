{
 "cells": [
  {
   "cell_type": "markdown",
   "metadata": {},
   "source": [
    "<table align=\"center\" width=100%>\n",
    "    <tr>\n",
    "        <td width=\"15%\">\n",
    "            <img src=\"in_class.png\">\n",
    "        </td>\n",
    "        <td>\n",
    "            <div align=\"center\">\n",
    "                <font color=\"#21618C\" size=8px>\n",
    "                    <b> Inclass - Lab <br>(Day 3)\n",
    "                    </b>\n",
    "                </font>\n",
    "            </div>\n",
    "        </td>\n",
    "    </tr>\n",
    "</table>"
   ]
  },
  {
   "cell_type": "markdown",
   "metadata": {},
   "source": [
    "### About the data set  (Life Expectancy data)\n",
    "\n",
    "The dataset contains information about several health and economic factors that contribute to average life expectancy for different countries. <br> Attribute information: \n",
    "\n",
    "**Country:** Name of the country\n",
    "\n",
    "**Year:** Year the observations were recorded\n",
    "\n",
    "**Status:** Whether the country is Developed or Developing\n",
    "\n",
    "**Adult_Mortality:** Mortality rate for age group 15-60 out of every 1000 individuals of the population\n",
    "\n",
    "**Infant_Deaths:** Number of infant deaths per 1000 population\n",
    "\n",
    "**Alcohol:** Alcohol, recorded per capita (15+) consumption (in litres of pure alcohol)\n",
    "\n",
    "**Hepatitis B:** Hepatitis B (HepB) immunization coverage for 1 year olds (Percentage)\n",
    "\n",
    "**Measles:** Number of reported cases for measles per 1000 from population\n",
    "\n",
    "**BMI:** Average Body Mass Index for entire population\n",
    "\n",
    "**Underfive_Deaths:** Number of deaths under 5 years of age per 1000 population\n",
    "\n",
    "**Polio:** Polio (Pol3) immunization coverage for 1 year olds (Percentage)\n",
    "\n",
    "**Diphtheria:** Diphtheria tetanus toxoid and pertussis (DTP3) immunization coverage for 1 year olds (Percentage)\n",
    "\n",
    "**HIV:** Deaths per 1000 live births due to HIV/AIDS (0-4 years)\n",
    "\n",
    "**GDP:** Gross Domestic Product per capita (in USD)\n",
    "\n",
    "**Population:** Population of the country\n",
    "\n",
    "**Malnourished10_19:** Prevalence of malnutrition among children and adolescents for Age 10 to 19 (Percentage)\n",
    "\n",
    "**Malnourished5_9:** Prevalence of malnutrition among children for Age 5 to 9 (Percentage)\n",
    "\n",
    "**Income_Index:** Human Development Index (HDI) in terms of national income per capita (index ranging from 0 to 1)\n",
    "\n",
    "**Schooling:** Number of years of Schooling\n",
    "\n",
    "**Life_Expectancy:** Life Expectancy in age for the country\n"
   ]
  },
  {
   "cell_type": "code",
   "execution_count": null,
   "metadata": {},
   "outputs": [],
   "source": []
  },
  {
   "cell_type": "markdown",
   "metadata": {},
   "source": [
    "##  Table of Content\n",
    "\n",
    "1. **[Data Preparation](#eda)**\n",
    "2. **[Linear Regression](#lf)**\n",
    "3. **[Gradient Descent](#gd)**\n",
    "4. **[Regularization](#reg)**\n",
    "5. **[Grid Search](#gs)**"
   ]
  },
  {
   "cell_type": "markdown",
   "metadata": {},
   "source": [
    "**Import the required libraries**"
   ]
  },
  {
   "cell_type": "code",
   "execution_count": 1,
   "metadata": {},
   "outputs": [],
   "source": [
    "# type your code here\n",
    "\n",
    "import numpy as np\n",
    "import pandas as pd\n",
    "import matplotlib.pyplot as plt\n",
    "import seaborn as sns"
   ]
  },
  {
   "cell_type": "markdown",
   "metadata": {},
   "source": [
    "#### Load the Life expectancy dataset and display the first five records "
   ]
  },
  {
   "cell_type": "code",
   "execution_count": 2,
   "metadata": {},
   "outputs": [
    {
     "data": {
      "text/html": [
       "<div>\n",
       "<style scoped>\n",
       "    .dataframe tbody tr th:only-of-type {\n",
       "        vertical-align: middle;\n",
       "    }\n",
       "\n",
       "    .dataframe tbody tr th {\n",
       "        vertical-align: top;\n",
       "    }\n",
       "\n",
       "    .dataframe thead th {\n",
       "        text-align: right;\n",
       "    }\n",
       "</style>\n",
       "<table border=\"1\" class=\"dataframe\">\n",
       "  <thead>\n",
       "    <tr style=\"text-align: right;\">\n",
       "      <th></th>\n",
       "      <th>Year</th>\n",
       "      <th>Status</th>\n",
       "      <th>Adult_Mortality</th>\n",
       "      <th>Infant_Deaths</th>\n",
       "      <th>Alcohol</th>\n",
       "      <th>Hepatitis B</th>\n",
       "      <th>Measles</th>\n",
       "      <th>BMI</th>\n",
       "      <th>Underfive_Deaths</th>\n",
       "      <th>Polio</th>\n",
       "      <th>Diphtheria</th>\n",
       "      <th>HIV</th>\n",
       "      <th>GDP</th>\n",
       "      <th>Population</th>\n",
       "      <th>Malnourished10_19</th>\n",
       "      <th>Malnourished5_9</th>\n",
       "      <th>Income_Index</th>\n",
       "      <th>Schooling</th>\n",
       "      <th>Life_Expectancy</th>\n",
       "    </tr>\n",
       "    <tr>\n",
       "      <th>Country</th>\n",
       "      <th></th>\n",
       "      <th></th>\n",
       "      <th></th>\n",
       "      <th></th>\n",
       "      <th></th>\n",
       "      <th></th>\n",
       "      <th></th>\n",
       "      <th></th>\n",
       "      <th></th>\n",
       "      <th></th>\n",
       "      <th></th>\n",
       "      <th></th>\n",
       "      <th></th>\n",
       "      <th></th>\n",
       "      <th></th>\n",
       "      <th></th>\n",
       "      <th></th>\n",
       "      <th></th>\n",
       "      <th></th>\n",
       "    </tr>\n",
       "  </thead>\n",
       "  <tbody>\n",
       "    <tr>\n",
       "      <th>Madagascar</th>\n",
       "      <td>2015</td>\n",
       "      <td>Developing</td>\n",
       "      <td>22.0</td>\n",
       "      <td>28</td>\n",
       "      <td>NaN</td>\n",
       "      <td>69.0</td>\n",
       "      <td>3</td>\n",
       "      <td>2.5</td>\n",
       "      <td>38</td>\n",
       "      <td>71</td>\n",
       "      <td>69</td>\n",
       "      <td>0.3</td>\n",
       "      <td>41.857595</td>\n",
       "      <td>2423488.0</td>\n",
       "      <td>7.1</td>\n",
       "      <td>7.1</td>\n",
       "      <td>0.511</td>\n",
       "      <td>10.3</td>\n",
       "      <td>65.5</td>\n",
       "    </tr>\n",
       "    <tr>\n",
       "      <th>Bhutan</th>\n",
       "      <td>2015</td>\n",
       "      <td>Developing</td>\n",
       "      <td>211.0</td>\n",
       "      <td>0</td>\n",
       "      <td>NaN</td>\n",
       "      <td>99.0</td>\n",
       "      <td>11</td>\n",
       "      <td>24.5</td>\n",
       "      <td>0</td>\n",
       "      <td>98</td>\n",
       "      <td>99</td>\n",
       "      <td>0.5</td>\n",
       "      <td>2613.645177</td>\n",
       "      <td>787386.0</td>\n",
       "      <td>15.4</td>\n",
       "      <td>16.0</td>\n",
       "      <td>0.604</td>\n",
       "      <td>12.5</td>\n",
       "      <td>69.8</td>\n",
       "    </tr>\n",
       "    <tr>\n",
       "      <th>Chile</th>\n",
       "      <td>2015</td>\n",
       "      <td>Developing</td>\n",
       "      <td>82.0</td>\n",
       "      <td>2</td>\n",
       "      <td>NaN</td>\n",
       "      <td>97.0</td>\n",
       "      <td>9</td>\n",
       "      <td>63.8</td>\n",
       "      <td>2</td>\n",
       "      <td>96</td>\n",
       "      <td>96</td>\n",
       "      <td>0.1</td>\n",
       "      <td>13653.226400</td>\n",
       "      <td>17762681.0</td>\n",
       "      <td>0.8</td>\n",
       "      <td>0.8</td>\n",
       "      <td>0.845</td>\n",
       "      <td>16.3</td>\n",
       "      <td>85.0</td>\n",
       "    </tr>\n",
       "    <tr>\n",
       "      <th>Mali</th>\n",
       "      <td>2015</td>\n",
       "      <td>Developing</td>\n",
       "      <td>266.0</td>\n",
       "      <td>52</td>\n",
       "      <td>NaN</td>\n",
       "      <td>64.0</td>\n",
       "      <td>215</td>\n",
       "      <td>23.8</td>\n",
       "      <td>84</td>\n",
       "      <td>66</td>\n",
       "      <td>64</td>\n",
       "      <td>1.5</td>\n",
       "      <td>729.725338</td>\n",
       "      <td>1746795.0</td>\n",
       "      <td>7.7</td>\n",
       "      <td>7.5</td>\n",
       "      <td>0.438</td>\n",
       "      <td>8.4</td>\n",
       "      <td>58.2</td>\n",
       "    </tr>\n",
       "    <tr>\n",
       "      <th>Zimbabwe</th>\n",
       "      <td>2015</td>\n",
       "      <td>Developing</td>\n",
       "      <td>336.0</td>\n",
       "      <td>22</td>\n",
       "      <td>NaN</td>\n",
       "      <td>87.0</td>\n",
       "      <td>0</td>\n",
       "      <td>31.8</td>\n",
       "      <td>32</td>\n",
       "      <td>88</td>\n",
       "      <td>87</td>\n",
       "      <td>6.2</td>\n",
       "      <td>118.693830</td>\n",
       "      <td>15777451.0</td>\n",
       "      <td>5.6</td>\n",
       "      <td>5.5</td>\n",
       "      <td>0.507</td>\n",
       "      <td>10.3</td>\n",
       "      <td>67.0</td>\n",
       "    </tr>\n",
       "  </tbody>\n",
       "</table>\n",
       "</div>"
      ],
      "text/plain": [
       "            Year      Status  Adult_Mortality  Infant_Deaths  Alcohol  \\\n",
       "Country                                                                 \n",
       "Madagascar  2015  Developing             22.0             28      NaN   \n",
       "Bhutan      2015  Developing            211.0              0      NaN   \n",
       "Chile       2015  Developing             82.0              2      NaN   \n",
       "Mali        2015  Developing            266.0             52      NaN   \n",
       "Zimbabwe    2015  Developing            336.0             22      NaN   \n",
       "\n",
       "            Hepatitis B  Measles    BMI  Underfive_Deaths   Polio  \\\n",
       "Country                                                             \n",
       "Madagascar         69.0         3   2.5                 38     71   \n",
       "Bhutan             99.0        11  24.5                  0     98   \n",
       "Chile              97.0         9  63.8                  2     96   \n",
       "Mali               64.0       215  23.8                 84     66   \n",
       "Zimbabwe           87.0         0  31.8                 32     88   \n",
       "\n",
       "            Diphtheria   HIV           GDP  Population  Malnourished10_19  \\\n",
       "Country                                                                     \n",
       "Madagascar           69  0.3     41.857595   2423488.0                7.1   \n",
       "Bhutan               99  0.5   2613.645177    787386.0               15.4   \n",
       "Chile                96  0.1  13653.226400  17762681.0                0.8   \n",
       "Mali                 64  1.5    729.725338   1746795.0                7.7   \n",
       "Zimbabwe             87  6.2    118.693830  15777451.0                5.6   \n",
       "\n",
       "            Malnourished5_9  Income_Index  Schooling  Life_Expectancy  \n",
       "Country                                                                \n",
       "Madagascar              7.1         0.511       10.3             65.5  \n",
       "Bhutan                 16.0         0.604       12.5             69.8  \n",
       "Chile                   0.8         0.845       16.3             85.0  \n",
       "Mali                    7.5         0.438        8.4             58.2  \n",
       "Zimbabwe                5.5         0.507       10.3             67.0  "
      ]
     },
     "execution_count": 2,
     "metadata": {},
     "output_type": "execute_result"
    }
   ],
   "source": [
    "# load the csv file\n",
    "\n",
    "# type your code here\n",
    "df=pd.read_csv(\"Life_Expectancy.csv\",index_col=0)\n",
    "df=df.sample(frac=1,random_state=0)\n",
    "# display the first five observations\n",
    "\n",
    "# type your code here\n",
    "df.head()"
   ]
  },
  {
   "cell_type": "markdown",
   "metadata": {},
   "source": [
    "#### Check the shape of the data and display its information"
   ]
  },
  {
   "cell_type": "code",
   "execution_count": 3,
   "metadata": {
    "scrolled": true
   },
   "outputs": [
    {
     "data": {
      "text/plain": [
       "(182, 19)"
      ]
     },
     "execution_count": 3,
     "metadata": {},
     "output_type": "execute_result"
    }
   ],
   "source": [
    "# check the size of the dataframe\n",
    "\n",
    "# type your code here\n",
    "df.shape"
   ]
  },
  {
   "cell_type": "code",
   "execution_count": 4,
   "metadata": {},
   "outputs": [
    {
     "name": "stdout",
     "output_type": "stream",
     "text": [
      "<class 'pandas.core.frame.DataFrame'>\n",
      "Index: 182 entries, Madagascar to Great Britain\n",
      "Data columns (total 19 columns):\n",
      " #   Column             Non-Null Count  Dtype  \n",
      "---  ------             --------------  -----  \n",
      " 0   Year               182 non-null    int64  \n",
      " 1   Status             182 non-null    object \n",
      " 2   Adult_Mortality    173 non-null    float64\n",
      " 3   Infant_Deaths      182 non-null    int64  \n",
      " 4   Alcohol            15 non-null     float64\n",
      " 5   Hepatitis B        173 non-null    float64\n",
      " 6   Measles            182 non-null    int64  \n",
      " 7   BMI                178 non-null    float64\n",
      " 8   Underfive_Deaths   182 non-null    int64  \n",
      " 9   Polio              182 non-null    int64  \n",
      " 10  Diphtheria         182 non-null    int64  \n",
      " 11  HIV                182 non-null    float64\n",
      " 12  GDP                157 non-null    float64\n",
      " 13  Population         141 non-null    float64\n",
      " 14  Malnourished10_19  178 non-null    float64\n",
      " 15  Malnourished5_9    178 non-null    float64\n",
      " 16  Income_Index       169 non-null    float64\n",
      " 17  Schooling          173 non-null    float64\n",
      " 18  Life_Expectancy    173 non-null    float64\n",
      "dtypes: float64(12), int64(6), object(1)\n",
      "memory usage: 28.4+ KB\n"
     ]
    }
   ],
   "source": [
    "# display dataset information understand the dataset\n",
    "\n",
    "# type your code here\n",
    "df.info()"
   ]
  },
  {
   "cell_type": "markdown",
   "metadata": {},
   "source": [
    "### Let's begin with some hands-on practice exercises"
   ]
  },
  {
   "cell_type": "markdown",
   "metadata": {},
   "source": [
    "<a id=\"eda\"> </a>\n",
    "## 1. Data Preparation"
   ]
  },
  {
   "cell_type": "markdown",
   "metadata": {
    "collapsed": true
   },
   "source": [
    "<table align=\"left\">\n",
    "    <tr>\n",
    "        <td width=\"6%\">\n",
    "            <img src=\"question_icon.png\">\n",
    "        </td>\n",
    "        <td>\n",
    "            <div align=\"left\", style=\"font-size:120%\">\n",
    "                <font color=\"#21618C\">\n",
    "                    <b>1. The dataset gives the life expectancy for different countries. Check if any information about life expectancy is missing from the given records. How do we fix the problem if present?</b>\n",
    "                </font>\n",
    "            </div>\n",
    "        </td>\n",
    "    </tr>\n",
    "</table>"
   ]
  },
  {
   "cell_type": "code",
   "execution_count": 5,
   "metadata": {
    "scrolled": true
   },
   "outputs": [
    {
     "data": {
      "text/plain": [
       "Year                   0\n",
       "Status                 0\n",
       "Adult_Mortality        9\n",
       "Infant_Deaths          0\n",
       "Alcohol              167\n",
       "Hepatitis B            9\n",
       "Measles                0\n",
       "BMI                    4\n",
       "Underfive_Deaths       0\n",
       "Polio                  0\n",
       "Diphtheria             0\n",
       "HIV                    0\n",
       "GDP                   25\n",
       "Population            41\n",
       "Malnourished10_19      4\n",
       "Malnourished5_9        4\n",
       "Income_Index          13\n",
       "Schooling              9\n",
       "Life_Expectancy        9\n",
       "dtype: int64"
      ]
     },
     "execution_count": 5,
     "metadata": {},
     "output_type": "execute_result"
    }
   ],
   "source": [
    "# type your code here\n",
    "df.isnull().sum()"
   ]
  },
  {
   "cell_type": "markdown",
   "metadata": {
    "collapsed": true
   },
   "source": [
    "<table align=\"left\">\n",
    "    <tr>\n",
    "        <td width=\"6%\">\n",
    "            <img src=\"question_icon.png\">\n",
    "        </td>\n",
    "        <td>\n",
    "            <div align=\"left\", style=\"font-size:120%\">\n",
    "                <font color=\"#21618C\">\n",
    "                    <b>2. How do we handle the missing values from the entire dataset?</b>\n",
    "                </font>\n",
    "            </div>\n",
    "        </td>\n",
    "    </tr>\n",
    "</table>"
   ]
  },
  {
   "cell_type": "markdown",
   "metadata": {},
   "source": [
    "The alcohol column has over 80 % nulls, hence it would be better to drop the column.\n",
    "\n",
    "as for the other columns we can use ffill to fill in the nulls, which will not change the mean and distribution of the data."
   ]
  },
  {
   "cell_type": "code",
   "execution_count": 6,
   "metadata": {},
   "outputs": [],
   "source": [
    "df.drop(columns='Alcohol',inplace =True)\n",
    "df.fillna(method='ffill',inplace=True)"
   ]
  },
  {
   "cell_type": "code",
   "execution_count": 7,
   "metadata": {
    "scrolled": true
   },
   "outputs": [
    {
     "data": {
      "text/plain": [
       "Year                 0\n",
       "Status               0\n",
       "Adult_Mortality      0\n",
       "Infant_Deaths        0\n",
       "Hepatitis B          0\n",
       "Measles              0\n",
       "BMI                  0\n",
       "Underfive_Deaths     0\n",
       "Polio                0\n",
       "Diphtheria           0\n",
       "HIV                  0\n",
       "GDP                  0\n",
       "Population           0\n",
       "Malnourished10_19    0\n",
       "Malnourished5_9      0\n",
       "Income_Index         0\n",
       "Schooling            0\n",
       "Life_Expectancy      0\n",
       "dtype: int64"
      ]
     },
     "execution_count": 7,
     "metadata": {},
     "output_type": "execute_result"
    }
   ],
   "source": [
    "df.isnull().sum()"
   ]
  },
  {
   "cell_type": "markdown",
   "metadata": {
    "collapsed": true
   },
   "source": [
    "<table align=\"left\">\n",
    "    <tr>\n",
    "        <td width=\"6%\">\n",
    "            <img src=\"question_icon.png\">\n",
    "        </td>\n",
    "        <td>\n",
    "            <div align=\"left\", style=\"font-size:120%\">\n",
    "                <font color=\"#21618C\">\n",
    "                    <b>3. Are there any redundant features in the data?</b>\n",
    "                </font>\n",
    "            </div>\n",
    "        </td>\n",
    "    </tr>\n",
    "</table>"
   ]
  },
  {
   "cell_type": "code",
   "execution_count": 8,
   "metadata": {},
   "outputs": [
    {
     "data": {
      "text/html": [
       "<div>\n",
       "<style scoped>\n",
       "    .dataframe tbody tr th:only-of-type {\n",
       "        vertical-align: middle;\n",
       "    }\n",
       "\n",
       "    .dataframe tbody tr th {\n",
       "        vertical-align: top;\n",
       "    }\n",
       "\n",
       "    .dataframe thead th {\n",
       "        text-align: right;\n",
       "    }\n",
       "</style>\n",
       "<table border=\"1\" class=\"dataframe\">\n",
       "  <thead>\n",
       "    <tr style=\"text-align: right;\">\n",
       "      <th></th>\n",
       "      <th>Year</th>\n",
       "      <th>Status</th>\n",
       "      <th>Adult_Mortality</th>\n",
       "      <th>Infant_Deaths</th>\n",
       "      <th>Hepatitis B</th>\n",
       "      <th>Measles</th>\n",
       "      <th>BMI</th>\n",
       "      <th>Underfive_Deaths</th>\n",
       "      <th>Polio</th>\n",
       "      <th>Diphtheria</th>\n",
       "      <th>HIV</th>\n",
       "      <th>GDP</th>\n",
       "      <th>Population</th>\n",
       "      <th>Malnourished10_19</th>\n",
       "      <th>Malnourished5_9</th>\n",
       "      <th>Income_Index</th>\n",
       "      <th>Schooling</th>\n",
       "      <th>Life_Expectancy</th>\n",
       "    </tr>\n",
       "    <tr>\n",
       "      <th>Country</th>\n",
       "      <th></th>\n",
       "      <th></th>\n",
       "      <th></th>\n",
       "      <th></th>\n",
       "      <th></th>\n",
       "      <th></th>\n",
       "      <th></th>\n",
       "      <th></th>\n",
       "      <th></th>\n",
       "      <th></th>\n",
       "      <th></th>\n",
       "      <th></th>\n",
       "      <th></th>\n",
       "      <th></th>\n",
       "      <th></th>\n",
       "      <th></th>\n",
       "      <th></th>\n",
       "      <th></th>\n",
       "    </tr>\n",
       "  </thead>\n",
       "  <tbody>\n",
       "  </tbody>\n",
       "</table>\n",
       "</div>"
      ],
      "text/plain": [
       "Empty DataFrame\n",
       "Columns: [Year, Status, Adult_Mortality, Infant_Deaths, Hepatitis B, Measles , BMI, Underfive_Deaths , Polio, Diphtheria , HIV, GDP, Population, Malnourished10_19, Malnourished5_9, Income_Index, Schooling, Life_Expectancy]\n",
       "Index: []"
      ]
     },
     "execution_count": 8,
     "metadata": {},
     "output_type": "execute_result"
    }
   ],
   "source": [
    "# type your code here\n",
    "\n",
    "\n",
    "# The alcohol column with 80% nulls can be considered redundant\n",
    "# No duplicates are found\n",
    "\n",
    "df[df.duplicated()==True]"
   ]
  },
  {
   "cell_type": "markdown",
   "metadata": {
    "collapsed": true
   },
   "source": [
    "<table align=\"left\">\n",
    "    <tr>\n",
    "        <td width=\"6%\">\n",
    "            <img src=\"question_icon.png\">\n",
    "        </td>\n",
    "        <td>\n",
    "            <div align=\"left\", style=\"font-size:120%\">\n",
    "                <font color=\"#21618C\">\n",
    "                    <b>4. Perform dummy encoding for appropriate variables of the dataset if required</b>\n",
    "                </font>\n",
    "            </div>\n",
    "        </td>\n",
    "    </tr>\n",
    "</table>"
   ]
  },
  {
   "cell_type": "code",
   "execution_count": 9,
   "metadata": {
    "scrolled": true
   },
   "outputs": [
    {
     "data": {
      "text/html": [
       "<div>\n",
       "<style scoped>\n",
       "    .dataframe tbody tr th:only-of-type {\n",
       "        vertical-align: middle;\n",
       "    }\n",
       "\n",
       "    .dataframe tbody tr th {\n",
       "        vertical-align: top;\n",
       "    }\n",
       "\n",
       "    .dataframe thead th {\n",
       "        text-align: right;\n",
       "    }\n",
       "</style>\n",
       "<table border=\"1\" class=\"dataframe\">\n",
       "  <thead>\n",
       "    <tr style=\"text-align: right;\">\n",
       "      <th></th>\n",
       "      <th>Year</th>\n",
       "      <th>Status</th>\n",
       "      <th>Adult_Mortality</th>\n",
       "      <th>Infant_Deaths</th>\n",
       "      <th>Hepatitis B</th>\n",
       "      <th>Measles</th>\n",
       "      <th>BMI</th>\n",
       "      <th>Underfive_Deaths</th>\n",
       "      <th>Polio</th>\n",
       "      <th>Diphtheria</th>\n",
       "      <th>HIV</th>\n",
       "      <th>GDP</th>\n",
       "      <th>Population</th>\n",
       "      <th>Malnourished10_19</th>\n",
       "      <th>Malnourished5_9</th>\n",
       "      <th>Income_Index</th>\n",
       "      <th>Schooling</th>\n",
       "      <th>Life_Expectancy</th>\n",
       "    </tr>\n",
       "    <tr>\n",
       "      <th>Country</th>\n",
       "      <th></th>\n",
       "      <th></th>\n",
       "      <th></th>\n",
       "      <th></th>\n",
       "      <th></th>\n",
       "      <th></th>\n",
       "      <th></th>\n",
       "      <th></th>\n",
       "      <th></th>\n",
       "      <th></th>\n",
       "      <th></th>\n",
       "      <th></th>\n",
       "      <th></th>\n",
       "      <th></th>\n",
       "      <th></th>\n",
       "      <th></th>\n",
       "      <th></th>\n",
       "      <th></th>\n",
       "    </tr>\n",
       "  </thead>\n",
       "  <tbody>\n",
       "    <tr>\n",
       "      <th>Madagascar</th>\n",
       "      <td>2015</td>\n",
       "      <td>Developing</td>\n",
       "      <td>22.0</td>\n",
       "      <td>28</td>\n",
       "      <td>69.0</td>\n",
       "      <td>3</td>\n",
       "      <td>2.5</td>\n",
       "      <td>38</td>\n",
       "      <td>71</td>\n",
       "      <td>69</td>\n",
       "      <td>0.3</td>\n",
       "      <td>41.857595</td>\n",
       "      <td>2423488.0</td>\n",
       "      <td>7.1</td>\n",
       "      <td>7.1</td>\n",
       "      <td>0.511</td>\n",
       "      <td>10.3</td>\n",
       "      <td>65.5</td>\n",
       "    </tr>\n",
       "    <tr>\n",
       "      <th>Bhutan</th>\n",
       "      <td>2015</td>\n",
       "      <td>Developing</td>\n",
       "      <td>211.0</td>\n",
       "      <td>0</td>\n",
       "      <td>99.0</td>\n",
       "      <td>11</td>\n",
       "      <td>24.5</td>\n",
       "      <td>0</td>\n",
       "      <td>98</td>\n",
       "      <td>99</td>\n",
       "      <td>0.5</td>\n",
       "      <td>2613.645177</td>\n",
       "      <td>787386.0</td>\n",
       "      <td>15.4</td>\n",
       "      <td>16.0</td>\n",
       "      <td>0.604</td>\n",
       "      <td>12.5</td>\n",
       "      <td>69.8</td>\n",
       "    </tr>\n",
       "    <tr>\n",
       "      <th>Chile</th>\n",
       "      <td>2015</td>\n",
       "      <td>Developing</td>\n",
       "      <td>82.0</td>\n",
       "      <td>2</td>\n",
       "      <td>97.0</td>\n",
       "      <td>9</td>\n",
       "      <td>63.8</td>\n",
       "      <td>2</td>\n",
       "      <td>96</td>\n",
       "      <td>96</td>\n",
       "      <td>0.1</td>\n",
       "      <td>13653.226400</td>\n",
       "      <td>17762681.0</td>\n",
       "      <td>0.8</td>\n",
       "      <td>0.8</td>\n",
       "      <td>0.845</td>\n",
       "      <td>16.3</td>\n",
       "      <td>85.0</td>\n",
       "    </tr>\n",
       "    <tr>\n",
       "      <th>Mali</th>\n",
       "      <td>2015</td>\n",
       "      <td>Developing</td>\n",
       "      <td>266.0</td>\n",
       "      <td>52</td>\n",
       "      <td>64.0</td>\n",
       "      <td>215</td>\n",
       "      <td>23.8</td>\n",
       "      <td>84</td>\n",
       "      <td>66</td>\n",
       "      <td>64</td>\n",
       "      <td>1.5</td>\n",
       "      <td>729.725338</td>\n",
       "      <td>1746795.0</td>\n",
       "      <td>7.7</td>\n",
       "      <td>7.5</td>\n",
       "      <td>0.438</td>\n",
       "      <td>8.4</td>\n",
       "      <td>58.2</td>\n",
       "    </tr>\n",
       "    <tr>\n",
       "      <th>Zimbabwe</th>\n",
       "      <td>2015</td>\n",
       "      <td>Developing</td>\n",
       "      <td>336.0</td>\n",
       "      <td>22</td>\n",
       "      <td>87.0</td>\n",
       "      <td>0</td>\n",
       "      <td>31.8</td>\n",
       "      <td>32</td>\n",
       "      <td>88</td>\n",
       "      <td>87</td>\n",
       "      <td>6.2</td>\n",
       "      <td>118.693830</td>\n",
       "      <td>15777451.0</td>\n",
       "      <td>5.6</td>\n",
       "      <td>5.5</td>\n",
       "      <td>0.507</td>\n",
       "      <td>10.3</td>\n",
       "      <td>67.0</td>\n",
       "    </tr>\n",
       "  </tbody>\n",
       "</table>\n",
       "</div>"
      ],
      "text/plain": [
       "            Year      Status  Adult_Mortality  Infant_Deaths  Hepatitis B  \\\n",
       "Country                                                                     \n",
       "Madagascar  2015  Developing             22.0             28         69.0   \n",
       "Bhutan      2015  Developing            211.0              0         99.0   \n",
       "Chile       2015  Developing             82.0              2         97.0   \n",
       "Mali        2015  Developing            266.0             52         64.0   \n",
       "Zimbabwe    2015  Developing            336.0             22         87.0   \n",
       "\n",
       "            Measles    BMI  Underfive_Deaths   Polio  Diphtheria   HIV  \\\n",
       "Country                                                                  \n",
       "Madagascar         3   2.5                 38     71           69  0.3   \n",
       "Bhutan            11  24.5                  0     98           99  0.5   \n",
       "Chile              9  63.8                  2     96           96  0.1   \n",
       "Mali             215  23.8                 84     66           64  1.5   \n",
       "Zimbabwe           0  31.8                 32     88           87  6.2   \n",
       "\n",
       "                     GDP  Population  Malnourished10_19  Malnourished5_9  \\\n",
       "Country                                                                    \n",
       "Madagascar     41.857595   2423488.0                7.1              7.1   \n",
       "Bhutan       2613.645177    787386.0               15.4             16.0   \n",
       "Chile       13653.226400  17762681.0                0.8              0.8   \n",
       "Mali          729.725338   1746795.0                7.7              7.5   \n",
       "Zimbabwe      118.693830  15777451.0                5.6              5.5   \n",
       "\n",
       "            Income_Index  Schooling  Life_Expectancy  \n",
       "Country                                               \n",
       "Madagascar         0.511       10.3             65.5  \n",
       "Bhutan             0.604       12.5             69.8  \n",
       "Chile              0.845       16.3             85.0  \n",
       "Mali               0.438        8.4             58.2  \n",
       "Zimbabwe           0.507       10.3             67.0  "
      ]
     },
     "execution_count": 9,
     "metadata": {},
     "output_type": "execute_result"
    }
   ],
   "source": [
    "# type your code here\n",
    "df.head()"
   ]
  },
  {
   "cell_type": "code",
   "execution_count": 10,
   "metadata": {},
   "outputs": [
    {
     "data": {
      "text/html": [
       "<div>\n",
       "<style scoped>\n",
       "    .dataframe tbody tr th:only-of-type {\n",
       "        vertical-align: middle;\n",
       "    }\n",
       "\n",
       "    .dataframe tbody tr th {\n",
       "        vertical-align: top;\n",
       "    }\n",
       "\n",
       "    .dataframe thead th {\n",
       "        text-align: right;\n",
       "    }\n",
       "</style>\n",
       "<table border=\"1\" class=\"dataframe\">\n",
       "  <thead>\n",
       "    <tr style=\"text-align: right;\">\n",
       "      <th></th>\n",
       "      <th>Year</th>\n",
       "      <th>Adult_Mortality</th>\n",
       "      <th>Infant_Deaths</th>\n",
       "      <th>Hepatitis B</th>\n",
       "      <th>Measles</th>\n",
       "      <th>BMI</th>\n",
       "      <th>Underfive_Deaths</th>\n",
       "      <th>Polio</th>\n",
       "      <th>Diphtheria</th>\n",
       "      <th>HIV</th>\n",
       "      <th>GDP</th>\n",
       "      <th>Population</th>\n",
       "      <th>Malnourished10_19</th>\n",
       "      <th>Malnourished5_9</th>\n",
       "      <th>Income_Index</th>\n",
       "      <th>Schooling</th>\n",
       "      <th>Life_Expectancy</th>\n",
       "      <th>Status_Developing</th>\n",
       "    </tr>\n",
       "    <tr>\n",
       "      <th>Country</th>\n",
       "      <th></th>\n",
       "      <th></th>\n",
       "      <th></th>\n",
       "      <th></th>\n",
       "      <th></th>\n",
       "      <th></th>\n",
       "      <th></th>\n",
       "      <th></th>\n",
       "      <th></th>\n",
       "      <th></th>\n",
       "      <th></th>\n",
       "      <th></th>\n",
       "      <th></th>\n",
       "      <th></th>\n",
       "      <th></th>\n",
       "      <th></th>\n",
       "      <th></th>\n",
       "      <th></th>\n",
       "    </tr>\n",
       "  </thead>\n",
       "  <tbody>\n",
       "    <tr>\n",
       "      <th>Madagascar</th>\n",
       "      <td>2015</td>\n",
       "      <td>22.0</td>\n",
       "      <td>28</td>\n",
       "      <td>69.0</td>\n",
       "      <td>3</td>\n",
       "      <td>2.5</td>\n",
       "      <td>38</td>\n",
       "      <td>71</td>\n",
       "      <td>69</td>\n",
       "      <td>0.3</td>\n",
       "      <td>41.857595</td>\n",
       "      <td>2423488.0</td>\n",
       "      <td>7.1</td>\n",
       "      <td>7.1</td>\n",
       "      <td>0.511</td>\n",
       "      <td>10.3</td>\n",
       "      <td>65.5</td>\n",
       "      <td>1</td>\n",
       "    </tr>\n",
       "    <tr>\n",
       "      <th>Bhutan</th>\n",
       "      <td>2015</td>\n",
       "      <td>211.0</td>\n",
       "      <td>0</td>\n",
       "      <td>99.0</td>\n",
       "      <td>11</td>\n",
       "      <td>24.5</td>\n",
       "      <td>0</td>\n",
       "      <td>98</td>\n",
       "      <td>99</td>\n",
       "      <td>0.5</td>\n",
       "      <td>2613.645177</td>\n",
       "      <td>787386.0</td>\n",
       "      <td>15.4</td>\n",
       "      <td>16.0</td>\n",
       "      <td>0.604</td>\n",
       "      <td>12.5</td>\n",
       "      <td>69.8</td>\n",
       "      <td>1</td>\n",
       "    </tr>\n",
       "    <tr>\n",
       "      <th>Chile</th>\n",
       "      <td>2015</td>\n",
       "      <td>82.0</td>\n",
       "      <td>2</td>\n",
       "      <td>97.0</td>\n",
       "      <td>9</td>\n",
       "      <td>63.8</td>\n",
       "      <td>2</td>\n",
       "      <td>96</td>\n",
       "      <td>96</td>\n",
       "      <td>0.1</td>\n",
       "      <td>13653.226400</td>\n",
       "      <td>17762681.0</td>\n",
       "      <td>0.8</td>\n",
       "      <td>0.8</td>\n",
       "      <td>0.845</td>\n",
       "      <td>16.3</td>\n",
       "      <td>85.0</td>\n",
       "      <td>1</td>\n",
       "    </tr>\n",
       "    <tr>\n",
       "      <th>Mali</th>\n",
       "      <td>2015</td>\n",
       "      <td>266.0</td>\n",
       "      <td>52</td>\n",
       "      <td>64.0</td>\n",
       "      <td>215</td>\n",
       "      <td>23.8</td>\n",
       "      <td>84</td>\n",
       "      <td>66</td>\n",
       "      <td>64</td>\n",
       "      <td>1.5</td>\n",
       "      <td>729.725338</td>\n",
       "      <td>1746795.0</td>\n",
       "      <td>7.7</td>\n",
       "      <td>7.5</td>\n",
       "      <td>0.438</td>\n",
       "      <td>8.4</td>\n",
       "      <td>58.2</td>\n",
       "      <td>1</td>\n",
       "    </tr>\n",
       "    <tr>\n",
       "      <th>Zimbabwe</th>\n",
       "      <td>2015</td>\n",
       "      <td>336.0</td>\n",
       "      <td>22</td>\n",
       "      <td>87.0</td>\n",
       "      <td>0</td>\n",
       "      <td>31.8</td>\n",
       "      <td>32</td>\n",
       "      <td>88</td>\n",
       "      <td>87</td>\n",
       "      <td>6.2</td>\n",
       "      <td>118.693830</td>\n",
       "      <td>15777451.0</td>\n",
       "      <td>5.6</td>\n",
       "      <td>5.5</td>\n",
       "      <td>0.507</td>\n",
       "      <td>10.3</td>\n",
       "      <td>67.0</td>\n",
       "      <td>1</td>\n",
       "    </tr>\n",
       "  </tbody>\n",
       "</table>\n",
       "</div>"
      ],
      "text/plain": [
       "            Year  Adult_Mortality  Infant_Deaths  Hepatitis B  Measles    BMI  \\\n",
       "Country                                                                         \n",
       "Madagascar  2015             22.0             28         69.0         3   2.5   \n",
       "Bhutan      2015            211.0              0         99.0        11  24.5   \n",
       "Chile       2015             82.0              2         97.0         9  63.8   \n",
       "Mali        2015            266.0             52         64.0       215  23.8   \n",
       "Zimbabwe    2015            336.0             22         87.0         0  31.8   \n",
       "\n",
       "            Underfive_Deaths   Polio  Diphtheria   HIV           GDP  \\\n",
       "Country                                                                \n",
       "Madagascar                 38     71           69  0.3     41.857595   \n",
       "Bhutan                      0     98           99  0.5   2613.645177   \n",
       "Chile                       2     96           96  0.1  13653.226400   \n",
       "Mali                       84     66           64  1.5    729.725338   \n",
       "Zimbabwe                   32     88           87  6.2    118.693830   \n",
       "\n",
       "            Population  Malnourished10_19  Malnourished5_9  Income_Index  \\\n",
       "Country                                                                    \n",
       "Madagascar   2423488.0                7.1              7.1         0.511   \n",
       "Bhutan        787386.0               15.4             16.0         0.604   \n",
       "Chile       17762681.0                0.8              0.8         0.845   \n",
       "Mali         1746795.0                7.7              7.5         0.438   \n",
       "Zimbabwe    15777451.0                5.6              5.5         0.507   \n",
       "\n",
       "            Schooling  Life_Expectancy  Status_Developing  \n",
       "Country                                                    \n",
       "Madagascar       10.3             65.5                  1  \n",
       "Bhutan           12.5             69.8                  1  \n",
       "Chile            16.3             85.0                  1  \n",
       "Mali              8.4             58.2                  1  \n",
       "Zimbabwe         10.3             67.0                  1  "
      ]
     },
     "execution_count": 10,
     "metadata": {},
     "output_type": "execute_result"
    }
   ],
   "source": [
    "df = pd.get_dummies(df,columns=['Status'], drop_first=True)\n",
    "df.head()"
   ]
  },
  {
   "cell_type": "markdown",
   "metadata": {},
   "source": [
    "<a id=\"lf\"> </a>\n",
    "## 2. Linear Regression"
   ]
  },
  {
   "cell_type": "markdown",
   "metadata": {
    "collapsed": true
   },
   "source": [
    "<table align=\"left\">\n",
    "    <tr>\n",
    "        <td width=\"6%\">\n",
    "            <img src=\"question_icon.png\">\n",
    "        </td>\n",
    "        <td>\n",
    "            <div align=\"left\", style=\"font-size:120%\">\n",
    "                <font color=\"#21618C\">\n",
    "                    <b>5.  Build a full model on the given data. Check whether the obtained residuals have constant variance\n",
    "</b>\n",
    "                </font>\n",
    "            </div>\n",
    "        </td>\n",
    "    </tr>\n",
    "</table>"
   ]
  },
  {
   "cell_type": "code",
   "execution_count": 11,
   "metadata": {},
   "outputs": [],
   "source": [
    "# type your code here\n",
    "\n",
    "import statsmodels.api as sm\n",
    "from sklearn.model_selection import train_test_split\n",
    "\n",
    "y=df['Life_Expectancy']\n",
    "x=df.drop('Life_Expectancy',axis=1)\n",
    "xc=sm.add_constant(x)\n",
    "\n",
    "model = sm.OLS(y,xc).fit()\n",
    "\n",
    "ypred = model.predict(xc)\n",
    "\n",
    "residuals = model.resid"
   ]
  },
  {
   "cell_type": "code",
   "execution_count": 12,
   "metadata": {},
   "outputs": [
    {
     "data": {
      "text/plain": [
       "(0.7818091055685484, 0.8523630155288722, 'increasing')"
      ]
     },
     "execution_count": 12,
     "metadata": {},
     "output_type": "execute_result"
    }
   ],
   "source": [
    "# to check for variance of the residuals, we have to use goldfeld test\n",
    "\n",
    "# H0: variance is constant accross the residual\n",
    "# HA: variance is not constant accross the range of data\n",
    "\n",
    "from statsmodels.stats.api import het_goldfeldquandt\n",
    "\n",
    "het_goldfeldquandt(y=residuals,x=xc)"
   ]
  },
  {
   "cell_type": "markdown",
   "metadata": {},
   "source": [
    "### Conclusion:\n",
    "The pvalue is  0.852, which is greater than 0.05, hence we accept H0, ie; the variance is constant across the residual"
   ]
  },
  {
   "cell_type": "markdown",
   "metadata": {
    "collapsed": true
   },
   "source": [
    "<table align=\"left\">\n",
    "    <tr>\n",
    "        <td width=\"6%\">\n",
    "            <img src=\"question_icon.png\">\n",
    "        </td>\n",
    "        <td>\n",
    "            <div align=\"left\", style=\"font-size:120%\">\n",
    "                <font color=\"#21618C\">\n",
    "                    <b>6. Build a model to study the impact of immunization on life expectancy, using least squares regression. Find the unexplained variation for the model\n",
    "</b>\n",
    "                </font>\n",
    "            </div>\n",
    "        </td>\n",
    "    </tr>\n",
    "</table>"
   ]
  },
  {
   "cell_type": "code",
   "execution_count": 13,
   "metadata": {},
   "outputs": [],
   "source": [
    "# type your code here\n",
    "y=df['Life_Expectancy']\n",
    "x=df[['Polio','Hepatitis B','Diphtheria ']]\n",
    "xc=sm.add_constant(x)\n",
    "\n",
    "model = sm.OLS(y,xc).fit()\n",
    "\n",
    "ypred = model.predict(xc)\n",
    "\n",
    "residuals=model.resid"
   ]
  },
  {
   "cell_type": "code",
   "execution_count": 14,
   "metadata": {},
   "outputs": [
    {
     "name": "stdout",
     "output_type": "stream",
     "text": [
      "The unexplained variation in the model =  8086.042918989142\n"
     ]
    }
   ],
   "source": [
    "# unsexplained variation of the model is the SSE or sum of squares of residuals\n",
    "\n",
    "sse = np.sum(residuals**2)\n",
    "print('The unexplained variation in the model = ',sse)"
   ]
  },
  {
   "cell_type": "markdown",
   "metadata": {
    "collapsed": true
   },
   "source": [
    "<table align=\"left\">\n",
    "    <tr>\n",
    "        <td width=\"6%\">\n",
    "            <img src=\"question_icon.png\">\n",
    "        </td>\n",
    "        <td>\n",
    "            <div align=\"left\", style=\"font-size:120%\">\n",
    "                <font color=\"#21618C\">\n",
    "                    <b>7. Build a model to study the impact of malnutrition on life expectancy, using least squares regression. Interpret the coeffients</b>\n",
    "                </font>\n",
    "            </div>\n",
    "        </td>\n",
    "    </tr>\n",
    "</table>"
   ]
  },
  {
   "cell_type": "code",
   "execution_count": 15,
   "metadata": {},
   "outputs": [
    {
     "data": {
      "text/html": [
       "<table class=\"simpletable\">\n",
       "<caption>OLS Regression Results</caption>\n",
       "<tr>\n",
       "  <th>Dep. Variable:</th>     <td>Life_Expectancy</td> <th>  R-squared:         </th> <td>   0.214</td>\n",
       "</tr>\n",
       "<tr>\n",
       "  <th>Model:</th>                   <td>OLS</td>       <th>  Adj. R-squared:    </th> <td>   0.206</td>\n",
       "</tr>\n",
       "<tr>\n",
       "  <th>Method:</th>             <td>Least Squares</td>  <th>  F-statistic:       </th> <td>   24.43</td>\n",
       "</tr>\n",
       "<tr>\n",
       "  <th>Date:</th>             <td>Sun, 03 Jan 2021</td> <th>  Prob (F-statistic):</th> <td>4.14e-10</td>\n",
       "</tr>\n",
       "<tr>\n",
       "  <th>Time:</th>                 <td>09:36:27</td>     <th>  Log-Likelihood:    </th> <td> -615.97</td>\n",
       "</tr>\n",
       "<tr>\n",
       "  <th>No. Observations:</th>      <td>   182</td>      <th>  AIC:               </th> <td>   1238.</td>\n",
       "</tr>\n",
       "<tr>\n",
       "  <th>Df Residuals:</th>          <td>   179</td>      <th>  BIC:               </th> <td>   1248.</td>\n",
       "</tr>\n",
       "<tr>\n",
       "  <th>Df Model:</th>              <td>     2</td>      <th>                     </th>     <td> </td>   \n",
       "</tr>\n",
       "<tr>\n",
       "  <th>Covariance Type:</th>      <td>nonrobust</td>    <th>                     </th>     <td> </td>   \n",
       "</tr>\n",
       "</table>\n",
       "<table class=\"simpletable\">\n",
       "<tr>\n",
       "          <td></td>             <th>coef</th>     <th>std err</th>      <th>t</th>      <th>P>|t|</th>  <th>[0.025</th>    <th>0.975]</th>  \n",
       "</tr>\n",
       "<tr>\n",
       "  <th>const</th>             <td>   76.0613</td> <td>    0.778</td> <td>   97.721</td> <td> 0.000</td> <td>   74.525</td> <td>   77.597</td>\n",
       "</tr>\n",
       "<tr>\n",
       "  <th>Malnourished10_19</th> <td>   -0.3954</td> <td>    0.570</td> <td>   -0.694</td> <td> 0.488</td> <td>   -1.519</td> <td>    0.728</td>\n",
       "</tr>\n",
       "<tr>\n",
       "  <th>Malnourished5_9</th>   <td>   -0.5087</td> <td>    0.558</td> <td>   -0.912</td> <td> 0.363</td> <td>   -1.610</td> <td>    0.592</td>\n",
       "</tr>\n",
       "</table>\n",
       "<table class=\"simpletable\">\n",
       "<tr>\n",
       "  <th>Omnibus:</th>       <td> 7.731</td> <th>  Durbin-Watson:     </th> <td>   1.853</td>\n",
       "</tr>\n",
       "<tr>\n",
       "  <th>Prob(Omnibus):</th> <td> 0.021</td> <th>  Jarque-Bera (JB):  </th> <td>   8.102</td>\n",
       "</tr>\n",
       "<tr>\n",
       "  <th>Skew:</th>          <td>-0.508</td> <th>  Prob(JB):          </th> <td>  0.0174</td>\n",
       "</tr>\n",
       "<tr>\n",
       "  <th>Kurtosis:</th>      <td> 2.810</td> <th>  Cond. No.          </th> <td>    12.8</td>\n",
       "</tr>\n",
       "</table><br/><br/>Notes:<br/>[1] Standard Errors assume that the covariance matrix of the errors is correctly specified."
      ],
      "text/plain": [
       "<class 'statsmodels.iolib.summary.Summary'>\n",
       "\"\"\"\n",
       "                            OLS Regression Results                            \n",
       "==============================================================================\n",
       "Dep. Variable:        Life_Expectancy   R-squared:                       0.214\n",
       "Model:                            OLS   Adj. R-squared:                  0.206\n",
       "Method:                 Least Squares   F-statistic:                     24.43\n",
       "Date:                Sun, 03 Jan 2021   Prob (F-statistic):           4.14e-10\n",
       "Time:                        09:36:27   Log-Likelihood:                -615.97\n",
       "No. Observations:                 182   AIC:                             1238.\n",
       "Df Residuals:                     179   BIC:                             1248.\n",
       "Df Model:                           2                                         \n",
       "Covariance Type:            nonrobust                                         \n",
       "=====================================================================================\n",
       "                        coef    std err          t      P>|t|      [0.025      0.975]\n",
       "-------------------------------------------------------------------------------------\n",
       "const                76.0613      0.778     97.721      0.000      74.525      77.597\n",
       "Malnourished10_19    -0.3954      0.570     -0.694      0.488      -1.519       0.728\n",
       "Malnourished5_9      -0.5087      0.558     -0.912      0.363      -1.610       0.592\n",
       "==============================================================================\n",
       "Omnibus:                        7.731   Durbin-Watson:                   1.853\n",
       "Prob(Omnibus):                  0.021   Jarque-Bera (JB):                8.102\n",
       "Skew:                          -0.508   Prob(JB):                       0.0174\n",
       "Kurtosis:                       2.810   Cond. No.                         12.8\n",
       "==============================================================================\n",
       "\n",
       "Notes:\n",
       "[1] Standard Errors assume that the covariance matrix of the errors is correctly specified.\n",
       "\"\"\""
      ]
     },
     "execution_count": 15,
     "metadata": {},
     "output_type": "execute_result"
    }
   ],
   "source": [
    "# type your code here\n",
    "\n",
    "y=df['Life_Expectancy']\n",
    "x=df[['Malnourished10_19','Malnourished5_9']]\n",
    "xc=sm.add_constant(x)\n",
    "\n",
    "model = sm.OLS(y,xc).fit()\n",
    "model.summary()"
   ]
  },
  {
   "cell_type": "markdown",
   "metadata": {},
   "source": [
    "### Conclusion:\n",
    "Coeff for Malnurished10_19:\n",
    "    \n",
    "    With every 1% increase in Malnurished10_19, the Life Expectency of the country reduces by 0.3954 years.\n",
    "    \n",
    "Coeff for Malnurished10_19:\n",
    "    \n",
    "    With every 1% increase in Malnurished5_9, the Life Expectency of the country reduces by 0.5087 years."
   ]
  },
  {
   "cell_type": "markdown",
   "metadata": {},
   "source": [
    "<a id=\"gd\"> </a>\n",
    "## 3. Gradient Descent"
   ]
  },
  {
   "cell_type": "markdown",
   "metadata": {
    "collapsed": true
   },
   "source": [
    "<table align=\"left\">\n",
    "    <tr>\n",
    "        <td width=\"6%\">\n",
    "            <img src=\"question_icon.png\">\n",
    "        </td>\n",
    "        <td>\n",
    "            <div align=\"left\", style=\"font-size:120%\">\n",
    "                <font color=\"#21618C\">\n",
    "                    <b>8. Build a model to study the influence of adult mortality rate on life expectancy using both the least squares regression and gradient descent approach. Are the fits for both the models different?</b>\n",
    "                </font>\n",
    "            </div>\n",
    "        </td>\n",
    "    </tr>\n",
    "</table>"
   ]
  },
  {
   "cell_type": "markdown",
   "metadata": {},
   "source": [
    "### OLS Method:"
   ]
  },
  {
   "cell_type": "code",
   "execution_count": 16,
   "metadata": {},
   "outputs": [],
   "source": [
    "import statsmodels.api as sm\n",
    "from sklearn.model_selection import train_test_split\n",
    "from sklearn.metrics import r2_score, mean_squared_error\n",
    "\n",
    "y=df['Life_Expectancy']\n",
    "x=df[['Adult_Mortality']]\n",
    "xc=sm.add_constant(x)\n",
    "\n",
    "xtrain,xtest,ytrain,ytest = train_test_split(xc,y,test_size=0.3,random_state=1)\n",
    "\n",
    "model = sm.OLS(ytrain,xtrain).fit()\n",
    "\n",
    "ypredtest_ols = model.predict(xtest)\n",
    "ypredtrain_ols = model.predict(xtrain)\n",
    "\n",
    "r2_ols_test = r2_score(ytest,ypredtest_ols)\n",
    "r2_ols_train  = r2_score(ytrain,ypredtrain_ols)\n",
    "\n",
    "rmse_ols_test = np.sqrt(mean_squared_error(ytest,ypredtest_ols))\n",
    "rmse_ols_train = np.sqrt(mean_squared_error(ytrain,ypredtrain_ols))"
   ]
  },
  {
   "cell_type": "markdown",
   "metadata": {},
   "source": [
    "### Linear Regression  (Gradient Descent)"
   ]
  },
  {
   "cell_type": "code",
   "execution_count": 17,
   "metadata": {},
   "outputs": [],
   "source": [
    "from sklearn.linear_model import LinearRegression\n",
    "\n",
    "y=df['Life_Expectancy']\n",
    "x=df[['Adult_Mortality']]\n",
    "\n",
    "xtrain,xtest,ytrain,ytest = train_test_split(xc,y,test_size=0.3,random_state=1)\n",
    "\n",
    "lr= LinearRegression()\n",
    "\n",
    "lr.fit(xtrain,ytrain)\n",
    "\n",
    "ypredtest_lr = lr.predict(xtest)\n",
    "ypredtrain_lr = lr.predict(xtrain)\n",
    "\n",
    "r2_lr_test = r2_score(ytest,ypredtest_ols)\n",
    "r2_lr_train  = r2_score(ytrain,ypredtrain_ols)\n",
    "\n",
    "rmse_lr_test = np.sqrt(mean_squared_error(ytest,ypredtest_lr))\n",
    "rmse_lr_train = np.sqrt(mean_squared_error(ytrain,ypredtrain_lr))"
   ]
  },
  {
   "cell_type": "code",
   "execution_count": 18,
   "metadata": {},
   "outputs": [
    {
     "name": "stdout",
     "output_type": "stream",
     "text": [
      "OLS: \n",
      "R2 for train data :  0.7665783826247218\n",
      "R2 for test data  :  0.1816655264987097\n",
      "\n",
      "\n",
      "Linear Regression (Gradient Descent): \n",
      "R2 for train data :  0.7665783826247218\n",
      "R2 for test data  :  0.1816655264987097\n",
      "\n",
      "\n",
      "OLS :\n",
      "RmSE for train data :  3.844031814615605\n",
      "RMSE for test data  :  7.453680454377165\n",
      "\n",
      "\n",
      "Linear Regression (Gradient Descent) :\n",
      "RMSE for train data :  3.844031814615605\n",
      "RMSE for test data  :  7.4536804543771735\n"
     ]
    }
   ],
   "source": [
    "print('OLS: ')\n",
    "print('R2 for train data : ',r2_ols_train)\n",
    "print('R2 for test data  : ',r2_ols_test)\n",
    "print('\\n')\n",
    "print('Linear Regression (Gradient Descent): ')\n",
    "print('R2 for train data : ',r2_lr_train)\n",
    "print('R2 for test data  : ',r2_lr_test)\n",
    "print('\\n')\n",
    "print('OLS :')\n",
    "print('RmSE for train data : ',rmse_ols_train)\n",
    "print('RMSE for test data  : ',rmse_ols_test)\n",
    "print('\\n')\n",
    "print('Linear Regression (Gradient Descent) :')\n",
    "print('RMSE for train data : ',rmse_lr_train)\n",
    "print('RMSE for test data  : ',rmse_lr_test)"
   ]
  },
  {
   "cell_type": "markdown",
   "metadata": {},
   "source": [
    "## Conclusion: \n",
    "\n",
    "We observe that the RMSE and R2 values for test and train data for both OLS and Gradient Descent method are equal in value."
   ]
  },
  {
   "cell_type": "markdown",
   "metadata": {
    "collapsed": true
   },
   "source": [
    "<table align=\"left\">\n",
    "    <tr>\n",
    "        <td width=\"6%\">\n",
    "            <img src=\"question_icon.png\">\n",
    "        </td>\n",
    "        <td>\n",
    "            <div align=\"left\", style=\"font-size:120%\">\n",
    "                <font color=\"#21618C\">\n",
    "                    <b>9. Build a model to analyze the influence of immunization on life expectancy. Use SGD and plot a horizontal multiple barchart to compare the values of beta coefficients with values obtained by the full model build least squares regression.</b>\n",
    "                </font>\n",
    "            </div>\n",
    "        </td>\n",
    "    </tr>\n",
    "</table>"
   ]
  },
  {
   "cell_type": "code",
   "execution_count": 19,
   "metadata": {},
   "outputs": [],
   "source": [
    "# type your code here\n"
   ]
  },
  {
   "cell_type": "markdown",
   "metadata": {
    "collapsed": true
   },
   "source": [
    "<table align=\"left\">\n",
    "    <tr>\n",
    "        <td width=\"6%\">\n",
    "            <img src=\"question_icon.png\">\n",
    "        </td>\n",
    "        <td>\n",
    "            <div align=\"left\", style=\"font-size:120%\">\n",
    "                <font color=\"#21618C\">\n",
    "                    <b>10. Build a full model using least squares regression. Check whether the model overfits the training data or not.\n",
    "</b>\n",
    "                </font>\n",
    "            </div>\n",
    "        </td>\n",
    "    </tr>\n",
    "</table>"
   ]
  },
  {
   "cell_type": "code",
   "execution_count": 20,
   "metadata": {},
   "outputs": [
    {
     "name": "stdout",
     "output_type": "stream",
     "text": [
      "R2 for train data :  0.8974827547365788\n",
      "R2 for test data  :  0.7821794018539554 \n",
      "\n",
      "RmSE for train data :  2.5475041507622502\n",
      "RMSE for test data  :  3.8455177471784547\n"
     ]
    }
   ],
   "source": [
    "# type your code here\n",
    "\n",
    "y=df['Life_Expectancy']\n",
    "x=df.drop('Life_Expectancy',axis=1)\n",
    "xc=sm.add_constant(x)\n",
    "\n",
    "xtrain,xtest,ytrain,ytest = train_test_split(xc,y,test_size=0.3,random_state=1)\n",
    "\n",
    "model = sm.OLS(ytrain,xtrain).fit()\n",
    "\n",
    "ypredtest_ols = model.predict(xtest)\n",
    "ypredtrain_ols = model.predict(xtrain)\n",
    "\n",
    "r2_ols_test = r2_score(ytest,ypredtest_ols)\n",
    "r2_ols_train  = r2_score(ytrain,ypredtrain_ols)\n",
    "\n",
    "rmse_ols_test = np.sqrt(mean_squared_error(ytest,ypredtest_ols))\n",
    "rmse_ols_train = np.sqrt(mean_squared_error(ytrain,ypredtrain_ols))\n",
    "\n",
    "print('R2 for train data : ',r2_ols_train)\n",
    "print('R2 for test data  : ',r2_ols_test,'\\n')\n",
    "print('RmSE for train data : ',rmse_ols_train)\n",
    "print('RMSE for test data  : ',rmse_ols_test)"
   ]
  },
  {
   "cell_type": "markdown",
   "metadata": {},
   "source": [
    "### Conclusion:\n",
    "\n",
    "When we compre the RMSE and R2 of the test and train part of the data with the model we can't see stark discrepancy between the two.\n",
    "Hence we can conclude that the model isn't overfitting."
   ]
  },
  {
   "cell_type": "markdown",
   "metadata": {
    "collapsed": true
   },
   "source": [
    "<table align=\"left\">\n",
    "    <tr>\n",
    "        <td width=\"6%\">\n",
    "            <img src=\"question_icon.png\">\n",
    "        </td>\n",
    "        <td>\n",
    "            <div align=\"left\", style=\"font-size:120%\">\n",
    "                <font color=\"#21618C\">\n",
    "                    <b>11. Can we use a linear regression model to analyze how all features from the dataset impact life expectancy?</b>\n",
    "                </font>\n",
    "            </div>\n",
    "        </td>\n",
    "    </tr>\n",
    "</table>"
   ]
  },
  {
   "cell_type": "code",
   "execution_count": 21,
   "metadata": {},
   "outputs": [
    {
     "data": {
      "text/html": [
       "<table class=\"simpletable\">\n",
       "<caption>OLS Regression Results</caption>\n",
       "<tr>\n",
       "  <th>Dep. Variable:</th>     <td>Life_Expectancy</td> <th>  R-squared:         </th> <td>   0.880</td>\n",
       "</tr>\n",
       "<tr>\n",
       "  <th>Model:</th>                   <td>OLS</td>       <th>  Adj. R-squared:    </th> <td>   0.868</td>\n",
       "</tr>\n",
       "<tr>\n",
       "  <th>Method:</th>             <td>Least Squares</td>  <th>  F-statistic:       </th> <td>   70.81</td>\n",
       "</tr>\n",
       "<tr>\n",
       "  <th>Date:</th>             <td>Sun, 03 Jan 2021</td> <th>  Prob (F-statistic):</th> <td>2.66e-66</td>\n",
       "</tr>\n",
       "<tr>\n",
       "  <th>Time:</th>                 <td>09:36:28</td>     <th>  Log-Likelihood:    </th> <td> -444.92</td>\n",
       "</tr>\n",
       "<tr>\n",
       "  <th>No. Observations:</th>      <td>   182</td>      <th>  AIC:               </th> <td>   925.8</td>\n",
       "</tr>\n",
       "<tr>\n",
       "  <th>Df Residuals:</th>          <td>   164</td>      <th>  BIC:               </th> <td>   983.5</td>\n",
       "</tr>\n",
       "<tr>\n",
       "  <th>Df Model:</th>              <td>    17</td>      <th>                     </th>     <td> </td>   \n",
       "</tr>\n",
       "<tr>\n",
       "  <th>Covariance Type:</th>      <td>nonrobust</td>    <th>                     </th>     <td> </td>   \n",
       "</tr>\n",
       "</table>\n",
       "<table class=\"simpletable\">\n",
       "<tr>\n",
       "          <td></td>             <th>coef</th>     <th>std err</th>      <th>t</th>      <th>P>|t|</th>  <th>[0.025</th>    <th>0.975]</th>  \n",
       "</tr>\n",
       "<tr>\n",
       "  <th>const</th>             <td> 1617.4571</td> <td> 1113.508</td> <td>    1.453</td> <td> 0.148</td> <td> -581.203</td> <td> 3816.117</td>\n",
       "</tr>\n",
       "<tr>\n",
       "  <th>Year</th>              <td>   -0.7751</td> <td>    0.553</td> <td>   -1.403</td> <td> 0.163</td> <td>   -1.866</td> <td>    0.316</td>\n",
       "</tr>\n",
       "<tr>\n",
       "  <th>Adult_Mortality</th>   <td>   -0.0233</td> <td>    0.003</td> <td>   -6.693</td> <td> 0.000</td> <td>   -0.030</td> <td>   -0.016</td>\n",
       "</tr>\n",
       "<tr>\n",
       "  <th>Infant_Deaths</th>     <td>    0.0955</td> <td>    0.034</td> <td>    2.827</td> <td> 0.005</td> <td>    0.029</td> <td>    0.162</td>\n",
       "</tr>\n",
       "<tr>\n",
       "  <th>Hepatitis B</th>       <td>    0.0250</td> <td>    0.018</td> <td>    1.364</td> <td> 0.174</td> <td>   -0.011</td> <td>    0.061</td>\n",
       "</tr>\n",
       "<tr>\n",
       "  <th>Measles </th>          <td>-7.316e-05</td> <td> 5.73e-05</td> <td>   -1.276</td> <td> 0.204</td> <td>   -0.000</td> <td>    4e-05</td>\n",
       "</tr>\n",
       "<tr>\n",
       "  <th>BMI</th>               <td>   -0.0080</td> <td>    0.013</td> <td>   -0.592</td> <td> 0.555</td> <td>   -0.035</td> <td>    0.019</td>\n",
       "</tr>\n",
       "<tr>\n",
       "  <th>Underfive_Deaths </th> <td>   -0.0698</td> <td>    0.024</td> <td>   -2.861</td> <td> 0.005</td> <td>   -0.118</td> <td>   -0.022</td>\n",
       "</tr>\n",
       "<tr>\n",
       "  <th>Polio</th>             <td>    0.0133</td> <td>    0.013</td> <td>    1.024</td> <td> 0.307</td> <td>   -0.012</td> <td>    0.039</td>\n",
       "</tr>\n",
       "<tr>\n",
       "  <th>Diphtheria </th>       <td>    0.0072</td> <td>    0.023</td> <td>    0.313</td> <td> 0.754</td> <td>   -0.038</td> <td>    0.052</td>\n",
       "</tr>\n",
       "<tr>\n",
       "  <th>HIV</th>               <td>   -0.5409</td> <td>    0.226</td> <td>   -2.392</td> <td> 0.018</td> <td>   -0.987</td> <td>   -0.094</td>\n",
       "</tr>\n",
       "<tr>\n",
       "  <th>GDP</th>               <td>-9.929e-06</td> <td> 2.19e-05</td> <td>   -0.454</td> <td> 0.651</td> <td>-5.31e-05</td> <td> 3.33e-05</td>\n",
       "</tr>\n",
       "<tr>\n",
       "  <th>Population</th>        <td> 3.146e-09</td> <td> 9.56e-09</td> <td>    0.329</td> <td> 0.743</td> <td>-1.57e-08</td> <td>  2.2e-08</td>\n",
       "</tr>\n",
       "<tr>\n",
       "  <th>Malnourished10_19</th> <td>   -0.1148</td> <td>    0.247</td> <td>   -0.465</td> <td> 0.642</td> <td>   -0.602</td> <td>    0.372</td>\n",
       "</tr>\n",
       "<tr>\n",
       "  <th>Malnourished5_9</th>   <td>   -0.0781</td> <td>    0.244</td> <td>   -0.320</td> <td> 0.750</td> <td>   -0.560</td> <td>    0.404</td>\n",
       "</tr>\n",
       "<tr>\n",
       "  <th>Income_Index</th>      <td>   30.3752</td> <td>    4.239</td> <td>    7.166</td> <td> 0.000</td> <td>   22.005</td> <td>   38.745</td>\n",
       "</tr>\n",
       "<tr>\n",
       "  <th>Schooling</th>         <td>   -0.1615</td> <td>    0.167</td> <td>   -0.966</td> <td> 0.335</td> <td>   -0.491</td> <td>    0.169</td>\n",
       "</tr>\n",
       "<tr>\n",
       "  <th>Status_Developing</th> <td>   -1.4626</td> <td>    0.703</td> <td>   -2.080</td> <td> 0.039</td> <td>   -2.851</td> <td>   -0.074</td>\n",
       "</tr>\n",
       "</table>\n",
       "<table class=\"simpletable\">\n",
       "<tr>\n",
       "  <th>Omnibus:</th>       <td> 3.806</td> <th>  Durbin-Watson:     </th> <td>   1.930</td>\n",
       "</tr>\n",
       "<tr>\n",
       "  <th>Prob(Omnibus):</th> <td> 0.149</td> <th>  Jarque-Bera (JB):  </th> <td>   4.644</td>\n",
       "</tr>\n",
       "<tr>\n",
       "  <th>Skew:</th>          <td>-0.029</td> <th>  Prob(JB):          </th> <td>  0.0981</td>\n",
       "</tr>\n",
       "<tr>\n",
       "  <th>Kurtosis:</th>      <td> 3.780</td> <th>  Cond. No.          </th> <td>1.48e+11</td>\n",
       "</tr>\n",
       "</table><br/><br/>Notes:<br/>[1] Standard Errors assume that the covariance matrix of the errors is correctly specified.<br/>[2] The condition number is large, 1.48e+11. This might indicate that there are<br/>strong multicollinearity or other numerical problems."
      ],
      "text/plain": [
       "<class 'statsmodels.iolib.summary.Summary'>\n",
       "\"\"\"\n",
       "                            OLS Regression Results                            \n",
       "==============================================================================\n",
       "Dep. Variable:        Life_Expectancy   R-squared:                       0.880\n",
       "Model:                            OLS   Adj. R-squared:                  0.868\n",
       "Method:                 Least Squares   F-statistic:                     70.81\n",
       "Date:                Sun, 03 Jan 2021   Prob (F-statistic):           2.66e-66\n",
       "Time:                        09:36:28   Log-Likelihood:                -444.92\n",
       "No. Observations:                 182   AIC:                             925.8\n",
       "Df Residuals:                     164   BIC:                             983.5\n",
       "Df Model:                          17                                         \n",
       "Covariance Type:            nonrobust                                         \n",
       "=====================================================================================\n",
       "                        coef    std err          t      P>|t|      [0.025      0.975]\n",
       "-------------------------------------------------------------------------------------\n",
       "const              1617.4571   1113.508      1.453      0.148    -581.203    3816.117\n",
       "Year                 -0.7751      0.553     -1.403      0.163      -1.866       0.316\n",
       "Adult_Mortality      -0.0233      0.003     -6.693      0.000      -0.030      -0.016\n",
       "Infant_Deaths         0.0955      0.034      2.827      0.005       0.029       0.162\n",
       "Hepatitis B           0.0250      0.018      1.364      0.174      -0.011       0.061\n",
       "Measles           -7.316e-05   5.73e-05     -1.276      0.204      -0.000       4e-05\n",
       "BMI                  -0.0080      0.013     -0.592      0.555      -0.035       0.019\n",
       "Underfive_Deaths     -0.0698      0.024     -2.861      0.005      -0.118      -0.022\n",
       "Polio                 0.0133      0.013      1.024      0.307      -0.012       0.039\n",
       "Diphtheria            0.0072      0.023      0.313      0.754      -0.038       0.052\n",
       "HIV                  -0.5409      0.226     -2.392      0.018      -0.987      -0.094\n",
       "GDP               -9.929e-06   2.19e-05     -0.454      0.651   -5.31e-05    3.33e-05\n",
       "Population         3.146e-09   9.56e-09      0.329      0.743   -1.57e-08     2.2e-08\n",
       "Malnourished10_19    -0.1148      0.247     -0.465      0.642      -0.602       0.372\n",
       "Malnourished5_9      -0.0781      0.244     -0.320      0.750      -0.560       0.404\n",
       "Income_Index         30.3752      4.239      7.166      0.000      22.005      38.745\n",
       "Schooling            -0.1615      0.167     -0.966      0.335      -0.491       0.169\n",
       "Status_Developing    -1.4626      0.703     -2.080      0.039      -2.851      -0.074\n",
       "==============================================================================\n",
       "Omnibus:                        3.806   Durbin-Watson:                   1.930\n",
       "Prob(Omnibus):                  0.149   Jarque-Bera (JB):                4.644\n",
       "Skew:                          -0.029   Prob(JB):                       0.0981\n",
       "Kurtosis:                       3.780   Cond. No.                     1.48e+11\n",
       "==============================================================================\n",
       "\n",
       "Notes:\n",
       "[1] Standard Errors assume that the covariance matrix of the errors is correctly specified.\n",
       "[2] The condition number is large, 1.48e+11. This might indicate that there are\n",
       "strong multicollinearity or other numerical problems.\n",
       "\"\"\""
      ]
     },
     "execution_count": 21,
     "metadata": {},
     "output_type": "execute_result"
    }
   ],
   "source": [
    "# type your code here\n",
    "\n",
    "x=df.drop(columns='Life_Expectancy')\n",
    "y=df['Life_Expectancy']\n",
    "xc= sm.add_constant(x)\n",
    "\n",
    "model = sm.OLS(y,xc).fit()\n",
    "model.summary()"
   ]
  },
  {
   "cell_type": "markdown",
   "metadata": {},
   "source": [
    "### Conclusions:\n",
    "#### The above dataframe shows the coeffiecients of all the independent variables in the model.\n",
    "#### The negative sign signifies negative correlation with the dependent variable, ie; with the increase in these variables the life expectancy reduces. for eg: with unit increase in adult mortality rate, the life expectancy reduces by 0.02326 years\n",
    "#### The positive sign signifies positive correlation with the dependent variable, ie; with the increas in these variables the life expectancy increases. for eg: for every unit increase in Income_index, the life expectancy increases by 30.3 years\n",
    "#### But there are several features that do not contribute to the model which can be checked using the pvalue >0.05."
   ]
  },
  {
   "cell_type": "markdown",
   "metadata": {},
   "source": [
    "<a id=\"reg\"> </a>\n",
    "## 4. Regularization"
   ]
  },
  {
   "cell_type": "markdown",
   "metadata": {
    "collapsed": true
   },
   "source": [
    "<table align=\"left\">\n",
    "    <tr>\n",
    "        <td width=\"6%\">\n",
    "            <img src=\"question_icon.png\">\n",
    "        </td>\n",
    "        <td>\n",
    "            <div align=\"left\", style=\"font-size:120%\">\n",
    "                <font color=\"#21618C\">\n",
    "                    <b>12. Can we perform regression analysis without eliminating features involved in multicollinearity detected in question 11?</b>\n",
    "                </font>\n",
    "            </div>\n",
    "        </td>\n",
    "    </tr>\n",
    "\n",
    "</table>"
   ]
  },
  {
   "cell_type": "code",
   "execution_count": 34,
   "metadata": {},
   "outputs": [],
   "source": [
    "from sklearn.preprocessing import StandardScaler\n",
    "from sklearn.model_selection import train_test_split\n",
    "\n",
    "\n",
    "ss= StandardScaler()\n",
    "\n",
    "x = df.drop(columns='Life_Expectancy')\n",
    "y = df['Life_Expectancy']\n",
    "\n",
    "xtrain,xtest,ytrain,ytest = train_test_split(x,y,test_size = 0.3, random_state = 0)\n",
    "\n",
    "x_ss = ss.fit_transform(x)\n",
    "xtrain_ss = ss.fit_transform(xtrain)\n",
    "xtest_ss  = ss.transform(xtest)"
   ]
  },
  {
   "cell_type": "code",
   "execution_count": 47,
   "metadata": {
    "scrolled": true
   },
   "outputs": [
    {
     "data": {
      "text/plain": [
       "RidgeCV(alphas=array([0.001     , 0.00101394, 0.00102807, 0.0010424 , 0.00105693,\n",
       "       0.00107167, 0.00108661, 0.00110175, 0.00111711, 0.00113268,\n",
       "       0.00114847, 0.00116448, 0.00118071, 0.00119717, 0.00121386,\n",
       "       0.00123078, 0.00124794, 0.00126533, 0.00128297, 0.00130085,\n",
       "       0.00131899, 0.00133737, 0.00135602, 0.00137492, 0.00139408,\n",
       "       0.00141352, 0.00143322, 0.0014532 , 0.00147345, 0.00149399,\n",
       "       0.001...\n",
       "       0.71731749, 0.72731651, 0.73745491, 0.74773463, 0.75815765,\n",
       "       0.76872595, 0.77944158, 0.79030657, 0.80132301, 0.81249302,\n",
       "       0.82381873, 0.83530232, 0.84694598, 0.85875195, 0.87072248,\n",
       "       0.88285988, 0.89516647, 0.90764461, 0.92029668, 0.93312512,\n",
       "       0.94613238, 0.95932095, 0.97269336, 0.98625218, 1.        ]),\n",
       "        cv=5, fit_intercept=True, gcv_mode=None, normalize=False, scoring=None,\n",
       "        store_cv_values=False)"
      ]
     },
     "execution_count": 47,
     "metadata": {},
     "output_type": "execute_result"
    }
   ],
   "source": [
    "# type your code here\n",
    "from sklearn.linear_model import Ridge, RidgeCV\n",
    "from sklearn.metrics import r2_score\n",
    "\n",
    "alphas = np.logspace(-3,0,500)\n",
    "\n",
    "r_cv = RidgeCV(alphas = alphas,cv = 5)\n",
    "r_cv.fit(x_ss,y)"
   ]
  },
  {
   "cell_type": "code",
   "execution_count": 48,
   "metadata": {},
   "outputs": [
    {
     "data": {
      "text/plain": [
       "0.21511234301821672"
      ]
     },
     "execution_count": 48,
     "metadata": {},
     "output_type": "execute_result"
    }
   ],
   "source": [
    "r_cv.alpha_"
   ]
  },
  {
   "cell_type": "code",
   "execution_count": 50,
   "metadata": {},
   "outputs": [
    {
     "name": "stdout",
     "output_type": "stream",
     "text": [
      "Train r2 :  0.8975458177306752\n",
      "Test r2  :  0.8144838924080635\n"
     ]
    }
   ],
   "source": [
    "ridge = Ridge(alpha=r_cv.alpha_)\n",
    "\n",
    "ridge.fit(xtrain_ss,ytrain)\n",
    "\n",
    "ypredtrain_r = ridge.predict(xtrain_ss)\n",
    "ypredtest_r  = ridge.predict(xtest_ss)\n",
    "\n",
    "r2_train_r = r2_score(ytrain,ypredtrain_r)\n",
    "r2_test_r  = r2_score(ytest, ypredtest_r)\n",
    "\n",
    "print('Train r2 : ',r2_train_r)\n",
    "print('Test r2  : ',r2_test_r)"
   ]
  },
  {
   "cell_type": "markdown",
   "metadata": {
    "collapsed": true
   },
   "source": [
    "<table align=\"left\">\n",
    "    <tr>\n",
    "        <td width=\"6%\">\n",
    "            <img src=\"question_icon.png\">\n",
    "        </td>\n",
    "        <td>\n",
    "            <div align=\"left\", style=\"font-size:120%\">\n",
    "                <font color=\"#21618C\">\n",
    "                    <b>13. Build a model to study the impact of diseases and immunization on life expectancy. Identify the significant variables from the model. Use 'alpha = 1.5' if required.\n",
    "</b>\n",
    "                </font>\n",
    "            </div>\n",
    "        </td>\n",
    "    </tr>\n",
    "</table>"
   ]
  },
  {
   "cell_type": "code",
   "execution_count": 59,
   "metadata": {},
   "outputs": [
    {
     "data": {
      "text/html": [
       "<div>\n",
       "<style scoped>\n",
       "    .dataframe tbody tr th:only-of-type {\n",
       "        vertical-align: middle;\n",
       "    }\n",
       "\n",
       "    .dataframe tbody tr th {\n",
       "        vertical-align: top;\n",
       "    }\n",
       "\n",
       "    .dataframe thead th {\n",
       "        text-align: right;\n",
       "    }\n",
       "</style>\n",
       "<table border=\"1\" class=\"dataframe\">\n",
       "  <thead>\n",
       "    <tr style=\"text-align: right;\">\n",
       "      <th></th>\n",
       "      <th>Lasso_coeffs</th>\n",
       "    </tr>\n",
       "  </thead>\n",
       "  <tbody>\n",
       "    <tr>\n",
       "      <th>Hepatitis B</th>\n",
       "      <td>0.000000</td>\n",
       "    </tr>\n",
       "    <tr>\n",
       "      <th>Measles</th>\n",
       "      <td>-0.000000</td>\n",
       "    </tr>\n",
       "    <tr>\n",
       "      <th>Polio</th>\n",
       "      <td>1.247326</td>\n",
       "    </tr>\n",
       "    <tr>\n",
       "      <th>Diphtheria</th>\n",
       "      <td>0.924996</td>\n",
       "    </tr>\n",
       "    <tr>\n",
       "      <th>HIV</th>\n",
       "      <td>-2.612268</td>\n",
       "    </tr>\n",
       "  </tbody>\n",
       "</table>\n",
       "</div>"
      ],
      "text/plain": [
       "             Lasso_coeffs\n",
       "Hepatitis B      0.000000\n",
       "Measles         -0.000000\n",
       "Polio            1.247326\n",
       "Diphtheria       0.924996\n",
       "HIV             -2.612268"
      ]
     },
     "execution_count": 59,
     "metadata": {},
     "output_type": "execute_result"
    }
   ],
   "source": [
    "# type your code here\n",
    "from sklearn.preprocessing import StandardScaler\n",
    "from sklearn.linear_model import Lasso\n",
    "\n",
    "ss = StandardScaler()\n",
    "\n",
    "x  = df[['Hepatitis B','Measles ','Polio','Diphtheria ','HIV']]\n",
    "y  = df['Life_Expectancy']\n",
    "\n",
    "xtrain,xtest,ytrain,ytest = train_test_split(x,y,test_size=0.3,random_state=0)\n",
    "\n",
    "x_ss      = ss.fit_transform(x)\n",
    "xtrain_ss = ss.fit_transform(xtrain)\n",
    "xtest_ss  = ss.transform(xtest)\n",
    "\n",
    "lasso = Lasso(alpha = 1.5)\n",
    "\n",
    "lasso.fit(xtrain_ss,ytrain)\n",
    "\n",
    "pd.DataFrame(lasso.coef_,index=x.columns,columns= ['Lasso_coeffs'])"
   ]
  },
  {
   "cell_type": "markdown",
   "metadata": {},
   "source": [
    "## Conclusion:\n",
    "#### From the above dataframe we can conclude that the features with non zero coefficients are significant, ie; Polio, Diphtheria, HIV"
   ]
  },
  {
   "cell_type": "markdown",
   "metadata": {
    "collapsed": true
   },
   "source": [
    "<table align=\"left\">\n",
    "    <tr>\n",
    "        <td width=\"6%\">\n",
    "            <img src=\"question_icon.png\">\n",
    "        </td>\n",
    "        <td>\n",
    "            <div align=\"left\", style=\"font-size:120%\">\n",
    "                <font color=\"#21618C\">\n",
    "                    <b>14. Build a model to study the impact of malnutrition and diseases on life expectancy. Identify the insignificant variables from the model. Use 'alpha = 1' if required.</b>\n",
    "                </font>\n",
    "            </div>\n",
    "        </td>\n",
    "    </tr>\n",
    "</table>"
   ]
  },
  {
   "cell_type": "code",
   "execution_count": 61,
   "metadata": {},
   "outputs": [
    {
     "data": {
      "text/html": [
       "<div>\n",
       "<style scoped>\n",
       "    .dataframe tbody tr th:only-of-type {\n",
       "        vertical-align: middle;\n",
       "    }\n",
       "\n",
       "    .dataframe tbody tr th {\n",
       "        vertical-align: top;\n",
       "    }\n",
       "\n",
       "    .dataframe thead th {\n",
       "        text-align: right;\n",
       "    }\n",
       "</style>\n",
       "<table border=\"1\" class=\"dataframe\">\n",
       "  <thead>\n",
       "    <tr style=\"text-align: right;\">\n",
       "      <th></th>\n",
       "      <th>Lasso Coeffs</th>\n",
       "    </tr>\n",
       "  </thead>\n",
       "  <tbody>\n",
       "    <tr>\n",
       "      <th>Measles</th>\n",
       "      <td>-0.000000</td>\n",
       "    </tr>\n",
       "    <tr>\n",
       "      <th>HIV</th>\n",
       "      <td>-3.660492</td>\n",
       "    </tr>\n",
       "    <tr>\n",
       "      <th>Malnourished10_19</th>\n",
       "      <td>-0.000000</td>\n",
       "    </tr>\n",
       "    <tr>\n",
       "      <th>Malnourished5_9</th>\n",
       "      <td>-2.170585</td>\n",
       "    </tr>\n",
       "  </tbody>\n",
       "</table>\n",
       "</div>"
      ],
      "text/plain": [
       "                   Lasso Coeffs\n",
       "Measles               -0.000000\n",
       "HIV                   -3.660492\n",
       "Malnourished10_19     -0.000000\n",
       "Malnourished5_9       -2.170585"
      ]
     },
     "execution_count": 61,
     "metadata": {},
     "output_type": "execute_result"
    }
   ],
   "source": [
    "# type your code here\n",
    "x = df[['Measles ','HIV','Malnourished10_19','Malnourished5_9']]\n",
    "y = df['Life_Expectancy']\n",
    "\n",
    "xtrain, xtest, ytrain,ytest = train_test_split(x,y,test_size = 0.3, random_state = 0)\n",
    "\n",
    "x_ss = ss.fit_transform(x)\n",
    "xtrain_ss = ss.fit_transform(xtrain)\n",
    "xtest_ss  = ss.transform(xtest)\n",
    "\n",
    "lasso = Lasso(alpha = 1)\n",
    "\n",
    "lasso.fit(xtrain_ss,ytrain)\n",
    "pd.DataFrame(lasso.coef_,index= x.columns, columns = ['Lasso Coeffs'])"
   ]
  },
  {
   "cell_type": "markdown",
   "metadata": {},
   "source": [
    "## Conclusions:\n",
    "#### From the dataframe, the variables with non zero coeffs are the significant variables, ie; HIV, Malnourished5_9"
   ]
  },
  {
   "cell_type": "markdown",
   "metadata": {
    "collapsed": true
   },
   "source": [
    "<table align=\"left\">\n",
    "    <tr>\n",
    "        <td width=\"6%\">\n",
    "            <img src=\"question_icon.png\">\n",
    "        </td>\n",
    "        <td>\n",
    "            <div align=\"left\", style=\"font-size:120%\">\n",
    "                <font color=\"#21618C\">\n",
    "                    <b>15. Build a full model using the elastic net regression. Use 'alpha = 0.1' and 'l1_ratio=0.001'. Also, compute the RMSE for train and test sets.\n",
    " </b>\n",
    "                </font>\n",
    "            </div>\n",
    "        </td>\n",
    "    </tr>\n",
    "</table>"
   ]
  },
  {
   "cell_type": "code",
   "execution_count": 63,
   "metadata": {
    "scrolled": true
   },
   "outputs": [
    {
     "name": "stdout",
     "output_type": "stream",
     "text": [
      "RMSE for train Elastic Net Model =  6.967148370620074\n",
      "RMSE for test Elastic Net Model  =  13.188187662874578\n"
     ]
    }
   ],
   "source": [
    "# type your code here\n",
    "from sklearn.linear_model import ElasticNet\n",
    "from sklearn.metrics import mean_squared_error\n",
    "\n",
    "y = df['Life_Expectancy']\n",
    "x = df.drop(columns = 'Life_Expectancy')\n",
    "\n",
    "xtrain, xtest, ytrain, ytest = train_test_split(x,y, test_size = 0.3, random_state = 0)\n",
    "\n",
    "xtrain_ss =  ss.fit_transform(xtrain)\n",
    "xtest_ss  =  ss.transform(xtest)\n",
    "\n",
    "enet = ElasticNet(alpha=0.1,l1_ratio=0.001)\n",
    "enet.fit(xtrain_ss,ytrain)\n",
    "\n",
    "ypred_train_e = enet.predict(xtrain_ss)\n",
    "ypred_test_e  = enet.predict(xtest_ss)\n",
    "\n",
    "rmse_train = mean_squared_error(ytrain,ypred_train_e)\n",
    "rmse_test  = mean_squared_error(ytest,ypred_test_e)\n",
    "\n",
    "print('RMSE for train Elastic Net Model = ',rmse_train)\n",
    "print('RMSE for test Elastic Net Model  = ',rmse_test)"
   ]
  },
  {
   "cell_type": "markdown",
   "metadata": {},
   "source": [
    "Model is over fitting as rmse for test set is almost double that of train set"
   ]
  },
  {
   "cell_type": "markdown",
   "metadata": {
    "collapsed": true
   },
   "source": [
    "<table align=\"left\">\n",
    "    <tr>\n",
    "        <td width=\"6%\">\n",
    "            <img src=\"question_icon.png\">\n",
    "        </td>\n",
    "        <td>\n",
    "            <div align=\"left\", style=\"font-size:120%\">\n",
    "                <font color=\"#21618C\">\n",
    "                    <b>16. Build a full model. Identify the features that are significantly influencing the life expectancy. Use 'alpha = 0.5' if required. </b>\n",
    "                </font>\n",
    "            </div>\n",
    "        </td>\n",
    "    </tr>\n",
    "</table>"
   ]
  },
  {
   "cell_type": "code",
   "execution_count": 69,
   "metadata": {
    "scrolled": true
   },
   "outputs": [
    {
     "name": "stdout",
     "output_type": "stream",
     "text": [
      "The significant variables with non zero coeffs are :\n"
     ]
    },
    {
     "data": {
      "text/html": [
       "<div>\n",
       "<style scoped>\n",
       "    .dataframe tbody tr th:only-of-type {\n",
       "        vertical-align: middle;\n",
       "    }\n",
       "\n",
       "    .dataframe tbody tr th {\n",
       "        vertical-align: top;\n",
       "    }\n",
       "\n",
       "    .dataframe thead th {\n",
       "        text-align: right;\n",
       "    }\n",
       "</style>\n",
       "<table border=\"1\" class=\"dataframe\">\n",
       "  <thead>\n",
       "    <tr style=\"text-align: right;\">\n",
       "      <th></th>\n",
       "      <th>Lasso_coeffs</th>\n",
       "    </tr>\n",
       "  </thead>\n",
       "  <tbody>\n",
       "    <tr>\n",
       "      <th>Adult_Mortality</th>\n",
       "      <td>-2.127882</td>\n",
       "    </tr>\n",
       "    <tr>\n",
       "      <th>Hepatitis B</th>\n",
       "      <td>0.128865</td>\n",
       "    </tr>\n",
       "    <tr>\n",
       "      <th>Polio</th>\n",
       "      <td>0.152843</td>\n",
       "    </tr>\n",
       "    <tr>\n",
       "      <th>Diphtheria</th>\n",
       "      <td>0.561193</td>\n",
       "    </tr>\n",
       "    <tr>\n",
       "      <th>HIV</th>\n",
       "      <td>-0.859409</td>\n",
       "    </tr>\n",
       "    <tr>\n",
       "      <th>Malnourished10_19</th>\n",
       "      <td>-0.319802</td>\n",
       "    </tr>\n",
       "    <tr>\n",
       "      <th>Income_Index</th>\n",
       "      <td>3.991726</td>\n",
       "    </tr>\n",
       "    <tr>\n",
       "      <th>Status_Developing</th>\n",
       "      <td>-0.186406</td>\n",
       "    </tr>\n",
       "  </tbody>\n",
       "</table>\n",
       "</div>"
      ],
      "text/plain": [
       "                   Lasso_coeffs\n",
       "Adult_Mortality       -2.127882\n",
       "Hepatitis B            0.128865\n",
       "Polio                  0.152843\n",
       "Diphtheria             0.561193\n",
       "HIV                   -0.859409\n",
       "Malnourished10_19     -0.319802\n",
       "Income_Index           3.991726\n",
       "Status_Developing     -0.186406"
      ]
     },
     "execution_count": 69,
     "metadata": {},
     "output_type": "execute_result"
    }
   ],
   "source": [
    "# type your code here\n",
    "\n",
    "from sklearn.preprocessing import StandardScaler\n",
    "from sklearn.linear_model import Lasso\n",
    "\n",
    "ss = StandardScaler()\n",
    "\n",
    "x  = df.drop(columns='Life_Expectancy')\n",
    "y  = df['Life_Expectancy']\n",
    "\n",
    "xtrain,xtest,ytrain,ytest = train_test_split(x,y,test_size=0.3,random_state=0)\n",
    "\n",
    "x_ss      = ss.fit_transform(x)\n",
    "xtrain_ss = ss.fit_transform(xtrain)\n",
    "xtest_ss  = ss.transform(xtest)\n",
    "\n",
    "lasso = Lasso(alpha = 0.5)\n",
    "\n",
    "lasso.fit(xtrain_ss,ytrain)\n",
    "\n",
    "cf=pd.DataFrame(lasso.coef_,index=x.columns,columns= ['Lasso_coeffs'])\n",
    "\n",
    "print('The significant variables with non zero coeffs are :')\n",
    "cf[np.abs(cf['Lasso_coeffs'])>0.000000]"
   ]
  },
  {
   "cell_type": "markdown",
   "metadata": {},
   "source": [
    "<a id=\"gs\"> </a>\n",
    "## 5. Grid Search "
   ]
  },
  {
   "cell_type": "markdown",
   "metadata": {
    "collapsed": true
   },
   "source": [
    "<table align=\"left\">\n",
    "    <tr>\n",
    "        <td width=\"6%\">\n",
    "            <img src=\"question_icon.png\">\n",
    "        </td>\n",
    "        <td>\n",
    "            <div align=\"left\", style=\"font-size:120%\">\n",
    "                <font color=\"#21618C\">\n",
    "                    <b>17. If ridge regression is used to build a full model. Which value is the best alpha from the list of values?<br><br>Consider the alpha values: [7,8,9,10,11]</b>\n",
    "                </font>\n",
    "            </div>\n",
    "        </td>\n",
    "    </tr>\n",
    "</table>"
   ]
  },
  {
   "cell_type": "code",
   "execution_count": 71,
   "metadata": {
    "scrolled": true
   },
   "outputs": [
    {
     "data": {
      "text/plain": [
       "RidgeCV(alphas=array([ 7,  8,  9, 10, 11]), cv=5, fit_intercept=True,\n",
       "        gcv_mode=None, normalize=False, scoring='r2', store_cv_values=False)"
      ]
     },
     "execution_count": 71,
     "metadata": {},
     "output_type": "execute_result"
    }
   ],
   "source": [
    "# type your code here\n",
    "from sklearn.linear_model import RidgeCV\n",
    "\n",
    "x  = df.drop(columns='Life_Expectancy')\n",
    "y  = df['Life_Expectancy']\n",
    "\n",
    "ss = StandardScaler()\n",
    "\n",
    "x_ss      = ss.fit_transform(x)\n",
    "\n",
    "ridgecv = RidgeCV(alphas=[7,8,9,10,11],cv=5,scoring = 'r2')\n",
    "\n",
    "ridgecv.fit(x_ss,y)"
   ]
  },
  {
   "cell_type": "code",
   "execution_count": 78,
   "metadata": {},
   "outputs": [
    {
     "name": "stdout",
     "output_type": "stream",
     "text": [
      "The best value of alpha for Ridge is :  11\n"
     ]
    }
   ],
   "source": [
    "print('The best value of alpha for Ridge is : ',ridgecv.alpha_)"
   ]
  },
  {
   "cell_type": "markdown",
   "metadata": {
    "collapsed": true
   },
   "source": [
    "<table align=\"left\">\n",
    "    <tr>\n",
    "        <td width=\"6%\">\n",
    "            <img src=\"question_icon.png\">\n",
    "        </td>\n",
    "        <td>\n",
    "            <div align=\"left\", style=\"font-size:120%\">\n",
    "                <font color=\"#21618C\">\n",
    "                    <b>18. If lasso regression is used to build a full model. Which value is the best alpha from the list of values?<br><br>Consider the alpha values: [7,8,9,10,11]</b>\n",
    "                </font>\n",
    "            </div>\n",
    "        </td>\n",
    "    </tr>\n",
    "</table>"
   ]
  },
  {
   "cell_type": "code",
   "execution_count": 79,
   "metadata": {},
   "outputs": [
    {
     "data": {
      "text/plain": [
       "LassoCV(alphas=[7, 8, 9, 10, 11], copy_X=True, cv=5, eps=0.001,\n",
       "        fit_intercept=True, max_iter=1000, n_alphas=100, n_jobs=None,\n",
       "        normalize=False, positive=False, precompute='auto', random_state=None,\n",
       "        selection='cyclic', tol=0.0001, verbose=False)"
      ]
     },
     "execution_count": 79,
     "metadata": {},
     "output_type": "execute_result"
    }
   ],
   "source": [
    "# type your code here\n",
    "from sklearn.linear_model import LassoCV\n",
    "\n",
    "x  = df.drop(columns='Life_Expectancy')\n",
    "y  = df['Life_Expectancy']\n",
    "\n",
    "ss = StandardScaler()\n",
    "\n",
    "x_ss      = ss.fit_transform(x)\n",
    "\n",
    "lasscv =LassoCV(alphas= [7,8,9,10,11],cv= 5)\n",
    "\n",
    "lasscv.fit(x_ss,y)"
   ]
  },
  {
   "cell_type": "code",
   "execution_count": 80,
   "metadata": {},
   "outputs": [
    {
     "name": "stdout",
     "output_type": "stream",
     "text": [
      "The best alpha for Lasso is :  7\n"
     ]
    }
   ],
   "source": [
    "print('The best alpha for Lasso is : ',lasscv.alpha_)"
   ]
  },
  {
   "cell_type": "markdown",
   "metadata": {
    "collapsed": true
   },
   "source": [
    "<table align=\"left\">\n",
    "    <tr>\n",
    "        <td width=\"6%\">\n",
    "            <img src=\"question_icon.png\">\n",
    "        </td>\n",
    "        <td>\n",
    "            <div align=\"left\", style=\"font-size:120%\">\n",
    "                <font color=\"#21618C\">\n",
    "                    <b>19. Perform regression analysis to study the impact of malnutrition and diseases on life expectancy. Determine the optimal value of alpha and mixing parameter if elastic net regression is used to build the model. Consider the following list of values:<br><br> alpha : [0.1,0.5,1,1.5,2,2.5,3,3.5,4]<br> l1_ratio : [0.5,0.55,0.6,0.65,0.7,0.75,0.8,0.85,0.9] </b>\n",
    "                </font>\n",
    "            </div>\n",
    "        </td>\n",
    "    </tr>\n",
    "</table>"
   ]
  },
  {
   "cell_type": "code",
   "execution_count": 87,
   "metadata": {},
   "outputs": [
    {
     "data": {
      "text/plain": [
       "ElasticNetCV(alphas=[0.1, 0.5, 1, 1.5, 2, 2.5, 3, 3.5, 4], copy_X=True, cv=None,\n",
       "             eps=0.001, fit_intercept=True,\n",
       "             l1_ratio=[0.5, 0.55, 0.6, 0.65, 0.7, 0.75, 0.8, 0.85, 0.9],\n",
       "             max_iter=1000, n_alphas=100, n_jobs=None, normalize=False,\n",
       "             positive=False, precompute='auto', random_state=None,\n",
       "             selection='cyclic', tol=0.0001, verbose=0)"
      ]
     },
     "execution_count": 87,
     "metadata": {},
     "output_type": "execute_result"
    }
   ],
   "source": [
    "# type your code here\n",
    "from sklearn.linear_model import ElasticNetCV\n",
    "\n",
    "x = df[['Measles ','HIV','Malnourished10_19','Malnourished5_9']]\n",
    "y = df['Life_Expectancy']\n",
    "\n",
    "xtrain, xtest, ytrain,ytest = train_test_split(x,y,test_size = 0.3, random_state = 0)\n",
    "\n",
    "x_ss = ss.fit_transform(x)\n",
    "xtrain_ss = ss.fit_transform(xtrain)\n",
    "xtest_ss  = ss.transform(xtest)\n",
    "\n",
    "enetcv=ElasticNetCV(alphas=[0.1,0.5,1,1.5,2,2.5,3,3.5,4],l1_ratio=[0.5,0.55,0.6,0.65,0.7,0.75,0.8,0.85,0.9])\n",
    "enetcv.fit(x_ss,y)"
   ]
  },
  {
   "cell_type": "code",
   "execution_count": 89,
   "metadata": {},
   "outputs": [
    {
     "name": "stdout",
     "output_type": "stream",
     "text": [
      "The best alpha is     :  0.5\n",
      "The best l1_ratio is  :  0.7\n"
     ]
    }
   ],
   "source": [
    "print('The best alpha is     : ',enetcv.alpha_)\n",
    "print('The best l1_ratio is  : ',enetcv.l1_ratio_)"
   ]
  },
  {
   "cell_type": "code",
   "execution_count": 90,
   "metadata": {},
   "outputs": [
    {
     "name": "stdout",
     "output_type": "stream",
     "text": [
      "R2 value for train ENET :  0.5319898587669215\n",
      "R2 value for test ENET  :  0.34600399003396964\n"
     ]
    }
   ],
   "source": [
    "enet = ElasticNet(alpha=enetcv.alpha_,l1_ratio=enetcv.l1_ratio_)\n",
    "\n",
    "enet.fit(xtrain_ss,ytrain)\n",
    "\n",
    "ypred_train_e = enet.predict(xtrain_ss)\n",
    "ypred_test_e  = enet.predict(xtest_ss)\n",
    "\n",
    "print('R2 value for train ENET : ',r2_score(ytrain,ypred_train_e))\n",
    "print('R2 value for test ENET  : ',r2_score(ytest, ypred_test_e))"
   ]
  },
  {
   "cell_type": "markdown",
   "metadata": {
    "collapsed": true
   },
   "source": [
    "<table align=\"left\">\n",
    "    <tr>\n",
    "        <td width=\"6%\">\n",
    "            <img src=\"question_icon.png\">\n",
    "        </td>\n",
    "        <td>\n",
    "            <div align=\"left\", style=\"font-size:120%\">\n",
    "                <font color=\"#21618C\">\n",
    "                    <b>20. Build a full model. Select the optimal value for elastic net mixing parameter if the alpha value is 0.8<br><br>Consider the values: l1_ratio : [0.001, 0.005, 0.01, 0.05, 0.1, 0.5, 1]</b>\n",
    "                </font>\n",
    "            </div>\n",
    "        </td>\n",
    "    </tr>\n",
    "</table>"
   ]
  },
  {
   "cell_type": "code",
   "execution_count": 93,
   "metadata": {
    "scrolled": true
   },
   "outputs": [
    {
     "name": "stdout",
     "output_type": "stream",
     "text": [
      "The best alpha is     :  0.8\n",
      "The best l1_ratio is  :  1.0\n"
     ]
    }
   ],
   "source": [
    "# type your code here\n",
    "\n",
    "x  = df.drop(columns='Life_Expectancy')\n",
    "y  = df['Life_Expectancy']\n",
    "\n",
    "ss = StandardScaler()\n",
    "\n",
    "x_ss      = ss.fit_transform(x)\n",
    "xtrain_ss = ss.fit_transform(xtrain)\n",
    "xtest_ss  = ss.transform(xtest)\n",
    "\n",
    "enetcv = ElasticNetCV(alphas = [0.8],l1_ratio=[0.001, 0.005, 0.01, 0.05, 0.1, 0.5, 1])\n",
    "\n",
    "enetcv.fit(x_ss,y)\n",
    "\n",
    "print('The best alpha is     : ',enetcv.alpha_)\n",
    "print('The best l1_ratio is  : ',enetcv.l1_ratio_)"
   ]
  },
  {
   "cell_type": "code",
   "execution_count": 94,
   "metadata": {},
   "outputs": [
    {
     "name": "stdout",
     "output_type": "stream",
     "text": [
      "R2 value for train ENET :  0.5290637674375633\n",
      "R2 value for test ENET  :  0.35848557958744165\n"
     ]
    }
   ],
   "source": [
    "enet= ElasticNet(alpha = 0.8,l1_ratio=1)\n",
    "\n",
    "enet.fit(xtrain_ss,ytrain)\n",
    "\n",
    "ypred_train_e = enet.predict(xtrain_ss)\n",
    "ypred_test_e  = enet.predict(xtest_ss)\n",
    "\n",
    "print('R2 value for train ENET : ',r2_score(ytrain,ypred_train_e))\n",
    "print('R2 value for test ENET  : ',r2_score(ytest, ypred_test_e))"
   ]
  }
 ],
 "metadata": {
  "kernelspec": {
   "display_name": "Python 3",
   "language": "python",
   "name": "python3"
  },
  "language_info": {
   "codemirror_mode": {
    "name": "ipython",
    "version": 3
   },
   "file_extension": ".py",
   "mimetype": "text/x-python",
   "name": "python",
   "nbconvert_exporter": "python",
   "pygments_lexer": "ipython3",
   "version": "3.8.3"
  }
 },
 "nbformat": 4,
 "nbformat_minor": 2
}
