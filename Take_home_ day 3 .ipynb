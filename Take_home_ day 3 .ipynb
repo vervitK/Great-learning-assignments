{
 "cells": [
  {
   "cell_type": "markdown",
   "metadata": {
    "colab_type": "text",
    "collapsed": true,
    "id": "DLRw-o6IPftV"
   },
   "source": [
    "## TAKE HOME EXERCISE "
   ]
  },
  {
   "cell_type": "markdown",
   "metadata": {
    "colab_type": "raw",
    "id": "bsPn-kkfPftX"
   },
   "source": [
    "Example: The following data represent the amount of soft drink filled in a sample of 50 consecutive 2-liter bottles as shown below:\n",
    "\n",
    "|       |       |       |       |       |       |       |       |       |       |\n",
    "| ----- | ----- | ----- | ----- | ----- | ----- | ----- | ----- | ----- | ----- |\n",
    "| 2.109 | 2.086 | 2.066 | 2.075 | 2.065 | 2.057 | 2.052 | 2.044 | 2.036 | 2.038 | \n",
    "| 2.031 | 2.029 | 2.025 | 2.029 | 2.023 | 2.020 | 2.015 | 2.014 | 2.013 | 2.014 | \n",
    "| 2.012 | 2.012 | 2.012 | 2.010 | 2.005 | 2.003 | 1.999 | 1.996 | 1.997 | 1.992 | \n",
    "| 1.994 | 1.986 | 1.984 | 1.981 | 1.973 | 1.975 | 1.971 | 1.969 | 1.966 | 1.967 | \n",
    "| 1.963 | 1.957 | 1.951 | 1.951 | 1.947 | 1.941 | 1.941 | 1.938 | 1.908 | 1.894 | \n",
    "\n",
    "At 5% level of significance, is there evidence that the mean amount of soft drink filled is different from 2 litres? \n"
   ]
  },
  {
   "cell_type": "markdown",
   "metadata": {
    "colab_type": "text",
    "id": "AqIgXlnbPftZ"
   },
   "source": [
    "#### 1.Use the following piece of code and try t test for one sample"
   ]
  },
  {
   "cell_type": "code",
   "execution_count": 1,
   "metadata": {
    "colab": {},
    "colab_type": "code",
    "id": "h13xm2aaPfta",
    "outputId": "8c028ee9-1e84-4b2d-d355-cfb3dbaca8e5"
   },
   "outputs": [
    {
     "name": "stdout",
     "output_type": "stream",
     "text": [
      "Mean is 2.00 and standard deviation is 0.04\n"
     ]
    }
   ],
   "source": [
    "import numpy       as np\n",
    "import scipy.stats as stats\n",
    "volume = np.array([2.109, 2.086, 2.066, 2.075, 2.065, 2.057, 2.052, 2.044, 2.036, 2.038, \\\n",
    "                   2.031, 2.029, 2.025, 2.029, 2.023, 2.020, 2.015, 2.014, 2.013, 2.014,\\\n",
    "                   2.012, 2.012, 2.012, 2.010, 2.005, 2.003, 1.999, 1.996, 1.997, 1.992,\\\n",
    "                   1.994, 1.986, 1.984, 1.981, 1.973, 1.975, 1.971, 1.969, 1.966, 1.967,\\\n",
    "                   1.963, 1.957, 1.951, 1.951, 1.947, 1.941, 1.941, 1.938, 1.908, 1.894])\n",
    "\n",
    "print('Mean is %3.2f and standard deviation is %3.2f' %(volume.mean(),np.std(volume,ddof = 1)))"
   ]
  },
  {
   "cell_type": "code",
   "execution_count": 36,
   "metadata": {},
   "outputs": [
    {
     "name": "stdout",
     "output_type": "stream",
     "text": [
      "Mean and Standard Error of Sampling Distribution is 2.00072 , 0.006302253565193959\n"
     ]
    }
   ],
   "source": [
    "mu = 2\n",
    "n= 50\n",
    "xbar = volume.mean()\n",
    "s = np.std(volume , ddof=1)\n",
    "se = s / np.sqrt(n)\n",
    "print('Mean and Standard Error of Sampling Distribution is' ,xbar ,',', se)"
   ]
  },
  {
   "cell_type": "raw",
   "metadata": {},
   "source": [
    "H1 : new_mu != 2\n",
    "H0 : new_mu = 2"
   ]
  },
  {
   "cell_type": "code",
   "execution_count": 37,
   "metadata": {},
   "outputs": [
    {
     "name": "stdout",
     "output_type": "stream",
     "text": [
      "P Value\n",
      "P-Value is  0.9095105442498921\n",
      "P-Value is more than 5%. Hence Fail to Reject Null \n",
      "\n",
      "Critical ValueS\n",
      "2.0126648526860853\n",
      "1.987335147313915\n",
      "The sample mean is 2.00072\n",
      "Observed sample mean lies in the Acceptance Region. Hence Fail to Reject Null \n",
      "\n",
      "T Method\n",
      "T-Statistic\n",
      "0.11424484790269987\n",
      "What are the Critical values in the Z-scale\n",
      "2.0095752344892093\n",
      "-2.009575234489209\n",
      "As t satistics is between critical values of  tscale . Hence Fail to Reject Null\n"
     ]
    }
   ],
   "source": [
    "### T test:\n",
    "\n",
    "#P_Value\n",
    "print(\"P Value\")\n",
    "p_value = ( 1 -  stats.t.cdf( x = xbar ,loc= mu , scale = se , df =n-1 )) * 2\n",
    "print(\"P-Value is \" , p_value)\n",
    "print(\"P-Value is more than 5%. Hence Fail to Reject Null \\n\")\n",
    "\n",
    "#Critical Values\n",
    "print(\"Critical ValueS\")\n",
    "print(stats.t.isf(0.025,loc=mu,scale=se ,df= n- 1))\n",
    "print(stats.t.isf(0.975,loc=mu,scale=se, df=n-1))\n",
    "print('The sample mean is',xbar)\n",
    "print(\"Observed sample mean lies in the Acceptance Region. Hence Fail to Reject Null \\n\")\n",
    "\n",
    "#T Statistic\n",
    "print(\"T Method\")\n",
    "print(\"T-Statistic\")\n",
    "t = (xbar-mu)/se\n",
    "print(t)\n",
    "print(\"What are the Critical values in the Z-scale\")\n",
    "print(stats.t.isf(0.025,loc=0,scale=1,df=n-1))\n",
    "print(stats.t.isf(0.975,loc=0,scale=1,df=n-1))\n",
    "print('As t satistics is between critical values of  tscale . Hence Fail to Reject Null')"
   ]
  },
  {
   "cell_type": "markdown",
   "metadata": {
    "colab_type": "text",
    "id": "EU-Xuwr3yQL-"
   },
   "source": [
    "#### 2. The hardness data of 25 samples of annealed iron is given below: 174 179 179 187 179 183 179 156 163 156 187 156 167 156 174 170 183 179 174 179 170 159 187 At 5% level of significance, can you say that the hardness is greater than 170?\n"
   ]
  },
  {
   "cell_type": "raw",
   "metadata": {},
   "source": [
    "H1 : new_mu <= 170\n",
    "H0 : new_mu > 170"
   ]
  },
  {
   "cell_type": "code",
   "execution_count": 38,
   "metadata": {},
   "outputs": [],
   "source": [
    "sample = np.array([174, 179, 179, 187, 179, 183 ,179 ,156 ,163 ,156, 187 ,156 ,167 ,156 ,174, 170, 183 ,179, 174 ,179, 170 ,159, 187])"
   ]
  },
  {
   "cell_type": "code",
   "execution_count": 39,
   "metadata": {},
   "outputs": [],
   "source": [
    "mu = 170\n",
    "xbar = np.mean(sample)\n",
    "s = np.std(sample , ddof=1)\n",
    "n = 25\n",
    "se = s / np.sqrt(n)"
   ]
  },
  {
   "cell_type": "code",
   "execution_count": 40,
   "metadata": {},
   "outputs": [
    {
     "data": {
      "text/plain": [
       "(172.8695652173913, 2.1373767675916)"
      ]
     },
     "execution_count": 40,
     "metadata": {},
     "output_type": "execute_result"
    }
   ],
   "source": [
    "xbar,se"
   ]
  },
  {
   "cell_type": "code",
   "execution_count": 43,
   "metadata": {},
   "outputs": [
    {
     "name": "stdout",
     "output_type": "stream",
     "text": [
      "P Value\n",
      "P-Value is  0.09598747567914134\n",
      "P-Value is more than 5%. Hence Fail to Reject Null \n",
      "\n",
      "Critical ValueS\n",
      "173.6567996096872\n",
      "The sample mean is 172.8695652173913\n",
      "Observed sample mean lies in the Acceptance Region. Hence Fail to Reject Null \n",
      "\n",
      "T Method\n",
      "T-Statistic\n",
      "1.3425640537043655\n",
      "What are the Critical values in the Z-scale\n",
      "1.7108820799094282\n",
      "As t satistics is lower than positive critical values of  tscale . Hence Fail to Reject Null\n"
     ]
    }
   ],
   "source": [
    "### 1 tailed Right tailed T test:\n",
    "\n",
    "#P_Value\n",
    "print(\"P Value\")\n",
    "p_value = ( 1 -  stats.t.cdf( x = xbar ,loc= mu , scale = se , df =n-1 ))\n",
    "print(\"P-Value is \" , p_value)\n",
    "print(\"P-Value is more than 5%. Hence Fail to Reject Null \\n\")\n",
    "\n",
    "#Critical Values\n",
    "print(\"Critical ValueS\")\n",
    "print(stats.t.isf(0.05,loc=mu,scale=se ,df= n- 1))\n",
    "print('The sample mean is',xbar)\n",
    "print(\"Observed sample mean lies in the Acceptance Region. Hence Fail to Reject Null \\n\")\n",
    "\n",
    "#T Statistic\n",
    "print(\"T Method\")\n",
    "print(\"T-Statistic\")\n",
    "t = (xbar-mu)/se\n",
    "print(t)\n",
    "print(\"What are the Critical values in the Z-scale\")\n",
    "print(stats.t.isf(0.05,loc=0,scale=1,df=n-1))\n",
    "print('As t satistics is lower than positive critical values of  tscale . Hence Fail to Reject Null')"
   ]
  },
  {
   "cell_type": "code",
   "execution_count": 45,
   "metadata": {},
   "outputs": [
    {
     "name": "stdout",
     "output_type": "stream",
     "text": [
      "0.10560872829937401\n"
     ]
    }
   ],
   "source": [
    "a, p_value = stats.ttest_1samp(sample,mu)\n",
    "print(p_value/2)"
   ]
  },
  {
   "cell_type": "markdown",
   "metadata": {},
   "source": [
    "##### Observation : As p value is greter than 0.05, We fail to reject NULL. We can NOT say that the hardness is greater than 170."
   ]
  },
  {
   "cell_type": "markdown",
   "metadata": {
    "colab_type": "text",
    "id": "8hooxoHjPfti"
   },
   "source": [
    "**3. Sugar consumption in grams of 20 patients (both diabetic and non-diabetic) are given below:**\n",
    "\n",
    "*At 5% level of significance, is there any evidence that the mean sugar consumption is different for diabetic and non-diabetic?    \n",
    "In the following table, 0 means diabetic and 1 means non-diabetic.*\n",
    "    "
   ]
  },
  {
   "cell_type": "code",
   "execution_count": 46,
   "metadata": {
    "colab": {},
    "colab_type": "code",
    "id": "raDssEELPftj"
   },
   "outputs": [],
   "source": [
    "import numpy       as np\n",
    "import scipy.stats as stats\n",
    "weight               = np.array([[9.31, 0],[7.76, 0],[6.98, 1],[7.88, 1],[8.49, 1],[10.05, 1],[8.80, 1],[10.88, 1],[6.13, 1],[7.90, 1], \\\n",
    "                            [11.51, 0],[12.59, 0],[7.05, 1],[11.85, 0],[9.99, 0],[7.48, 0],[8.79, 0],[8.69, 1],[9.68, 0],[8.58, 1],\\\n",
    "                           [9.19, 0],[8.11, 1]])\n",
    "\n",
    "sugar_diabetic       = weight[:,1] == 0\n",
    "sugar_diabetic       = weight[sugar_diabetic][:,0]\n",
    "sugar_nondiabetic    = weight[:,1] == 1\n",
    "sugar_nondiabetic    = weight[sugar_nondiabetic][:,0] "
   ]
  },
  {
   "cell_type": "markdown",
   "metadata": {
    "colab_type": "text",
    "id": "D35XTo8ayoek"
   },
   "source": [
    "### Hint: Independent two samples test"
   ]
  },
  {
   "cell_type": "code",
   "execution_count": 50,
   "metadata": {},
   "outputs": [
    {
     "data": {
      "text/plain": [
       "Ttest_indResult(statistic=-25.187563486532976, pvalue=1.1442394057191118e-22)"
      ]
     },
     "execution_count": 50,
     "metadata": {},
     "output_type": "execute_result"
    }
   ],
   "source": [
    "stats.ttest_ind(sugar_diabetic,sugar_nondiabetic)"
   ]
  },
  {
   "cell_type": "markdown",
   "metadata": {},
   "source": [
    "##### # Observation : As p value is very less than 0.05, We reject Null . We can conclude there is significant difference in mean sugar consumption of diabetic and non diabetic patients. Also We can say that there is strong relationship between Sugar Consumption and vulnerability to dibetics."
   ]
  },
  {
   "cell_type": "markdown",
   "metadata": {},
   "source": [
    "  "
   ]
  },
  {
   "cell_type": "markdown",
   "metadata": {
    "colab_type": "text",
    "id": "GXl2s3iXPftp"
   },
   "source": [
    "**4. The delivery time of Pizza from an online food delivery service firm and the home delivery from a local restaurant are given below: At 5% level of significance, is the mean delivery time for online delivery food service firm is less than the mean delivery time for the home delivery from a local restaurant.**"
   ]
  },
  {
   "cell_type": "code",
   "execution_count": 2,
   "metadata": {
    "colab": {},
    "colab_type": "code",
    "id": "n9jMM1nhPftq"
   },
   "outputs": [],
   "source": [
    "Pizza_delivery_online = [16.8, 11.7, 15.6, 16.7, 17.5, 18.1, 14.1, 21.8, 13.9, 20.8]\n",
    "Pizza_delivery_local  = [22.0, 15.2, 18.7, 15.6, 20.8, 19.5, 17.0, 19.5, 16.5, 24.0]"
   ]
  },
  {
   "cell_type": "markdown",
   "metadata": {
    "colab_type": "text",
    "id": "hSXnhqvPPftt"
   },
   "source": [
    "#### Hint: Use paired t test"
   ]
  },
  {
   "cell_type": "code",
   "execution_count": 3,
   "metadata": {},
   "outputs": [
    {
     "data": {
      "image/png": "[encoded data removed]",
      "text/plain": [
       "<Figure size 432x288 with 1 Axes>"
      ]
     },
     "metadata": {
      "needs_background": "light"
     },
     "output_type": "display_data"
    }
   ],
   "source": [
    "import seaborn as sns\n",
    "import matplotlib.pyplot as plt\n",
    "sns.distplot(Pizza_delivery_online,color='purple')\n",
    "sns.distplot(Pizza_delivery_local,color='red')\n",
    "plt.show()"
   ]
  },
  {
   "cell_type": "code",
   "execution_count": 4,
   "metadata": {
    "colab": {},
    "colab_type": "code",
    "id": "fom1PjGsPftu"
   },
   "outputs": [
    {
     "data": {
      "text/plain": [
       "Ttest_relResult(statistic=-3.0447930464454114, pvalue=0.013909593560837055)"
      ]
     },
     "execution_count": 4,
     "metadata": {},
     "output_type": "execute_result"
    }
   ],
   "source": [
    "stats.ttest_rel(Pizza_delivery_online,Pizza_delivery_local)"
   ]
  },
  {
   "cell_type": "markdown",
   "metadata": {},
   "source": [
    "##### Observation : As p value is less than 0.05, we reject null . We can conclude that there is difference in time of delivery in online and local shops, also from the graph we can say that mean delivery time for online delivery food service firm is less than the mean delivery time for the home delivery from a local restaurant. Another thing tht can be concluded is that there is strong relationship between delivery time and type of delivery service"
   ]
  },
  {
   "cell_type": "code",
   "execution_count": 5,
   "metadata": {},
   "outputs": [
    {
     "data": {
      "text/plain": [
       "Ttest_indResult(statistic=-1.6341014912018457, pvalue=0.11960554332464257)"
      ]
     },
     "execution_count": 5,
     "metadata": {},
     "output_type": "execute_result"
    }
   ],
   "source": [
    "stats.ttest_ind(Pizza_delivery_online,Pizza_delivery_local)"
   ]
  },
  {
   "cell_type": "code",
   "execution_count": null,
   "metadata": {},
   "outputs": [],
   "source": [
    "from scipy.stats import f_oneway\n",
    "f_oneway(Pizza_delivery_online,Pizza_delivery_local)"
   ]
  },
  {
   "cell_type": "markdown",
   "metadata": {
    "colab_type": "text",
    "id": "rHT0xGP9Pftx"
   },
   "source": [
    "## End"
   ]
  }
 ],
 "metadata": {
  "colab": {
   "name": "Take_home_exercise_Day_02_QuestionsNew.ipynb",
   "provenance": []
  },
  "kernelspec": {
   "display_name": "Python 3",
   "language": "python",
   "name": "python3"
  },
  "language_info": {
   "codemirror_mode": {
    "name": "ipython",
    "version": 3
   },
   "file_extension": ".py",
   "mimetype": "text/x-python",
   "name": "python",
   "nbconvert_exporter": "python",
   "pygments_lexer": "ipython3",
   "version": "3.8.3"
  }
 },
 "nbformat": 4,
 "nbformat_minor": 1
}
