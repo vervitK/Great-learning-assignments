{
 "cells": [
  {
   "cell_type": "markdown",
   "metadata": {},
   "source": [
    "<table align=\"center\" width=100%>\n",
    "    <tr>\n",
    "        <td width=\"15%\">\n",
    "            <img src=\"homework.png\">\n",
    "        </td>\n",
    "        <td>\n",
    "            <div align=\"center\">\n",
    "                <font color=\"#21618C\" size=8px>\n",
    "                    <b> Take-Home <br>(Day 3)\n",
    "                    </b>\n",
    "                </font>\n",
    "            </div>\n",
    "        </td>\n",
    "    </tr>\n",
    "</table>"
   ]
  },
  {
   "cell_type": "markdown",
   "metadata": {},
   "source": [
    "**Let's begin with some hands-on practice exercises**"
   ]
  },
  {
   "cell_type": "markdown",
   "metadata": {},
   "source": [
    "<table align=\"left\">\n",
    "    <tr>\n",
    "        <td width=\"6%\">\n",
    "            <img src=\"question_icon.png\">\n",
    "        </td>\n",
    "        <td>\n",
    "            <div align=\"left\", style=\"font-size:120%\">\n",
    "                <font color=\"#21618C\">\n",
    "                    <b>1. Write a program to print the following pattern (use for loop)</b>\n",
    "                    <br>\n",
    "                 </font>\n",
    "            </div>\n",
    "        </td>\n",
    "    </tr>\n",
    "</table>\n"
   ]
  },
  {
   "cell_type": "markdown",
   "metadata": {},
   "source": [
    "                                            A  \n",
    "                                            B C  \n",
    "                                            D E F  \n",
    "                                            G H I J  \n",
    "                                            K L M N O  \n",
    "                                            P Q R S T U  "
   ]
  },
  {
   "cell_type": "code",
   "execution_count": 1,
   "metadata": {},
   "outputs": [
    {
     "name": "stdout",
     "output_type": "stream",
     "text": [
      "A \n",
      "B C \n",
      "D E F \n",
      "G H I J \n",
      "K L M N O \n",
      "P Q R S T U \n"
     ]
    }
   ],
   "source": [
    "a = 65 \n",
    "for i in range(6):\n",
    "    for j in range(a,a+i+1):\n",
    "        print(chr(j),end=' ')\n",
    "    \n",
    "    a = a+int((2*i+1)/2)+1\n",
    "    print()"
   ]
  },
  {
   "cell_type": "markdown",
   "metadata": {},
   "source": [
    "<table align=\"left\">\n",
    "    <tr>\n",
    "        <td width=\"6%\">\n",
    "            <img src=\"question_icon.png\">\n",
    "        </td>\n",
    "        <td>\n",
    "            <div align=\"left\", style=\"font-size:120%\">\n",
    "                <font color=\"#21618C\">\n",
    "                    <b>2. Write a program to print tables from 2 to a user provided range (use for loop)</b>\n",
    "                 </font>\n",
    "            </div>\n",
    "        </td>\n",
    "    </tr>\n",
    "</table>"
   ]
  },
  {
   "cell_type": "code",
   "execution_count": 2,
   "metadata": {},
   "outputs": [
    {
     "name": "stdout",
     "output_type": "stream",
     "text": [
      "enter a number: 5\n",
      "2 * 1  =  2\n",
      "2 * 2  =  4\n",
      "2 * 3  =  6\n",
      "2 * 4  =  8\n",
      "2 * 5  =  10\n",
      "2 * 6  =  12\n",
      "2 * 7  =  14\n",
      "2 * 8  =  16\n",
      "2 * 9  =  18\n",
      "2 * 10  =  20\n",
      "3 * 1  =  3\n",
      "3 * 2  =  6\n",
      "3 * 3  =  9\n",
      "3 * 4  =  12\n",
      "3 * 5  =  15\n",
      "3 * 6  =  18\n",
      "3 * 7  =  21\n",
      "3 * 8  =  24\n",
      "3 * 9  =  27\n",
      "3 * 10  =  30\n",
      "4 * 1  =  4\n",
      "4 * 2  =  8\n",
      "4 * 3  =  12\n",
      "4 * 4  =  16\n",
      "4 * 5  =  20\n",
      "4 * 6  =  24\n",
      "4 * 7  =  28\n",
      "4 * 8  =  32\n",
      "4 * 9  =  36\n",
      "4 * 10  =  40\n",
      "5 * 1  =  5\n",
      "5 * 2  =  10\n",
      "5 * 3  =  15\n",
      "5 * 4  =  20\n",
      "5 * 5  =  25\n",
      "5 * 6  =  30\n",
      "5 * 7  =  35\n",
      "5 * 8  =  40\n",
      "5 * 9  =  45\n",
      "5 * 10  =  50\n"
     ]
    }
   ],
   "source": [
    "a = int(input('enter a number: '))\n",
    "for i in range(2,a+1):\n",
    "    for y in range(1,11):\n",
    "        print(i,'*',y,' = ',i*y)"
   ]
  },
  {
   "cell_type": "markdown",
   "metadata": {},
   "source": [
    "<table align=\"left\">\n",
    "    <tr>\n",
    "        <td width=\"6%\">\n",
    "            <img src=\"question_icon.png\">\n",
    "        </td>\n",
    "        <td>\n",
    "            <div align=\"left\", style=\"font-size:120%\">\n",
    "                <font color=\"#21618C\">\n",
    "                    <b>3. Consider the given two tuples. Divide corresponding elemets of two tuples and print the result as tuple (use zip())</b>\n",
    "                 </font>\n",
    "            </div>\n",
    "        </td>\n",
    "    </tr>\n",
    "</table>"
   ]
  },
  {
   "cell_type": "markdown",
   "metadata": {},
   "source": [
    "   **The original tuple 1 : (10, 4, 6, 9)**\n",
    "\n",
    "   **The original tuple 2 : (5, 2, 3, 3)**\n",
    "\n",
    "   **Output: (2, 2, 2, 3)**\n"
   ]
  },
  {
   "cell_type": "code",
   "execution_count": 3,
   "metadata": {},
   "outputs": [
    {
     "data": {
      "text/plain": [
       "(2.0, 2.0, 2.0, 3.0)"
      ]
     },
     "execution_count": 3,
     "metadata": {},
     "output_type": "execute_result"
    }
   ],
   "source": [
    "a = (10,4,6,9)\n",
    "b = (5,2,3,3)\n",
    "c = tuple(x/y for x, y in zip(a, b))\n",
    "c"
   ]
  },
  {
   "cell_type": "markdown",
   "metadata": {},
   "source": [
    "<table align=\"left\">\n",
    "    <tr>\n",
    "        <td width=\"6%\">\n",
    "            <img src=\"question_icon.png\">\n",
    "        </td>\n",
    "        <td>\n",
    "            <div align=\"left\", style=\"font-size:120%\">\n",
    "                <font color=\"#21618C\">\n",
    "                    <b>4. Use list comprehension to find words whose length is less than 5 from the given multi-dimensional list</b>\n",
    "                    <br>\n",
    "                </font>\n",
    "            </div>\n",
    "        </td>\n",
    "    </tr>\n",
    "</table>"
   ]
  },
  {
   "cell_type": "markdown",
   "metadata": {},
   "source": [
    "**astro = [['sky', 'sun', 'moon'], ['star', 'Jupiter', 'mars'], ['Jupiter', 'Neptune', 'Pluto']] **\n"
   ]
  },
  {
   "cell_type": "code",
   "execution_count": 4,
   "metadata": {},
   "outputs": [
    {
     "data": {
      "text/plain": [
       "['sky', 'sun', 'moon', 'star', 'mars']"
      ]
     },
     "execution_count": 4,
     "metadata": {},
     "output_type": "execute_result"
    }
   ],
   "source": [
    "astro = [['sky', 'sun', 'moon'], ['star', 'Jupiter', 'mars'], ['Jupiter', 'Neptune', 'Pluto']]\n",
    "[ x  for i in astro for x in i if len(x)<5 ]"
   ]
  },
  {
   "cell_type": "markdown",
   "metadata": {},
   "source": [
    "<table align=\"left\">\n",
    "    <tr>\n",
    "        <td width=\"6%\">\n",
    "            <img src=\"question_icon.png\">\n",
    "        </td>\n",
    "        <td>\n",
    "            <div align=\"left\", style=\"font-size:120%\">\n",
    "                <font color=\"#21618C\">\n",
    "                    <b>5. Write a program to append a dictionary to a tuple</b>\n",
    "                 </font>\n",
    "            </div>\n",
    "        </td>\n",
    "    </tr>\n",
    "</table>"
   ]
  },
  {
   "cell_type": "markdown",
   "metadata": {},
   "source": [
    "**The original tuple : (4, 5, 6)**\n",
    "\n",
    "**Tuple after addition of dictionary : (4, 5, 6, {'gfg': 1, 'is': 2, 'best': 3})**"
   ]
  },
  {
   "cell_type": "code",
   "execution_count": 5,
   "metadata": {},
   "outputs": [
    {
     "data": {
      "text/plain": [
       "(4, 5, 6, {'gfg': 1, 'is': 2, 'best': 3})"
      ]
     },
     "execution_count": 5,
     "metadata": {},
     "output_type": "execute_result"
    }
   ],
   "source": [
    "otuple = (4,5,6)\n",
    "dicti = {'gfg': 1, 'is': 2, 'best': 3}\n",
    "otuple = list(otuple)\n",
    "otuple.append(dicti)\n",
    "otuple= tuple(otuple)\n",
    "otuple"
   ]
  },
  {
   "cell_type": "markdown",
   "metadata": {},
   "source": [
    "<table align=\"left\">\n",
    "    <tr>\n",
    "        <td width=\"6%\">\n",
    "            <img src=\"question_icon.png\">\n",
    "        </td>\n",
    "        <td>\n",
    "            <div align=\"left\", style=\"font-size:120%\">\n",
    "                <font color=\"#21618C\">\n",
    "                    <b>6. Write a program to check whether two strings are anagram or not (take input from user)</b>\n",
    "                 </font>\n",
    "            </div>\n",
    "        </td>\n",
    "    </tr>\n",
    "</table>"
   ]
  },
  {
   "cell_type": "markdown",
   "metadata": {},
   "source": [
    "**Hint: An anagram of a string is another string that contains same characters, only the order of characters can be different.**"
   ]
  },
  {
   "cell_type": "code",
   "execution_count": 14,
   "metadata": {},
   "outputs": [
    {
     "name": "stdout",
     "output_type": "stream",
     "text": [
      "enter a string: equal\n",
      "enter a string: quale\n",
      "string is anagram True\n"
     ]
    }
   ],
   "source": [
    "x = input('enter a string: ')\n",
    "y = input('enter a string: ')\n",
    "if (sorted(x) == sorted(y)):\n",
    "    print('string is anagram',True)\n",
    "else:\n",
    "    print('string is anagram',False)\n",
    "    "
   ]
  },
  {
   "cell_type": "markdown",
   "metadata": {},
   "source": [
    "<table align=\"left\">\n",
    "    <tr>\n",
    "        <td width=\"6%\">\n",
    "            <img src=\"question_icon.png\">\n",
    "        </td>\n",
    "        <td>\n",
    "            <div align=\"left\", style=\"font-size:120%\">\n",
    "                <font color=\"#21618C\">\n",
    "                    <b>7. Write a program to remove space from keys of the given dictionary (use for loop)  </b>\n",
    "                 </font>\n",
    "            </div>\n",
    "        </td>\n",
    "    </tr>\n",
    "</table>"
   ]
  },
  {
   "cell_type": "markdown",
   "metadata": {},
   "source": [
    "**fruity = {'Fruits 01' : 'Apple', 'Fruits 02' : 'Orange', \n",
    "                'Fruits 0 3 ': 'Grapes'}**\n",
    "\n",
    "**(Output) New dictionary :   {'Fruits01': 'Apple', 'Fruits02': 'Orange', 'Fruits03': 'Grapes'}**\n"
   ]
  },
  {
   "cell_type": "code",
   "execution_count": 2,
   "metadata": {},
   "outputs": [
    {
     "data": {
      "text/plain": [
       "{'Fruits01': 'Apple', 'Fruits02': 'Orange', 'Fruits03': 'Grapes'}"
      ]
     },
     "execution_count": 2,
     "metadata": {},
     "output_type": "execute_result"
    }
   ],
   "source": [
    "fruity = {'Fruits 01' : 'Apple', 'Fruits 02' : 'Orange', 'Fruits 0 3 ': 'Grapes'}\n",
    "fruity = {x.replace(' ', ''): v  for x, v in fruity.items()}\n",
    "fruity"
   ]
  },
  {
   "cell_type": "markdown",
   "metadata": {},
   "source": [
    "<table align=\"left\">\n",
    "    <tr>\n",
    "        <td width=\"6%\">\n",
    "            <img src=\"question_icon.png\">\n",
    "        </td>\n",
    "        <td>\n",
    "            <div align=\"left\", style=\"font-size:120%\">\n",
    "                <font color=\"#21618C\">\n",
    "                    <b>8. Write a program to transpose a matrix using list comprehension</b>\n",
    "                 </font>\n",
    "            </div>\n",
    "        </td>\n",
    "    </tr>\n",
    "</table>"
   ]
  },
  {
   "cell_type": "markdown",
   "metadata": {},
   "source": [
    "**matrix=[[1,2],[3,4],[5,6],[7,8]]**<br>\n",
    "**Output: [[1, 3, 5, 7], [2, 4, 6, 8]]**"
   ]
  },
  {
   "cell_type": "code",
   "execution_count": 8,
   "metadata": {},
   "outputs": [
    {
     "data": {
      "text/plain": [
       "[[1, 3, 5, 7], [2, 4, 6, 8]]"
      ]
     },
     "execution_count": 8,
     "metadata": {},
     "output_type": "execute_result"
    }
   ],
   "source": [
    "matrix=[[1,2],[3,4],[5,6],[7,8]]\n",
    "[ [row[i] for row in matrix ] for i in range(2)]"
   ]
  },
  {
   "cell_type": "markdown",
   "metadata": {},
   "source": [
    "<table align=\"left\">\n",
    "    <tr>\n",
    "        <td width=\"6%\">\n",
    "            <img src=\"question_icon.png\">\n",
    "        </td>\n",
    "        <td>\n",
    "            <div align=\"left\", style=\"font-size:120%\">\n",
    "                <font color=\"#21618C\">\n",
    "                    <b>9. Write a program to add the cubes of first 5 positive integers (use while loop)</b>\n",
    "                 </font>\n",
    "            </div>\n",
    "        </td>\n",
    "    </tr>\n",
    "</table>"
   ]
  },
  {
   "cell_type": "code",
   "execution_count": 22,
   "metadata": {},
   "outputs": [
    {
     "name": "stdout",
     "output_type": "stream",
     "text": [
      "sum of cubes of first 5 positive integers:  [1, 8, 27, 64, 125] 225\n"
     ]
    }
   ],
   "source": [
    "i = 0\n",
    "a=[]\n",
    "while i <=4:\n",
    "    i+=1\n",
    "    a.append(i**3)\n",
    "print('sum of cubes of first 5 positive integers: ',a,sum(a))"
   ]
  },
  {
   "cell_type": "markdown",
   "metadata": {},
   "source": [
    "<table align=\"left\">\n",
    "    <tr>\n",
    "        <td width=\"6%\">\n",
    "            <img src=\"question_icon.png\">\n",
    "        </td>\n",
    "        <td>\n",
    "            <div align=\"left\", style=\"font-size:120%\">\n",
    "                <font color=\"#21618C\">\n",
    "                    <b>10. Write a program to create a 5x3 matrix with values in each row as 1,2, and 3 (use list comprehension)</b>\n",
    "                    <br>\n",
    "                 </font>\n",
    "            </div>\n",
    "        </td>\n",
    "    </tr>\n",
    "</table>"
   ]
  },
  {
   "cell_type": "code",
   "execution_count": 21,
   "metadata": {},
   "outputs": [
    {
     "data": {
      "text/plain": [
       "[[1, 2, 3], [1, 2, 3], [1, 2, 3], [1, 2, 3], [1, 2, 3]]"
      ]
     },
     "execution_count": 21,
     "metadata": {},
     "output_type": "execute_result"
    }
   ],
   "source": [
    "[[i for i in range(1,4)] for j in range(0,5)]"
   ]
  }
 ],
 "metadata": {
  "kernelspec": {
   "display_name": "Python 3",
   "language": "python",
   "name": "python3"
  },
  "language_info": {
   "codemirror_mode": {
    "name": "ipython",
    "version": 3
   },
   "file_extension": ".py",
   "mimetype": "text/x-python",
   "name": "python",
   "nbconvert_exporter": "python",
   "pygments_lexer": "ipython3",
   "version": "3.8.5"
  }
 },
 "nbformat": 4,
 "nbformat_minor": 4
}
