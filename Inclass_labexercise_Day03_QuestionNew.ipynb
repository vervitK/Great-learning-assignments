{
 "cells": [
  {
   "cell_type": "markdown",
   "metadata": {
    "colab_type": "text",
    "id": "yMfPVLoY32rH"
   },
   "source": [
    "# ANOVA and Chi Square "
   ]
  },
  {
   "cell_type": "markdown",
   "metadata": {
    "colab_type": "text",
    "id": "pZ4Elsao32rM"
   },
   "source": [
    "### Practice Exercise 1"
   ]
  },
  {
   "cell_type": "markdown",
   "metadata": {
    "colab_type": "text",
    "id": "-0a3AGXH32rN"
   },
   "source": [
    "A company makes three types of electronic device.\n",
    "Life time in hours for each type of electronic device is given below:\n",
    "\n",
    "* life_type_A = [ 407, 411, 409 ]\n",
    "* life_type_B = [ 404, 406, 408, 405, 402 ]\n",
    "* ife_type_C  = [ 410, 408, 406, 408]"
   ]
  },
  {
   "cell_type": "markdown",
   "metadata": {
    "colab_type": "text",
    "id": "qlNevwRL32rO"
   },
   "source": [
    "### Hint"
   ]
  },
  {
   "cell_type": "code",
   "execution_count": 1,
   "metadata": {
    "colab": {},
    "colab_type": "code",
    "id": "ixT_QxmT32rP"
   },
   "outputs": [],
   "source": [
    "import pandas            as pd\n",
    "import numpy             as np\n",
    "import matplotlib.pyplot as plt\n",
    "import seaborn           as sns\n",
    "from scipy.stats import stats"
   ]
  },
  {
   "cell_type": "code",
   "execution_count": 2,
   "metadata": {
    "colab": {},
    "colab_type": "code",
    "id": "F1Q4O2_Y32rT"
   },
   "outputs": [],
   "source": [
    "life_type_A = np.array([407, 411, 409 ])\n",
    "life_type_B = np.array([404, 406, 408, 405, 402 ])\n",
    "life_type_C  = np.array([410, 408, 406, 408])"
   ]
  },
  {
   "cell_type": "markdown",
   "metadata": {
    "colab_type": "text",
    "id": "sUvHWRhB32rY"
   },
   "source": [
    "### a)  Plot box plot for the above data and write your inference on the group means from the boxplots."
   ]
  },
  {
   "cell_type": "code",
   "execution_count": 3,
   "metadata": {
    "colab": {},
    "colab_type": "code",
    "id": "97DTdYkF32rZ"
   },
   "outputs": [
    {
     "data": {
      "text/html": [
       "<div>\n",
       "<style scoped>\n",
       "    .dataframe tbody tr th:only-of-type {\n",
       "        vertical-align: middle;\n",
       "    }\n",
       "\n",
       "    .dataframe tbody tr th {\n",
       "        vertical-align: top;\n",
       "    }\n",
       "\n",
       "    .dataframe thead th {\n",
       "        text-align: right;\n",
       "    }\n",
       "</style>\n",
       "<table border=\"1\" class=\"dataframe\">\n",
       "  <thead>\n",
       "    <tr style=\"text-align: right;\">\n",
       "      <th></th>\n",
       "      <th>Type</th>\n",
       "      <th>Life Time</th>\n",
       "    </tr>\n",
       "  </thead>\n",
       "  <tbody>\n",
       "    <tr>\n",
       "      <th>0</th>\n",
       "      <td>A</td>\n",
       "      <td>407</td>\n",
       "    </tr>\n",
       "    <tr>\n",
       "      <th>1</th>\n",
       "      <td>A</td>\n",
       "      <td>411</td>\n",
       "    </tr>\n",
       "    <tr>\n",
       "      <th>2</th>\n",
       "      <td>A</td>\n",
       "      <td>409</td>\n",
       "    </tr>\n",
       "    <tr>\n",
       "      <th>0</th>\n",
       "      <td>B</td>\n",
       "      <td>404</td>\n",
       "    </tr>\n",
       "    <tr>\n",
       "      <th>1</th>\n",
       "      <td>B</td>\n",
       "      <td>406</td>\n",
       "    </tr>\n",
       "    <tr>\n",
       "      <th>2</th>\n",
       "      <td>B</td>\n",
       "      <td>408</td>\n",
       "    </tr>\n",
       "    <tr>\n",
       "      <th>3</th>\n",
       "      <td>B</td>\n",
       "      <td>405</td>\n",
       "    </tr>\n",
       "    <tr>\n",
       "      <th>4</th>\n",
       "      <td>B</td>\n",
       "      <td>402</td>\n",
       "    </tr>\n",
       "    <tr>\n",
       "      <th>0</th>\n",
       "      <td>C</td>\n",
       "      <td>410</td>\n",
       "    </tr>\n",
       "    <tr>\n",
       "      <th>1</th>\n",
       "      <td>C</td>\n",
       "      <td>408</td>\n",
       "    </tr>\n",
       "    <tr>\n",
       "      <th>2</th>\n",
       "      <td>C</td>\n",
       "      <td>406</td>\n",
       "    </tr>\n",
       "    <tr>\n",
       "      <th>3</th>\n",
       "      <td>C</td>\n",
       "      <td>408</td>\n",
       "    </tr>\n",
       "  </tbody>\n",
       "</table>\n",
       "</div>"
      ],
      "text/plain": [
       "  Type  Life Time\n",
       "0    A        407\n",
       "1    A        411\n",
       "2    A        409\n",
       "0    B        404\n",
       "1    B        406\n",
       "2    B        408\n",
       "3    B        405\n",
       "4    B        402\n",
       "0    C        410\n",
       "1    C        408\n",
       "2    C        406\n",
       "3    C        408"
      ]
     },
     "execution_count": 3,
     "metadata": {},
     "output_type": "execute_result"
    }
   ],
   "source": [
    "df = pd.DataFrame()\n",
    "df1 = pd.DataFrame({'Type': 'A' , 'Life Time': life_type_A})\n",
    "df2 = pd.DataFrame({'Type': 'B' , 'Life Time': life_type_B})\n",
    "df3 = pd.DataFrame({'Type': 'C' , 'Life Time': life_type_C})\n",
    "\n",
    "df = df.append(df1)\n",
    "df =df.append(df2)\n",
    "df =df.append(df3)\n",
    "df"
   ]
  },
  {
   "cell_type": "code",
   "execution_count": 4,
   "metadata": {},
   "outputs": [
    {
     "data": {
      "image/png": "[encoded data removed]",
      "text/plain": [
       "<Figure size 432x288 with 1 Axes>"
      ]
     },
     "metadata": {
      "needs_background": "light"
     },
     "output_type": "display_data"
    }
   ],
   "source": [
    "sns.boxplot(x= 'Type' , y = 'Life Time' , data=df)\n",
    "plt.show()"
   ]
  },
  {
   "cell_type": "markdown",
   "metadata": {
    "colab_type": "text",
    "id": "QmrC6MVu32rg"
   },
   "source": [
    "### b)  At 5% level of significance, is there any difference in the average lifetimes of the three types?"
   ]
  },
  {
   "cell_type": "code",
   "execution_count": 5,
   "metadata": {
    "colab": {},
    "colab_type": "code",
    "id": "pZkI8Gq432rl"
   },
   "outputs": [
    {
     "data": {
      "text/plain": [
       "F_onewayResult(statistic=4.5, pvalue=0.04419417382415922)"
      ]
     },
     "execution_count": 5,
     "metadata": {},
     "output_type": "execute_result"
    }
   ],
   "source": [
    "stats.f_oneway(life_type_A,life_type_B,life_type_C)"
   ]
  },
  {
   "cell_type": "markdown",
   "metadata": {},
   "source": [
    "##### Observation: As p_value is less than 0.05, we can say that there is difference in the average lifetimes of the three types"
   ]
  },
  {
   "cell_type": "markdown",
   "metadata": {
    "colab_type": "text",
    "id": "uQUwrcNa32rr"
   },
   "source": [
    "### c)  If  you were able to reject the null hypothesis, you can proceed with post-hoc analysis to determine which means are different "
   ]
  },
  {
   "cell_type": "code",
   "execution_count": 6,
   "metadata": {
    "colab": {},
    "colab_type": "code",
    "id": "jsqFmZfx32rt"
   },
   "outputs": [
    {
     "name": "stdout",
     "output_type": "stream",
     "text": [
      "Multiple Comparison of Means - Tukey HSD, FWER=0.10\n",
      "===================================================\n",
      "group1 group2 meandiff p-adj   lower  upper  reject\n",
      "---------------------------------------------------\n",
      "     A      B     -4.0 0.0541  -7.422 -0.578   True\n",
      "     A      C     -1.0 0.7824 -4.5788 2.5788  False\n",
      "     B      C      3.0 0.1177 -0.1433 6.1433  False\n",
      "---------------------------------------------------\n"
     ]
    }
   ],
   "source": [
    "from statsmodels.stats.multicomp import pairwise_tukeyhsd\n",
    "print(pairwise_tukeyhsd(df['Life Time'] , df['Type'] , alpha=0.1))"
   ]
  },
  {
   "cell_type": "markdown",
   "metadata": {},
   "source": [
    "##### Observation : Post-Hock Analysis suggests all the three type are significantly different from each other."
   ]
  },
  {
   "cell_type": "markdown",
   "metadata": {
    "colab_type": "text",
    "id": "tIDpYZ4432rw"
   },
   "source": [
    "### Practice Exercise 2"
   ]
  },
  {
   "cell_type": "markdown",
   "metadata": {
    "colab_type": "text",
    "id": "z9KJ7wlzFYe1"
   },
   "source": [
    "### A sample of number of sell of a particular product over different days in different stores have been collected.Perform a test to check whether different stores and different days have any effect on the number of products that have been sold."
   ]
  },
  {
   "cell_type": "code",
   "execution_count": 10,
   "metadata": {
    "colab": {},
    "colab_type": "code",
    "id": "HZ1AHwj032rw"
   },
   "outputs": [],
   "source": [
    "table1  = [['Day','Store-A','Store-B','Store-C','Store-D','Store-E'], [1,69, 71, 64, 67, 56],\\\n",
    "           [2, 68, 76, 79, 87, 76], [3, 71, 77, 74, 84, 72], [4, 70, 73, 71, 78, 73], [5, 60, 64, 67, 79, 58]]"
   ]
  },
  {
   "cell_type": "code",
   "execution_count": 11,
   "metadata": {
    "colab": {},
    "colab_type": "code",
    "id": "woODVMWf32rz",
    "outputId": "5155d59d-4b8d-4f82-a1ae-eb0033a198d8"
   },
   "outputs": [
    {
     "name": "stdout",
     "output_type": "stream",
     "text": [
      "   Day  Store-A  Store-B  Store-C  Store-D  Store-E\n",
      "0    1       69       71       64       67       56\n",
      "1    2       68       76       79       87       76\n",
      "2    3       71       77       74       84       72\n",
      "3    4       70       73       71       78       73\n",
      "4    5       60       64       67       79       58\n"
     ]
    }
   ],
   "source": [
    "\n",
    "headers = table1.pop(0) #\n",
    "\n",
    "df1 = pd.DataFrame(table1, columns=headers)\n",
    "print(df1)"
   ]
  },
  {
   "cell_type": "markdown",
   "metadata": {
    "colab": {},
    "colab_type": "code",
    "id": "X8ZKOnLn32r4"
   },
   "source": [
    "### 1. Checking if there is any diiference in mean corresponding to store and days individually"
   ]
  },
  {
   "cell_type": "code",
   "execution_count": 12,
   "metadata": {},
   "outputs": [
    {
     "data": {
      "text/html": [
       "<div>\n",
       "<style scoped>\n",
       "    .dataframe tbody tr th:only-of-type {\n",
       "        vertical-align: middle;\n",
       "    }\n",
       "\n",
       "    .dataframe tbody tr th {\n",
       "        vertical-align: top;\n",
       "    }\n",
       "\n",
       "    .dataframe thead th {\n",
       "        text-align: right;\n",
       "    }\n",
       "</style>\n",
       "<table border=\"1\" class=\"dataframe\">\n",
       "  <thead>\n",
       "    <tr style=\"text-align: right;\">\n",
       "      <th></th>\n",
       "      <th>Day</th>\n",
       "      <th>Store</th>\n",
       "      <th>Sales</th>\n",
       "    </tr>\n",
       "  </thead>\n",
       "  <tbody>\n",
       "    <tr>\n",
       "      <th>0</th>\n",
       "      <td>1</td>\n",
       "      <td>Store_A</td>\n",
       "      <td>69</td>\n",
       "    </tr>\n",
       "    <tr>\n",
       "      <th>1</th>\n",
       "      <td>2</td>\n",
       "      <td>Store_A</td>\n",
       "      <td>68</td>\n",
       "    </tr>\n",
       "    <tr>\n",
       "      <th>2</th>\n",
       "      <td>3</td>\n",
       "      <td>Store_A</td>\n",
       "      <td>71</td>\n",
       "    </tr>\n",
       "    <tr>\n",
       "      <th>3</th>\n",
       "      <td>4</td>\n",
       "      <td>Store_A</td>\n",
       "      <td>70</td>\n",
       "    </tr>\n",
       "    <tr>\n",
       "      <th>4</th>\n",
       "      <td>5</td>\n",
       "      <td>Store_A</td>\n",
       "      <td>60</td>\n",
       "    </tr>\n",
       "    <tr>\n",
       "      <th>0</th>\n",
       "      <td>1</td>\n",
       "      <td>Store_B</td>\n",
       "      <td>71</td>\n",
       "    </tr>\n",
       "    <tr>\n",
       "      <th>1</th>\n",
       "      <td>2</td>\n",
       "      <td>Store_B</td>\n",
       "      <td>76</td>\n",
       "    </tr>\n",
       "    <tr>\n",
       "      <th>2</th>\n",
       "      <td>3</td>\n",
       "      <td>Store_B</td>\n",
       "      <td>77</td>\n",
       "    </tr>\n",
       "    <tr>\n",
       "      <th>3</th>\n",
       "      <td>4</td>\n",
       "      <td>Store_B</td>\n",
       "      <td>73</td>\n",
       "    </tr>\n",
       "    <tr>\n",
       "      <th>4</th>\n",
       "      <td>5</td>\n",
       "      <td>Store_B</td>\n",
       "      <td>64</td>\n",
       "    </tr>\n",
       "    <tr>\n",
       "      <th>0</th>\n",
       "      <td>1</td>\n",
       "      <td>Store_C</td>\n",
       "      <td>64</td>\n",
       "    </tr>\n",
       "    <tr>\n",
       "      <th>1</th>\n",
       "      <td>2</td>\n",
       "      <td>Store_C</td>\n",
       "      <td>79</td>\n",
       "    </tr>\n",
       "    <tr>\n",
       "      <th>2</th>\n",
       "      <td>3</td>\n",
       "      <td>Store_C</td>\n",
       "      <td>74</td>\n",
       "    </tr>\n",
       "    <tr>\n",
       "      <th>3</th>\n",
       "      <td>4</td>\n",
       "      <td>Store_C</td>\n",
       "      <td>71</td>\n",
       "    </tr>\n",
       "    <tr>\n",
       "      <th>4</th>\n",
       "      <td>5</td>\n",
       "      <td>Store_C</td>\n",
       "      <td>67</td>\n",
       "    </tr>\n",
       "  </tbody>\n",
       "</table>\n",
       "</div>"
      ],
      "text/plain": [
       "   Day    Store  Sales\n",
       "0    1  Store_A     69\n",
       "1    2  Store_A     68\n",
       "2    3  Store_A     71\n",
       "3    4  Store_A     70\n",
       "4    5  Store_A     60\n",
       "0    1  Store_B     71\n",
       "1    2  Store_B     76\n",
       "2    3  Store_B     77\n",
       "3    4  Store_B     73\n",
       "4    5  Store_B     64\n",
       "0    1  Store_C     64\n",
       "1    2  Store_C     79\n",
       "2    3  Store_C     74\n",
       "3    4  Store_C     71\n",
       "4    5  Store_C     67"
      ]
     },
     "execution_count": 12,
     "metadata": {},
     "output_type": "execute_result"
    }
   ],
   "source": [
    "Store_A = np.array(df1['Store-A'].values)\n",
    "Store_B = np.array(df1['Store-B'].values)\n",
    "Store_C = np.array(df1['Store-C'].values)\n",
    "Day_ = np.array(df1['Day'].values)\n",
    "\n",
    "df_new= pd.DataFrame()\n",
    "\n",
    "dfA = pd.DataFrame({'Day':Day_ , 'Store': 'Store_A' , 'Sales' : Store_A})\n",
    "dfB = pd.DataFrame({'Day':Day_ , 'Store': 'Store_B' , 'Sales' : Store_B})\n",
    "dfC = pd.DataFrame({'Day':Day_ , 'Store': 'Store_C' , 'Sales' : Store_C})\n",
    "\n",
    "df_new = df_new.append(dfA)\n",
    "df_new = df_new.append(dfB)\n",
    "df_new = df_new.append(dfC)\n",
    "df_new"
   ]
  },
  {
   "cell_type": "code",
   "execution_count": 13,
   "metadata": {},
   "outputs": [
    {
     "data": {
      "image/png": "[encoded data removed]",
      "text/plain": [
       "<Figure size 222.375x180 with 2 Axes>"
      ]
     },
     "metadata": {
      "needs_background": "light"
     },
     "output_type": "display_data"
    }
   ],
   "source": [
    "sns.pairplot(df_new,hue='Day',diag_kind='kde')\n",
    "plt.show()"
   ]
  },
  {
   "cell_type": "code",
   "execution_count": 14,
   "metadata": {},
   "outputs": [],
   "source": [
    "from scipy.stats import f_oneway"
   ]
  },
  {
   "cell_type": "code",
   "execution_count": 15,
   "metadata": {},
   "outputs": [
    {
     "data": {
      "text/plain": [
       "F_onewayResult(statistic=1.0608695652173916, pvalue=0.37649426832809046)"
      ]
     },
     "execution_count": 15,
     "metadata": {},
     "output_type": "execute_result"
    }
   ],
   "source": [
    "f_oneway(Store_A,Store_B,Store_C)"
   ]
  },
  {
   "cell_type": "markdown",
   "metadata": {},
   "source": [
    "#### Observation : There is no difference in Mean coressponding to Store"
   ]
  },
  {
   "cell_type": "code",
   "execution_count": 16,
   "metadata": {},
   "outputs": [],
   "source": [
    "Day1 = np.array(df_new[df_new['Day']==1]['Sales'].values)\n",
    "Day2 = np.array(df_new[df_new['Day']==2]['Sales'].values)\n",
    "Day3 = np.array(df_new[df_new['Day']==3]['Sales'].values)\n",
    "Day4 = np.array(df_new[df_new['Day']==4]['Sales'].values)\n",
    "Day5 = np.array(df_new[df_new['Day']==5]['Sales'].values)"
   ]
  },
  {
   "cell_type": "code",
   "execution_count": 17,
   "metadata": {},
   "outputs": [
    {
     "data": {
      "text/plain": [
       "F_onewayResult(statistic=4.3647342995169085, pvalue=0.026770967318745183)"
      ]
     },
     "execution_count": 17,
     "metadata": {},
     "output_type": "execute_result"
    }
   ],
   "source": [
    "f_oneway(Day1,Day2,Day3,Day4,Day5)"
   ]
  },
  {
   "cell_type": "markdown",
   "metadata": {},
   "source": [
    "#### Observation : There is no difference in Mean coressponding to Store"
   ]
  },
  {
   "cell_type": "markdown",
   "metadata": {},
   "source": [
    "### 2.ANNOVA Model"
   ]
  },
  {
   "cell_type": "code",
   "execution_count": 20,
   "metadata": {},
   "outputs": [
    {
     "data": {
      "text/html": [
       "<div>\n",
       "<style scoped>\n",
       "    .dataframe tbody tr th:only-of-type {\n",
       "        vertical-align: middle;\n",
       "    }\n",
       "\n",
       "    .dataframe tbody tr th {\n",
       "        vertical-align: top;\n",
       "    }\n",
       "\n",
       "    .dataframe thead th {\n",
       "        text-align: right;\n",
       "    }\n",
       "</style>\n",
       "<table border=\"1\" class=\"dataframe\">\n",
       "  <thead>\n",
       "    <tr style=\"text-align: right;\">\n",
       "      <th></th>\n",
       "      <th>df</th>\n",
       "      <th>sum_sq</th>\n",
       "      <th>mean_sq</th>\n",
       "      <th>F</th>\n",
       "      <th>PR(&gt;F)</th>\n",
       "    </tr>\n",
       "  </thead>\n",
       "  <tbody>\n",
       "    <tr>\n",
       "      <th>Store</th>\n",
       "      <td>2.0</td>\n",
       "      <td>56.933333</td>\n",
       "      <td>28.466667</td>\n",
       "      <td>1.113693</td>\n",
       "      <td>0.362704</td>\n",
       "    </tr>\n",
       "    <tr>\n",
       "      <th>Day</th>\n",
       "      <td>1.0</td>\n",
       "      <td>40.833333</td>\n",
       "      <td>40.833333</td>\n",
       "      <td>1.597510</td>\n",
       "      <td>0.232384</td>\n",
       "    </tr>\n",
       "    <tr>\n",
       "      <th>Residual</th>\n",
       "      <td>11.0</td>\n",
       "      <td>281.166667</td>\n",
       "      <td>25.560606</td>\n",
       "      <td>NaN</td>\n",
       "      <td>NaN</td>\n",
       "    </tr>\n",
       "  </tbody>\n",
       "</table>\n",
       "</div>"
      ],
      "text/plain": [
       "            df      sum_sq    mean_sq         F    PR(>F)\n",
       "Store      2.0   56.933333  28.466667  1.113693  0.362704\n",
       "Day        1.0   40.833333  40.833333  1.597510  0.232384\n",
       "Residual  11.0  281.166667  25.560606       NaN       NaN"
      ]
     },
     "execution_count": 20,
     "metadata": {},
     "output_type": "execute_result"
    }
   ],
   "source": [
    "import statsmodels.api as sm\n",
    "from statsmodels.formula.api import ols\n",
    "from statsmodels.stats.anova import anova_lm\n",
    "\n",
    "formula = 'Sales ~ Day + Store'\n",
    "model = ols(formula,df_new).fit()\n",
    "anova_table = anova_lm(model,type=2)\n",
    "anova_table"
   ]
  },
  {
   "cell_type": "markdown",
   "metadata": {},
   "source": [
    "### 3. Post-Hoc Analysis"
   ]
  },
  {
   "cell_type": "code",
   "execution_count": 75,
   "metadata": {},
   "outputs": [
    {
     "name": "stdout",
     "output_type": "stream",
     "text": [
      " Multiple Comparison of Means - Tukey HSD, FWER=0.05  \n",
      "======================================================\n",
      " group1  group2 meandiff p-adj   lower   upper  reject\n",
      "------------------------------------------------------\n",
      "Store_A Store_B      4.6 0.3703 -4.1361 13.3361  False\n",
      "Store_A Store_C      3.4 0.5674 -5.3361 12.1361  False\n",
      "Store_B Store_C     -1.2    0.9 -9.9361  7.5361  False\n",
      "------------------------------------------------------\n"
     ]
    }
   ],
   "source": [
    "from statsmodels.stats.multicomp import pairwise_tukeyhsd\n",
    "print(pairwise_tukeyhsd(df_new['Sales'],df_new['Store'],alpha=0.05))"
   ]
  },
  {
   "cell_type": "markdown",
   "metadata": {},
   "source": [
    "#### Observation : There is no difference in Mean coressponding to Store"
   ]
  },
  {
   "cell_type": "code",
   "execution_count": 76,
   "metadata": {},
   "outputs": [
    {
     "name": "stdout",
     "output_type": "stream",
     "text": [
      " Multiple Comparison of Means - Tukey HSD, FWER=0.05 \n",
      "=====================================================\n",
      "group1 group2 meandiff p-adj   lower    upper  reject\n",
      "-----------------------------------------------------\n",
      "     1      2   6.3333  0.296   -3.651 16.3177  False\n",
      "     1      3      6.0 0.3413  -3.9843 15.9843  False\n",
      "     1      4   3.3333 0.7845   -6.651 13.3177  False\n",
      "     1      5  -4.3333 0.6151 -14.3177   5.651  False\n",
      "     2      3  -0.3333    0.9 -10.3177   9.651  False\n",
      "     2      4     -3.0  0.841 -12.9843  6.9843  False\n",
      "     2      5 -10.6667 0.0353  -20.651 -0.6823   True\n",
      "     3      4  -2.6667 0.8975  -12.651  7.3177  False\n",
      "     3      5 -10.3333 0.0418 -20.3177  -0.349   True\n",
      "     4      5  -7.6667   0.16  -17.651  2.3177  False\n",
      "-----------------------------------------------------\n"
     ]
    }
   ],
   "source": [
    "from statsmodels.stats.multicomp import pairwise_tukeyhsd\n",
    "print(pairwise_tukeyhsd(df_new['Sales'],df_new['Day'],alpha=0.05))"
   ]
  },
  {
   "cell_type": "markdown",
   "metadata": {},
   "source": [
    "#### Observation : There is no difference in Mean coressponding to Days except \n",
    "1. Sales on Day 2 and Day 5 is significantly different\n",
    "1. Sales on Day 3 and Day 5 is significantly different"
   ]
  },
  {
   "cell_type": "markdown",
   "metadata": {
    "colab_type": "text",
    "id": "Kb94aLbz32r7"
   },
   "source": [
    "## Chi Square"
   ]
  },
  {
   "cell_type": "markdown",
   "metadata": {
    "colab_type": "text",
    "id": "cYhYKQjd32r7"
   },
   "source": [
    "### Practice Exercise 3"
   ]
  },
  {
   "cell_type": "markdown",
   "metadata": {
    "colab_type": "text",
    "id": "RdPFcdeu026A"
   },
   "source": [
    "A1 airlines operated daily flights to several Indian cities. The operations manager believes that 28% of their passengers prefer vegan food, 42% prefer vegetarian food , 25% prefer non-veg food 5% request for Jain food. \n",
    "\n",
    "A sample of 500 passengers was chosen to analyse the food preferences and the data is shown in the following table:\n",
    "\n",
    "|               | Food type | Vegan | Vegetarian | Non-Vegetarian | Jain |\n",
    "| ------------------------- | ---- | ---- | ----- | ---- | ---- |\n",
    "|Number of passengers |  | 190 | 185 | 90 | 35 |\n",
    "\n",
    "At 5% level of significance, can you confirm that the meal preference is as per the belief of the operations manager?"
   ]
  },
  {
   "cell_type": "code",
   "execution_count": 22,
   "metadata": {
    "colab": {},
    "colab_type": "code",
    "id": "FYf-ylr-32r9"
   },
   "outputs": [],
   "source": [
    "import scipy.stats as stats\n",
    "import scipy\n",
    "\n",
    "observed_values    = np.array([190, 185, 90, 35])\n",
    "n                  = observed_values.sum()\n"
   ]
  },
  {
   "cell_type": "code",
   "execution_count": 23,
   "metadata": {
    "colab": {},
    "colab_type": "code",
    "id": "BQ7xWvqF32sD"
   },
   "outputs": [],
   "source": [
    "expected_values = np.array([500*0.28, 500*0.42, 500*0.25, 500*0.05])"
   ]
  },
  {
   "cell_type": "code",
   "execution_count": 27,
   "metadata": {},
   "outputs": [
    {
     "name": "stdout",
     "output_type": "stream",
     "text": [
      "At 5 % level of significance, the p-value is 0.0000001\n"
     ]
    }
   ],
   "source": [
    "chisquare , p_value = stats.chisquare(observed_values,expected_values)\n",
    "print('At 5 %s level of significance, the p-value is %1.7f' %('%',p_value))"
   ]
  },
  {
   "cell_type": "markdown",
   "metadata": {},
   "source": [
    "##### Observation : As the P value comes out to be very less than 0.05 , There is significant difference between observed and Expected values and the meal preference is NOT as per the belief of the operations manager"
   ]
  },
  {
   "cell_type": "markdown",
   "metadata": {
    "colab_type": "text",
    "id": "0iSz4fc332sI"
   },
   "source": [
    "### Chi-square tests of independence"
   ]
  },
  {
   "cell_type": "markdown",
   "metadata": {
    "colab_type": "text",
    "id": "Se0dGLN232sK"
   },
   "source": [
    "### Practice Exercise 4"
   ]
  },
  {
   "cell_type": "markdown",
   "metadata": {
    "colab_type": "text",
    "id": "3g1a0FKB32sM"
   },
   "source": [
    "A Cable service provider company is interested in checking whether or not the customer churn depends on customer segment.  Use 5% as level of significance"
   ]
  },
  {
   "cell_type": "markdown",
   "metadata": {
    "colab_type": "text",
    "id": "hxol9h7l32sO"
   },
   "source": [
    "| Customer Segment | Churned | Retained |\n",
    "|  -------- | ----- | ---- |\n",
    "| S1 | 15 | 142 |\n",
    "| S2 | 24 | 400 |\n",
    "| S3 | 30 | 389 |\n"
   ]
  },
  {
   "cell_type": "markdown",
   "metadata": {
    "colab_type": "text",
    "id": "lujEIbTI32sQ"
   },
   "source": [
    "#### Hint"
   ]
  },
  {
   "cell_type": "code",
   "execution_count": 28,
   "metadata": {
    "colab": {},
    "colab_type": "code",
    "id": "6lpZw_cm32sS"
   },
   "outputs": [],
   "source": [
    "import numpy       as np\n",
    "import scipy.stats as stats\n",
    "\n",
    "churn_array = np.array([[15,142],[24, 400],[30, 389]])\n"
   ]
  },
  {
   "cell_type": "code",
   "execution_count": 29,
   "metadata": {
    "colab": {},
    "colab_type": "code",
    "id": "p9z0C3Ux32sa"
   },
   "outputs": [
    {
     "data": {
      "text/plain": [
       "(2.779977047087869,\n",
       " 0.24907816314986156,\n",
       " 2,\n",
       " array([[ 10.833, 146.167],\n",
       "        [ 29.256, 394.744],\n",
       "        [ 28.911, 390.089]]))"
      ]
     },
     "execution_count": 29,
     "metadata": {},
     "output_type": "execute_result"
    }
   ],
   "source": [
    "stats.chi2_contingency(churn_array)"
   ]
  },
  {
   "cell_type": "markdown",
   "metadata": {},
   "source": [
    "##### Observation : As p value is more than 0.05, We fail to reject null hypothesis and come to the conclusion that  customer churn does not depend on customer segment"
   ]
  },
  {
   "cell_type": "markdown",
   "metadata": {
    "colab_type": "text",
    "id": "Sh3-MCI232sf"
   },
   "source": [
    "## E N D  "
   ]
  }
 ],
 "metadata": {
  "colab": {
   "name": "Inclass_labexercise_Day03_QuestionNew.ipynb",
   "provenance": []
  },
  "kernelspec": {
   "display_name": "Python 3",
   "language": "python",
   "name": "python3"
  },
  "language_info": {
   "codemirror_mode": {
    "name": "ipython",
    "version": 3
   },
   "file_extension": ".py",
   "mimetype": "text/x-python",
   "name": "python",
   "nbconvert_exporter": "python",
   "pygments_lexer": "ipython3",
   "version": "3.8.3"
  }
 },
 "nbformat": 4,
 "nbformat_minor": 1
}
