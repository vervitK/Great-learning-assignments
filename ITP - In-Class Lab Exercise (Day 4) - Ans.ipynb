{
 "cells": [
  {
   "cell_type": "markdown",
   "metadata": {
    "collapsed": true
   },
   "source": [
    "<table align=\"left\" width=100%>\n",
    "    <tr>\n",
    "        <td width=\"10%\">\n",
    "            <img src=\"in_class.png\">\n",
    "        </td>\n",
    "        <td>\n",
    "            <div align=\"center\">\n",
    "                <font color=\"#21618C\" size=8px>\n",
    "                    <b>Inclass - Lab<br> (Day 4)\n",
    "                    </b>\n",
    "                </font>\n",
    "            </div>\n",
    "        </td>\n",
    "    </tr>\n",
    "</table>"
   ]
  },
  {
   "cell_type": "markdown",
   "metadata": {},
   "source": [
    "## Table of Content\n",
    "1. **[User-Define Function](#User_Define)**\n",
    "2. **[Lambda Functions](#Lambda_Functions)**\n",
    "    - 2.1 [Map Function](#Map_Function)\n",
    "    - 2.2 [Filter Function](#Filter_Function)\n",
    "    - 2.3 [Reduce Function](#Reduce_Function)"
   ]
  },
  {
   "cell_type": "markdown",
   "metadata": {},
   "source": [
    "### Let's begin with some hands-on practice exercises"
   ]
  },
  {
   "cell_type": "markdown",
   "metadata": {},
   "source": [
    "<a id='User_Define'></a>\n",
    "## 1. User-Define Function:"
   ]
  },
  {
   "cell_type": "markdown",
   "metadata": {},
   "source": [
    "<table align=\"left\">\n",
    "    <tr>\n",
    "        <td width=\"6%\">\n",
    "            <img src=\"question_icon.png\">\n",
    "        </td>\n",
    "        <td>\n",
    "            <div align=\"left\", style=\"font-size:120%\">\n",
    "                <font color=\"#21618C\">\n",
    "                    <b>1. Define the python function to swap first and last value of the given list<b>\n",
    "                </font>\n",
    "            </div>\n",
    "        </td>\n",
    "    </tr>\n",
    "</table>"
   ]
  },
  {
   "cell_type": "markdown",
   "metadata": {},
   "source": [
    "**Use the list given below:**<br>\n",
    "my_list = [15, 78, 10, 45, 89]"
   ]
  },
  {
   "cell_type": "code",
   "execution_count": 3,
   "metadata": {},
   "outputs": [
    {
     "data": {
      "text/plain": [
       "[89, 78, 10, 45, 15]"
      ]
     },
     "execution_count": 3,
     "metadata": {},
     "output_type": "execute_result"
    }
   ],
   "source": [
    "my_list = [15, 78, 10, 45, 89]\n",
    "def swap():\n",
    "    a, *c,b = my_list\n",
    "    new_list = [b,*c,a]\n",
    "    return new_list\n",
    "swap()"
   ]
  },
  {
   "cell_type": "markdown",
   "metadata": {},
   "source": [
    "<table align=\"left\">\n",
    "    <tr>\n",
    "        <td width=\"6%\">\n",
    "            <img src=\"question_icon.png\">\n",
    "        </td>\n",
    "        <td>\n",
    "            <div align=\"left\", style=\"font-size:120%\">\n",
    "                <font color=\"#21618C\">\n",
    "                    <b>2. Define the python function which adds two global numeric variables (1204 and 344536)<b>\n",
    "                </font>\n",
    "            </div>\n",
    "        </td>\n",
    "    </tr>\n",
    "</table>"
   ]
  },
  {
   "cell_type": "code",
   "execution_count": 4,
   "metadata": {},
   "outputs": [
    {
     "data": {
      "text/plain": [
       "345740"
      ]
     },
     "execution_count": 4,
     "metadata": {},
     "output_type": "execute_result"
    }
   ],
   "source": [
    "def sum_t(x,y):\n",
    "    a = x+y\n",
    "    return(a)\n",
    "sum_t(1204,344536)"
   ]
  },
  {
   "cell_type": "markdown",
   "metadata": {},
   "source": [
    "<table align=\"left\">\n",
    "    <tr>\n",
    "        <td width=\"6%\">\n",
    "            <img src=\"question_icon.png\">\n",
    "        </td>\n",
    "        <td>\n",
    "            <div align=\"left\", style=\"font-size:120%\">\n",
    "                <font color=\"#21618C\">\n",
    "                    <b>3. Define the python function to check whether the number 33 is even or odd<b>   \n",
    "                </font>\n",
    "            </div>\n",
    "        </td>\n",
    "    </tr>\n",
    "</table>"
   ]
  },
  {
   "cell_type": "code",
   "execution_count": 2,
   "metadata": {},
   "outputs": [
    {
     "data": {
      "text/plain": [
       "('num is odd', 33)"
      ]
     },
     "execution_count": 2,
     "metadata": {},
     "output_type": "execute_result"
    }
   ],
   "source": [
    "def e_n(x):\n",
    "    if (x%2==0):\n",
    "        return('num is even',x)\n",
    "    else:\n",
    "        return('num is odd',x)\n",
    "e_n(33)    "
   ]
  },
  {
   "cell_type": "markdown",
   "metadata": {},
   "source": [
    "<table align=\"left\">\n",
    "    <tr>\n",
    "        <td width=\"6%\">\n",
    "            <img src=\"question_icon.png\">\n",
    "        </td>\n",
    "        <td>\n",
    "            <div align=\"left\", style=\"font-size:120%\">\n",
    "                <font color=\"#21618C\">\n",
    "                    <b>4. Define the python function to calculate the factorial of the number<b>  \n",
    "                </font>\n",
    "            </div>\n",
    "        </td>\n",
    "    </tr>\n",
    "</table>"
   ]
  },
  {
   "cell_type": "code",
   "execution_count": 12,
   "metadata": {},
   "outputs": [
    {
     "name": "stdout",
     "output_type": "stream",
     "text": [
      "120\n"
     ]
    }
   ],
   "source": [
    "def fact(x):\n",
    "    if x==1:\n",
    "        return 1\n",
    "    else:\n",
    "        return(x * fact(x-1))\n",
    "print(fact(5)) \n",
    "    "
   ]
  },
  {
   "cell_type": "markdown",
   "metadata": {},
   "source": [
    "<table align=\"left\">\n",
    "    <tr>\n",
    "        <td width=\"6%\">\n",
    "            <img src=\"question_icon.png\">\n",
    "        </td>\n",
    "        <td>\n",
    "            <div align=\"left\", style=\"font-size:120%\">\n",
    "                <font color=\"#21618C\">\n",
    "                    <b>5. Define a function to add new items(1,2,3) in the empty list<b>\n",
    "                </font>\n",
    "            </div>\n",
    "        </td>\n",
    "    </tr>\n",
    "</table>"
   ]
  },
  {
   "cell_type": "code",
   "execution_count": 11,
   "metadata": {},
   "outputs": [
    {
     "data": {
      "text/plain": [
       "[1, 2, 3]"
      ]
     },
     "execution_count": 11,
     "metadata": {},
     "output_type": "execute_result"
    }
   ],
   "source": [
    "def addition(x,base_value=[]):\n",
    "    for i in x:\n",
    "        base_value.append(i)\n",
    "    return(base_value)\n",
    "addition((1,2,3))"
   ]
  },
  {
   "cell_type": "markdown",
   "metadata": {},
   "source": [
    "<table align=\"left\">\n",
    "    <tr>\n",
    "        <td width=\"6%\">\n",
    "            <img src=\"question_icon.png\">\n",
    "        </td>\n",
    "        <td>\n",
    "            <div align=\"left\", style=\"font-size:120%\">\n",
    "                <font color=\"#21618C\">\n",
    "                    <b>6.  Write a python function to test whether the two words start with the same character or not (take the inputs from the user)<b> \n",
    "                </font>\n",
    "            </div>\n",
    "        </td>\n",
    "    </tr>\n",
    "</table>"
   ]
  },
  {
   "cell_type": "code",
   "execution_count": 20,
   "metadata": {},
   "outputs": [
    {
     "name": "stdout",
     "output_type": "stream",
     "text": [
      "enter a string: hello\n",
      "enter a string: hi\n"
     ]
    },
    {
     "data": {
      "text/plain": [
       "True"
      ]
     },
     "execution_count": 20,
     "metadata": {},
     "output_type": "execute_result"
    }
   ],
   "source": [
    "str1=input('enter a string 1: ')\n",
    "str2=input('enter a string 2: ')\n",
    "\n",
    "def initial(str1,str2):\n",
    "    if str1[0].upper()==str2[0].upper():\n",
    "        return True\n",
    "    else:\n",
    "        return False\n",
    "initial(str1,str2) "
   ]
  },
  {
   "cell_type": "markdown",
   "metadata": {},
   "source": [
    "<table align=\"left\">\n",
    "    <tr>\n",
    "        <td width=\"6%\">\n",
    "            <img src=\"question_icon.png\">\n",
    "        </td>\n",
    "        <td>\n",
    "            <div align=\"left\", style=\"font-size:120%\">\n",
    "                <font color=\"#21618C\">\n",
    "                    <b>7. Check if the string contains a vowel or not (take the inputs from the user)</b>\n",
    "                </font>\n",
    "            </div>\n",
    "        </td>\n",
    "    </tr>\n",
    "</table>"
   ]
  },
  {
   "cell_type": "code",
   "execution_count": 28,
   "metadata": {},
   "outputs": [
    {
     "data": {
      "text/plain": [
       "False"
      ]
     },
     "execution_count": 28,
     "metadata": {},
     "output_type": "execute_result"
    }
   ],
   "source": [
    "def vowel_c(x):\n",
    "    for i in x:\n",
    "        for y in i:\n",
    "            if x.upper() == ('A','E','I','O','U'):\n",
    "                return True\n",
    "            else:\n",
    "                return False\n",
    "vowel_c('hello')"
   ]
  },
  {
   "cell_type": "markdown",
   "metadata": {},
   "source": [
    "<table align=\"left\">\n",
    "    <tr>\n",
    "        <td width=\"6%\">\n",
    "            <img src=\"question_icon.png\">\n",
    "        </td>\n",
    "        <td>\n",
    "            <div align=\"left\", style=\"font-size:120%\">\n",
    "                <font color=\"#21618C\">\n",
    "                    <b>8. Write the python program to get the unique values from the given list<b>\n",
    "                </font>\n",
    "            </div>\n",
    "        </td>\n",
    "    </tr>\n",
    "</table>"
   ]
  },
  {
   "cell_type": "markdown",
   "metadata": {},
   "source": [
    "**Use the list given below:**<br>\n",
    "my_list = [1,2,3,3,11,34,3,3,4,5]"
   ]
  },
  {
   "cell_type": "code",
   "execution_count": 31,
   "metadata": {},
   "outputs": [
    {
     "data": {
      "text/plain": [
       "[1, 2, 3, 11, 34, 4, 5]"
      ]
     },
     "execution_count": 31,
     "metadata": {},
     "output_type": "execute_result"
    }
   ],
   "source": [
    "my_list = [1,2,3,3,11,34,3,3,4,5]\n",
    "def unique(lst):\n",
    "    x = []\n",
    "    for i in lst:\n",
    "        if i not in x:\n",
    "            x.append(i)\n",
    "    return x\n",
    "unique(my_list)"
   ]
  },
  {
   "cell_type": "markdown",
   "metadata": {},
   "source": [
    "<table align=\"left\">\n",
    "    <tr>\n",
    "        <td width=\"6%\">\n",
    "            <img src=\"question_icon.png\">\n",
    "        </td>\n",
    "        <td>\n",
    "            <div align=\"left\", style=\"font-size:120%\">\n",
    "                <font color=\"#21618C\">\n",
    "                    <b>9. Find the common characters from the given two strings<b>\n",
    "                </font>\n",
    "            </div>\n",
    "        </td>\n",
    "    </tr>\n",
    "</table>"
   ]
  },
  {
   "cell_type": "markdown",
   "metadata": {},
   "source": [
    "**Use the strings given below:**<br>\n",
    "string1 = 'Angel'<br>\n",
    "string2 = 'apple'"
   ]
  },
  {
   "cell_type": "code",
   "execution_count": 33,
   "metadata": {},
   "outputs": [
    {
     "data": {
      "text/plain": [
       "['e', 'l']"
      ]
     },
     "execution_count": 33,
     "metadata": {},
     "output_type": "execute_result"
    }
   ],
   "source": [
    "string1 = 'Angel'\n",
    "string2 = 'apple'\n",
    "\n",
    "\n",
    "def common(string1,string2):\n",
    "    com=[]\n",
    "    for i in string1:\n",
    "        if i in string2:\n",
    "            com.append(i)\n",
    "    return com  \n",
    "common(string1,string2)"
   ]
  },
  {
   "cell_type": "markdown",
   "metadata": {},
   "source": [
    "<table align=\"left\">\n",
    "    <tr>\n",
    "        <td width=\"6%\">\n",
    "            <img src=\"question_icon.png\">\n",
    "        </td>\n",
    "        <td>\n",
    "            <div align=\"left\", style=\"font-size:120%\">\n",
    "                <font color=\"#21618C\">\n",
    "                    <b>10. Define a function to perform addition, multiplication, and subtraction of the given two numbers<b> \n",
    "                </font>\n",
    "            </div>\n",
    "        </td>\n",
    "    </tr>\n",
    "</table>"
   ]
  },
  {
   "cell_type": "markdown",
   "metadata": {},
   "source": [
    "**Use the number given below:**<br>\n",
    "a = 15<br>\n",
    "b = 4"
   ]
  },
  {
   "cell_type": "code",
   "execution_count": 35,
   "metadata": {},
   "outputs": [
    {
     "data": {
      "text/plain": [
       "('sum is:', 19, 'subtraction :', 11, 'multiplication:', 60)"
      ]
     },
     "execution_count": 35,
     "metadata": {},
     "output_type": "execute_result"
    }
   ],
   "source": [
    "def mat(a,b):\n",
    "    x= a+b\n",
    "    y= a-b\n",
    "    z= a*b\n",
    "    return('sum is:',x,'subtraction :',y ,'multiplication:',z )\n",
    "mat(15,4)"
   ]
  },
  {
   "cell_type": "markdown",
   "metadata": {},
   "source": [
    "<table align=\"left\">\n",
    "    <tr>\n",
    "        <td width=\"6%\">\n",
    "            <img src=\"question_icon.png\">\n",
    "        </td>\n",
    "        <td>\n",
    "            <div align=\"left\", style=\"font-size:120%\">\n",
    "                <font color=\"#21618C\">\n",
    "                    <b>11. Define a function to find the sum of all elements in the list<b>\n",
    "                </font>\n",
    "            </div>\n",
    "        </td>\n",
    "    </tr>\n",
    "</table>"
   ]
  },
  {
   "cell_type": "markdown",
   "metadata": {
    "collapsed": true
   },
   "source": [
    "**Use the list given below:**<br>\n",
    "my_list = [34, 34, 55, 2, 56, 45]"
   ]
  },
  {
   "cell_type": "code",
   "execution_count": 36,
   "metadata": {},
   "outputs": [
    {
     "data": {
      "text/plain": [
       "226"
      ]
     },
     "execution_count": 36,
     "metadata": {},
     "output_type": "execute_result"
    }
   ],
   "source": [
    "my_list = [34, 34, 55, 2, 56, 45]\n",
    "def addition(x):\n",
    "    total = 0\n",
    "    for i in x :\n",
    "        total +=i\n",
    "    return total\n",
    "\n",
    "addition(my_list)"
   ]
  },
  {
   "cell_type": "markdown",
   "metadata": {},
   "source": [
    "<a id='Lambda_Functions'></a>\n",
    "## 2. Lambda Functions"
   ]
  },
  {
   "cell_type": "markdown",
   "metadata": {},
   "source": [
    "<table align=\"left\">\n",
    "    <tr>\n",
    "        <td width=\"6%\">\n",
    "            <img src=\"question_icon.png\">\n",
    "        </td>\n",
    "        <td>\n",
    "            <div align=\"left\", style=\"font-size:120%\">\n",
    "                <font color=\"#21618C\">\n",
    "                    <b>12. Find the minimum of the two numbers(34 and 78) using the lambda function<b>\n",
    "                </font>\n",
    "            </div>\n",
    "        </td>\n",
    "    </tr>\n",
    "</table>"
   ]
  },
  {
   "cell_type": "code",
   "execution_count": 2,
   "metadata": {},
   "outputs": [
    {
     "data": {
      "text/plain": [
       "34"
      ]
     },
     "execution_count": 2,
     "metadata": {},
     "output_type": "execute_result"
    }
   ],
   "source": [
    "min_v = (lambda x,y : x if x < y else y)\n",
    "min_v(34,78)"
   ]
  },
  {
   "cell_type": "markdown",
   "metadata": {},
   "source": [
    "<a id='Map_Function'></a>\n",
    "### 2.1 Map Function"
   ]
  },
  {
   "cell_type": "markdown",
   "metadata": {},
   "source": [
    "<table align=\"left\">\n",
    "    <tr>\n",
    "        <td width=\"6%\">\n",
    "            <img src=\"question_icon.png\">\n",
    "        </td>\n",
    "        <td>\n",
    "            <div align=\"left\", style=\"font-size:120%\">\n",
    "                <font color=\"#21618C\">\n",
    "                    <b>13. Calculate the square of each element from the given tuple using the map function<b>\n",
    "                </font>\n",
    "            </div>\n",
    "        </td>\n",
    "    </tr>\n",
    "</table>"
   ]
  },
  {
   "cell_type": "markdown",
   "metadata": {
    "collapsed": true
   },
   "source": [
    "**Use the tuple given below:**<br>\n",
    "number = (11, 21, 30, 34)"
   ]
  },
  {
   "cell_type": "code",
   "execution_count": 10,
   "metadata": {},
   "outputs": [
    {
     "name": "stdout",
     "output_type": "stream",
     "text": [
      "[121, 441, 900, 1156]\n"
     ]
    }
   ],
   "source": [
    "number = (11, 21, 30, 34)\n",
    "sqr = map(lambda x: x**2,number)\n",
    "print(list(sqr))"
   ]
  },
  {
   "cell_type": "markdown",
   "metadata": {},
   "source": [
    "<table align=\"left\">\n",
    "    <tr>\n",
    "        <td width=\"6%\">\n",
    "            <img src=\"question_icon.png\">\n",
    "        </td>\n",
    "        <td>\n",
    "            <div align=\"left\", style=\"font-size:120%\">\n",
    "                <font color=\"#21618C\">\n",
    "                    <b>14. Read the given sentence and print the length of each word in a sentence in a list using the map function<b>\n",
    "                </font>\n",
    "            </div>\n",
    "        </td>\n",
    "    </tr>\n",
    "</table>"
   ]
  },
  {
   "cell_type": "markdown",
   "metadata": {
    "collapsed": true
   },
   "source": [
    "** Use the sentence given below:**<br>\n",
    "sentence = 'Python for Data Science'"
   ]
  },
  {
   "cell_type": "code",
   "execution_count": 22,
   "metadata": {},
   "outputs": [
    {
     "name": "stdout",
     "output_type": "stream",
     "text": [
      "[6, 3, 4, 7]\n"
     ]
    }
   ],
   "source": [
    "sentence = 'Python for Data Science'\n",
    "le = map(lambda i : len(i),sentence.split())\n",
    "print(list(le))"
   ]
  },
  {
   "cell_type": "markdown",
   "metadata": {},
   "source": [
    "<table align=\"left\">\n",
    "    <tr>\n",
    "        <td width=\"6%\">\n",
    "            <img src=\"question_icon.png\">\n",
    "        </td>\n",
    "        <td>\n",
    "            <div align=\"left\", style=\"font-size:120%\">\n",
    "                <font color=\"#21618C\">\n",
    "                    <b>15. Find the remainder of all the numbers present in a list after dividing by 5\n",
    "<b>\n",
    "                </font>\n",
    "            </div>\n",
    "        </td>\n",
    "    </tr>\n",
    "</table>"
   ]
  },
  {
   "cell_type": "markdown",
   "metadata": {
    "collapsed": true
   },
   "source": [
    "**Use the list given below:**<br>\n",
    "numbers = [ 74, 85, 14, 23 ]"
   ]
  },
  {
   "cell_type": "code",
   "execution_count": 27,
   "metadata": {},
   "outputs": [
    {
     "name": "stdout",
     "output_type": "stream",
     "text": [
      "[4, 0, 4, 3]\n"
     ]
    }
   ],
   "source": [
    "numbers = [ 74, 85, 14, 23 ]\n",
    "x = map(lambda i : i%5,numbers )\n",
    "print(list(x))"
   ]
  },
  {
   "cell_type": "markdown",
   "metadata": {},
   "source": [
    "<table align=\"left\">\n",
    "    <tr>\n",
    "        <td width=\"6%\">\n",
    "            <img src=\"question_icon.png\">\n",
    "        </td>\n",
    "        <td>\n",
    "            <div align=\"left\", style=\"font-size:120%\">\n",
    "                <font color=\"#21618C\">\n",
    "                    <b>16. Concatenate elements from the list1 with the corresponding element of list2<b>\n",
    "                </font>\n",
    "            </div>\n",
    "        </td>\n",
    "    </tr>\n",
    "</table>"
   ]
  },
  {
   "cell_type": "markdown",
   "metadata": {
    "collapsed": true
   },
   "source": [
    "** Use the list given below:**<br>\n",
    "list1 = ['I', 'felt', 'happy', 'because', 'I', 'saw', 'the', 'others', 'were', 'happy']<br>\n",
    "list2 = [11,22,33,44,55,66,77,88,99]"
   ]
  },
  {
   "cell_type": "code",
   "execution_count": 2,
   "metadata": {},
   "outputs": [
    {
     "name": "stdout",
     "output_type": "stream",
     "text": [
      "['I11', 'felt22', 'happy33', 'because44', 'I55', 'saw66', 'the77', 'others88', 'were99']\n"
     ]
    }
   ],
   "source": [
    "list1 = ['I', 'felt', 'happy', 'because', 'I', 'saw', 'the', 'others', 'were', 'happy']\n",
    "list2 = [11,22,33,44,55,66,77,88,99]\n",
    "\n",
    "c = list(map(lambda i,y :i +str(y),list1,list2))\n",
    "print(c)"
   ]
  },
  {
   "cell_type": "markdown",
   "metadata": {},
   "source": [
    "<a id='Filter_Function'></a>\n",
    "### 2.3 Filter Function"
   ]
  },
  {
   "cell_type": "markdown",
   "metadata": {},
   "source": [
    "<table align=\"left\">\n",
    "    <tr>\n",
    "        <td width=\"6%\">\n",
    "            <img src=\"question_icon.png\">\n",
    "        </td>\n",
    "        <td>\n",
    "            <div align=\"left\", style=\"font-size:120%\">\n",
    "                <font color=\"#21618C\">\n",
    "                    <b>17. Find the common elements from the given array using filter method<b>\n",
    "                </font>\n",
    "            </div>\n",
    "        </td>\n",
    "    </tr>\n",
    "</table>"
   ]
  },
  {
   "cell_type": "markdown",
   "metadata": {},
   "source": [
    "**Use the array given below:**<br>\n",
    "arr1 = ['t','u','t','o','r','i','a','l']<br>\n",
    "arr2 = ['p','o','i','n','t']"
   ]
  },
  {
   "cell_type": "code",
   "execution_count": 5,
   "metadata": {},
   "outputs": [
    {
     "name": "stdout",
     "output_type": "stream",
     "text": [
      "common elements:  ['o', 'i', 't']\n"
     ]
    }
   ],
   "source": [
    "arr1 = ['t','u','t','o','r','i','a','l']\n",
    "arr2 = ['p','o','i','n','t']\n",
    "\n",
    "def common(x,y):\n",
    "    a = list(filter(lambda i:i  in x,y))\n",
    "    print('common elements: ',a)\n",
    "common(arr1,arr2)"
   ]
  },
  {
   "cell_type": "markdown",
   "metadata": {},
   "source": [
    "<table align=\"left\">\n",
    "    <tr>\n",
    "        <td width=\"6%\">\n",
    "            <img src=\"question_icon.png\">\n",
    "        </td>\n",
    "        <td>\n",
    "            <div align=\"left\", style=\"font-size:120%\">\n",
    "                <font color=\"#21618C\">\n",
    "                    <b>18. Remove odd numbers from the given list<b>\n",
    "                </font>\n",
    "            </div>\n",
    "        </td>\n",
    "    </tr>\n",
    "</table>"
   ]
  },
  {
   "cell_type": "markdown",
   "metadata": {},
   "source": [
    "**Use the list given below:**<br>\n",
    "numbers = [21, 23, 443, 355, 743, 823, 110, 1241, 3673, 352, 278, 37, 7]"
   ]
  },
  {
   "cell_type": "code",
   "execution_count": 6,
   "metadata": {},
   "outputs": [
    {
     "name": "stdout",
     "output_type": "stream",
     "text": [
      "[110, 352, 278]\n"
     ]
    }
   ],
   "source": [
    "numbers = [21, 23, 443, 355, 743, 823, 110, 1241, 3673, 352, 278, 37, 7]\n",
    "is_even = filter(lambda i:i%2==0,numbers)\n",
    "print(list(is_even))"
   ]
  },
  {
   "cell_type": "markdown",
   "metadata": {},
   "source": [
    "<a id='Reduce_Function'></a>\n",
    "### 2.4 Reduce Function"
   ]
  },
  {
   "cell_type": "markdown",
   "metadata": {},
   "source": [
    "<table align=\"left\">\n",
    "    <tr>\n",
    "        <td width=\"6%\">\n",
    "            <img src=\"question_icon.png\">\n",
    "        </td>\n",
    "        <td>\n",
    "            <div align=\"left\", style=\"font-size:120%\">\n",
    "                <font color=\"#21618C\">\n",
    "                    <b>19. Calculate the sum of the numbers from 1 to 100<b> \n",
    "                </font>\n",
    "            </div>\n",
    "        </td>\n",
    "    </tr>\n",
    "</table>"
   ]
  },
  {
   "cell_type": "code",
   "execution_count": 1,
   "metadata": {},
   "outputs": [
    {
     "data": {
      "text/plain": [
       "5050"
      ]
     },
     "execution_count": 1,
     "metadata": {},
     "output_type": "execute_result"
    }
   ],
   "source": [
    "from functools import reduce\n",
    "reduce(lambda x,y :x+y ,range(1,101))"
   ]
  },
  {
   "cell_type": "markdown",
   "metadata": {},
   "source": [
    "<table align=\"left\">\n",
    "    <tr>\n",
    "        <td width=\"6%\">\n",
    "            <img src=\"question_icon.png\">\n",
    "        </td>\n",
    "        <td>\n",
    "            <div align=\"left\", style=\"font-size:120%\">\n",
    "                <font color=\"#21618C\">\n",
    "                    <b>20. Determine the maximum of a given list using reduce function<b> \n",
    "                </font>\n",
    "            </div>\n",
    "        </td>\n",
    "    </tr>\n",
    "</table>"
   ]
  },
  {
   "cell_type": "markdown",
   "metadata": {},
   "source": [
    "**Use the list given below:**<br>\n",
    "my_list = [47,11,42,102,13]   "
   ]
  },
  {
   "cell_type": "code",
   "execution_count": 9,
   "metadata": {},
   "outputs": [
    {
     "data": {
      "text/plain": [
       "102"
      ]
     },
     "execution_count": 9,
     "metadata": {},
     "output_type": "execute_result"
    }
   ],
   "source": [
    "my_list = [47,11,42,102,13]\n",
    "reduce(lambda x,y :x if x > y else y, my_list)"
   ]
  }
 ],
 "metadata": {
  "kernelspec": {
   "display_name": "Python 3",
   "language": "python",
   "name": "python3"
  },
  "language_info": {
   "codemirror_mode": {
    "name": "ipython",
    "version": 3
   },
   "file_extension": ".py",
   "mimetype": "text/x-python",
   "name": "python",
   "nbconvert_exporter": "python",
   "pygments_lexer": "ipython3",
   "version": "3.8.5"
  }
 },
 "nbformat": 4,
 "nbformat_minor": 2
}
