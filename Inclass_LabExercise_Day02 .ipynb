{
 "cells": [
  {
   "cell_type": "code",
   "execution_count": 4,
   "metadata": {
    "colab": {},
    "colab_type": "code",
    "id": "BRhW47c6xHR0"
   },
   "outputs": [],
   "source": [
    "import numpy       as np\n",
    "import pandas      as pd\n",
    "import scipy.stats as stats\n",
    "from scipy.stats             import ttest_1samp,ttest_ind, wilcoxon\n",
    "from statsmodels.stats.power import ttest_power\n",
    "import matplotlib.pyplot     as     plt\n",
    "import seaborn as sns"
   ]
  },
  {
   "cell_type": "markdown",
   "metadata": {
    "colab_type": "text",
    "id": "rpOKoIt-xHR3"
   },
   "source": [
    "## Practice Exercise :\n",
    "\n",
    "You are given the daily sugar intake of 11 diabetic patients in the following Python code. \n",
    "\n",
    "**Is there any evidence to the claim that the average daily sugar intake of the diabetic patients is 7600 mg.** \n",
    "\n",
    "**Hint: Use t test**"
   ]
  },
  {
   "cell_type": "code",
   "execution_count": 4,
   "metadata": {
    "colab": {},
    "colab_type": "code",
    "id": "fXqipuhPxHR4"
   },
   "outputs": [],
   "source": [
    "# daily intake of Sugar in milligrams for 11 diabetic patients\n",
    "import numpy as np\n",
    "daily_intake = np.array([5560, 5770, 7640, 5180, 5690, 6435, 6803, 7689, 6876, 8213, 8765])"
   ]
  },
  {
   "cell_type": "raw",
   "metadata": {
    "colab": {},
    "colab_type": "code",
    "id": "ng4LB2so38ub"
   },
   "source": [
    "H1 : new_mu != 7600\n",
    "H0 : new_mu = 7600"
   ]
  },
  {
   "cell_type": "code",
   "execution_count": 5,
   "metadata": {
    "colab": {},
    "colab_type": "code",
    "id": "h-wCqZ31383t"
   },
   "outputs": [
    {
     "name": "stdout",
     "output_type": "stream",
     "text": [
      "7600 \n",
      " 6783.727272727273\n"
     ]
    }
   ],
   "source": [
    "mu = 7600\n",
    "n = 11 \n",
    "xbar = np.mean(daily_intake)\n",
    "print(mu, '\\n', xbar)"
   ]
  },
  {
   "cell_type": "code",
   "execution_count": 6,
   "metadata": {
    "colab": {},
    "colab_type": "code",
    "id": "S2Qxg7m138kO"
   },
   "outputs": [],
   "source": [
    "s = np.std(daily_intake , ddof = 1)   # Standard Deviation of Sample\n",
    "se = s / np.sqrt(n)"
   ]
  },
  {
   "cell_type": "code",
   "execution_count": 9,
   "metadata": {
    "colab": {},
    "colab_type": "code",
    "id": "YjYL_Siq4FWR"
   },
   "outputs": [
    {
     "name": "stdout",
     "output_type": "stream",
     "text": [
      "P Value\n",
      "P-Value is  0.04481624562570511\n",
      "P-Value is less than 5%. Hence Reject Null \n",
      "\n",
      "Critical ValueS\n",
      "8393.327015098372\n",
      "6806.672984901628\n",
      "Observed sample mean lies in the Critical Region. Hence Reject Null \n",
      "\n",
      "T Method\n",
      "T-Statistic\n",
      "-2.2925841964555027\n",
      "What are the Critical values in the Z-scale\n",
      "2.2281388519649385\n",
      "-2.2281388519649385\n",
      "As t satistics is less than -2.228 . Hence Reject Null\n"
     ]
    }
   ],
   "source": [
    "### T test:\n",
    "\n",
    "#P_Value\n",
    "print(\"P Value\")\n",
    "p_value = stats.t.cdf( x = xbar ,loc= mu , scale = se , df =n-1 ) * 2\n",
    "print(\"P-Value is \" , p_value)\n",
    "print(\"P-Value is less than 5%. Hence Reject Null \\n\")\n",
    "\n",
    "#Critical Values\n",
    "print(\"Critical ValueS\")\n",
    "print(stats.t.isf(0.025,loc=mu,scale=se ,df= 10))\n",
    "print(stats.t.isf(0.975,loc=mu,scale=se, df=10))\n",
    "print(\"Observed sample mean lies in the Critical Region. Hence Reject Null \\n\")\n",
    "\n",
    "#T Statistic\n",
    "print(\"T Method\")\n",
    "print(\"T-Statistic\")\n",
    "t = (xbar-mu)/se\n",
    "print(t)\n",
    "print(\"What are the Critical values in the Z-scale\")\n",
    "print(stats.t.isf(0.025,loc=0,scale=1,df=n-1))\n",
    "print(stats.t.isf(0.975,loc=0,scale=1 , df= n-1))\n",
    "print('As t satistics is less than -2.228 . Hence Reject Null')"
   ]
  },
  {
   "cell_type": "code",
   "execution_count": 10,
   "metadata": {},
   "outputs": [
    {
     "name": "stdout",
     "output_type": "stream",
     "text": [
      "-2.2925841964555027\n",
      "What are the Critical values in the Z-scale\n",
      "1.9599639845400545\n",
      "-1.959963984540054\n",
      "As t satistics is less than -2.228 . Hence Reject Null\n"
     ]
    }
   ],
   "source": [
    "z = (xbar-mu)/se\n",
    "print(z)\n",
    "print(\"What are the Critical values in the Z-scale\")\n",
    "print(stats.norm.isf(0.025,loc=0,scale=1))\n",
    "print(stats.norm.isf(0.975,loc=0,scale=1))\n",
    "print('As t satistics is less than -2.228 . Hence Reject Null')   # You can Clearly see that t scale is different than t scale"
   ]
  },
  {
   "cell_type": "code",
   "execution_count": 12,
   "metadata": {},
   "outputs": [
    {
     "data": {
      "text/plain": [
       "Ttest_1sampResult(statistic=-2.2925841964555027, pvalue=0.04481624562570511)"
      ]
     },
     "execution_count": 12,
     "metadata": {},
     "output_type": "execute_result"
    }
   ],
   "source": [
    "stats.ttest_1samp(daily_intake,7600)"
   ]
  },
  {
   "cell_type": "raw",
   "metadata": {},
   "source": [
    "Conclusion: The calim that  average daily sugar intake of the diabetic patients is 7600 mg is not admitted"
   ]
  },
  {
   "cell_type": "markdown",
   "metadata": {
    "colab_type": "text",
    "id": "HSSLTeUExHSE"
   },
   "source": [
    "## Practice Exercise "
   ]
  },
  {
   "cell_type": "markdown",
   "metadata": {
    "colab_type": "text",
    "id": "182whitMxHSF"
   },
   "source": [
    "Compare the following two unrelated samples. \n",
    "Data was collected on the weights of women and men enrolled in a weight reduction program. At  𝛼 = 0.05, test whether the average weights of these two samples are different."
   ]
  },
  {
   "cell_type": "code",
   "execution_count": 21,
   "metadata": {
    "colab": {},
    "colab_type": "code",
    "id": "LAkBViewxHSF"
   },
   "outputs": [],
   "source": [
    "Weight_Female       =  [ 53.8, 54.4, 51.2, 52.5, 61.0, 50.6, 51.6, 70.0]\n",
    "Weight_Male         =  [ 72.5, 80.3, 71.3, 67.7, 66.2, 73.4, 61.3, 76.8]"
   ]
  },
  {
   "cell_type": "code",
   "execution_count": 22,
   "metadata": {
    "colab": {},
    "colab_type": "code",
    "id": "NpOVhCQbxHSH"
   },
   "outputs": [],
   "source": [
    "from    scipy.stats             import  ttest_1samp,ttest_ind, wilcoxon, ttest_ind_from_stats\n",
    "import  scipy.stats             as      stats  \n",
    "from    statsmodels.stats.power import  ttest_power\n",
    "import  matplotlib.pyplot       as      plt"
   ]
  },
  {
   "cell_type": "code",
   "execution_count": 23,
   "metadata": {
    "colab": {},
    "colab_type": "code",
    "id": "RrNv313_4KQR"
   },
   "outputs": [
    {
     "name": "stdout",
     "output_type": "stream",
     "text": [
      "Ttest_indResult(statistic=-4.886344172533444, pvalue=0.00024034957515992796)\n"
     ]
    },
    {
     "data": {
      "image/png": "[encoded data removed]",
      "text/plain": [
       "<Figure size 432x288 with 1 Axes>"
      ]
     },
     "metadata": {
      "needs_background": "light"
     },
     "output_type": "display_data"
    }
   ],
   "source": [
    "print(stats.ttest_ind(Weight_Female,Weight_Male))\n",
    "sns.distplot(Weight_Female,color='red',label='Weight Before')\n",
    "sns.distplot(Weight_Male,color='green',label='Weight After')\n",
    "plt.show()"
   ]
  },
  {
   "cell_type": "raw",
   "metadata": {
    "colab": {},
    "colab_type": "code",
    "id": "bUMtbPWC4Y2K"
   },
   "source": [
    "As p vallue is very less, we reject null hypothesis with more confident and there is strong relationship between gender \n",
    "and weight."
   ]
  },
  {
   "cell_type": "markdown",
   "metadata": {
    "colab_type": "text",
    "id": "L9yfAE2PxHSN"
   },
   "source": [
    "## Practice Exercise :"
   ]
  },
  {
   "cell_type": "markdown",
   "metadata": {
    "colab_type": "text",
    "id": "mDI6UConxHSO"
   },
   "source": [
    "**Here weight of 25 people were recorded before they had a new therapy and then again 6 months later. \n",
    "Check if new therapy leads to a change in weight.**"
   ]
  },
  {
   "cell_type": "code",
   "execution_count": 13,
   "metadata": {
    "colab": {},
    "colab_type": "code",
    "id": "sITE_teAxHSP"
   },
   "outputs": [],
   "source": [
    "wt_before = [76, 76, 72, 73, 64, 63, 75, 75, 71, 76, 71, 76, 78, 73, 76, 70, 71, 82, 84, 68, 70, 68, 66, 67, 74]\n",
    "wt_after  = [63, 72, 67, 69, 58, 59, 70, 71, 70, 71, 68, 71, 72, 69, 72, 67, 67, 78, 79, 62, 67, 63, 61, 63, 69]"
   ]
  },
  {
   "cell_type": "markdown",
   "metadata": {
    "colab_type": "text",
    "id": "xSfzCRu6xHSR"
   },
   "source": [
    "**At 5% level of significance, is there any evidence that the new therapy has any effect on the weight of the participants?**"
   ]
  },
  {
   "cell_type": "code",
   "execution_count": 19,
   "metadata": {
    "colab": {},
    "colab_type": "code",
    "id": "vRz9VrqA4iQM"
   },
   "outputs": [
    {
     "name": "stdout",
     "output_type": "stream",
     "text": [
      "Ttest_relResult(statistic=11.381954836452902, pvalue=3.704651177780503e-11)\n"
     ]
    },
    {
     "data": {
      "image/png": "[encoded data removed]",
      "text/plain": [
       "<Figure size 432x288 with 1 Axes>"
      ]
     },
     "metadata": {
      "needs_background": "light"
     },
     "output_type": "display_data"
    }
   ],
   "source": [
    "print(stats.ttest_rel(wt_before,wt_after))\n",
    "sns.distplot(wt_before,color='red',label='Weight Before')\n",
    "sns.distplot(wt_after,color='green',label='Weight After')\n",
    "plt.show()"
   ]
  },
  {
   "cell_type": "raw",
   "metadata": {},
   "source": [
    "REJECT NULL."
   ]
  },
  {
   "cell_type": "raw",
   "metadata": {},
   "source": [
    "Observation : As p value is very very low , we can say with a lot of confidence that weight after and before are different.\n",
    "(default setting in python is mu(A) = mu(b))"
   ]
  },
  {
   "cell_type": "raw",
   "metadata": {},
   "source": [
    "Also we cay say that there is significant relationship between theorapy and weight."
   ]
  },
  {
   "cell_type": "markdown",
   "metadata": {
    "colab_type": "text",
    "id": "LXvJFHOIxHSR"
   },
   "source": [
    "**Hint: Use a paired t test**"
   ]
  },
  {
   "cell_type": "markdown",
   "metadata": {
    "colab_type": "text",
    "id": "2bvdEdUwxHSU"
   },
   "source": [
    "## Practice Exercise :"
   ]
  },
  {
   "cell_type": "markdown",
   "metadata": {
    "colab_type": "text",
    "id": "WmBi4MI7xHSV"
   },
   "source": [
    "We collect the sample data, calculate the test statistic. \n",
    "In our example, \n",
    "* $\\overline{X}$ = 3.001\n",
    "* $\\mu$   = 2.89\n",
    "* $\\sigma$ = 11\n",
    "* n       = 100\n",
    "* $Z_{STAT} = \\frac{\\overline{X} - \\mu} {\\frac{\\sigma}{\\sqrt{n}}}$ "
   ]
  },
  {
   "cell_type": "code",
   "execution_count": 5,
   "metadata": {
    "colab": {},
    "colab_type": "code",
    "id": "xjZe6NmW4SN6"
   },
   "outputs": [],
   "source": [
    "mu = 2.89\n",
    "xbar= 3.001\n",
    "sigma = 11\n",
    "n = 100\n",
    "se = sigma / np.sqrt(n)"
   ]
  },
  {
   "cell_type": "code",
   "execution_count": 11,
   "metadata": {
    "colab": {},
    "colab_type": "code",
    "id": "rAZtTFKU4TWc"
   },
   "outputs": [
    {
     "name": "stdout",
     "output_type": "stream",
     "text": [
      "The test statistics is  0.010090909090909069\n"
     ]
    }
   ],
   "source": [
    "t = (xbar - mu )/sigma\n",
    "print('The test statistics is ' , t)"
   ]
  },
  {
   "cell_type": "code",
   "execution_count": 13,
   "metadata": {
    "colab": {},
    "colab_type": "code",
    "id": "DZGM7Be8xHSY"
   },
   "outputs": [
    {
     "name": "stdout",
     "output_type": "stream",
     "text": [
      "The critical test statistics is  -1.6603911559963895\n"
     ]
    }
   ],
   "source": [
    "print('The critical test statistics is ',stats.t.isf(q= 0.95 ,loc= 0 , scale=1 ,df =n-1))"
   ]
  }
 ],
 "metadata": {
  "colab": {
   "name": "Inclass_LabExercise_Day02New.ipynb",
   "provenance": []
  },
  "kernelspec": {
   "display_name": "Python 3",
   "language": "python",
   "name": "python3"
  },
  "language_info": {
   "codemirror_mode": {
    "name": "ipython",
    "version": 3
   },
   "file_extension": ".py",
   "mimetype": "text/x-python",
   "name": "python",
   "nbconvert_exporter": "python",
   "pygments_lexer": "ipython3",
   "version": "3.8.3"
  }
 },
 "nbformat": 4,
 "nbformat_minor": 1
}
