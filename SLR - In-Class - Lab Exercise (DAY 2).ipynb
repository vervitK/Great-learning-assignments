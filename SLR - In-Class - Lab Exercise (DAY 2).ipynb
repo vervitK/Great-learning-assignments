{
 "cells": [
  {
   "cell_type": "markdown",
   "metadata": {},
   "source": [
    "<table align=\"center\" width=100%>\n",
    "    <tr>\n",
    "        <td width=\"15%\">\n",
    "            <img src=\"in_class.png\">\n",
    "        </td>\n",
    "        <td>\n",
    "            <div align=\"center\">\n",
    "                <font color=\"#21618C\" size=8px>\n",
    "                    <b> Inclass - Lab <br>(Day 2)\n",
    "                    </b>\n",
    "                </font>\n",
    "            </div>\n",
    "        </td>\n",
    "    </tr>\n",
    "</table>"
   ]
  },
  {
   "cell_type": "markdown",
   "metadata": {},
   "source": [
    "### About the data set (White wine data)\n",
    "\n",
    "The dataset contains information about several health and economic factors that contribute to average life expectancy for different countries. <br> Attribute information: \n",
    "\n",
    "**Fixed_Acidity:** The ph value for titrable acid content (0-7)\n",
    "\n",
    "**Volatile_Acidity:** Measure of acidity due to bacteria\n",
    "\n",
    "**Citric_Acid:** Amount of citric acid present in wine\n",
    "\n",
    "**Residual_Sugar:** Amount of grape sugar in gms/litre\n",
    "\n",
    "**Chlorides:** Amount of chlorides present in wine\n",
    "\n",
    "**Free_Sulfur-dioxide:** Amount of SO2 that is not bound to other molecules\n",
    "\n",
    "**Total_Sulfur-dioxide:** Portion of SO2 that is free in the wine plus the portion that is bound to other chemicals in the wine\n",
    "\n",
    "**Density:** Density of wine (gms/cm<sup>3</sup>)\n",
    "\n",
    "**pH:** The pH value of wine (0-14)\n",
    "\n",
    "**Sulphates:** Amount of salts of sulphuric acid \n",
    "\n",
    "**Alcohol:** Alcohol content in percentage\n",
    "\n",
    "**Quality:** Wine quality "
   ]
  },
  {
   "cell_type": "markdown",
   "metadata": {},
   "source": [
    "## Table of Content\n",
    "\n",
    "1. **[Feature Transformation](#trans)**\n",
    "2. **[Feature Selection](#sel)**\n",
    "3. **[Model Validation](#cv)**"
   ]
  },
  {
   "cell_type": "markdown",
   "metadata": {},
   "source": [
    "**Import the required libraries**"
   ]
  },
  {
   "cell_type": "code",
   "execution_count": 354,
   "metadata": {},
   "outputs": [],
   "source": [
    "# type your code here\n",
    "import numpy as np\n",
    "import pandas as pd\n",
    "import matplotlib.pyplot as plt\n",
    "import seaborn as sns"
   ]
  },
  {
   "cell_type": "markdown",
   "metadata": {},
   "source": [
    "#### Load the first dataset and check the first two observations"
   ]
  },
  {
   "cell_type": "code",
   "execution_count": 434,
   "metadata": {},
   "outputs": [],
   "source": [
    "# load your data\n",
    "# type your code here\n",
    "\n",
    "df=pd.read_csv(\"winequality-white.csv\",sep=';')\n",
    "df=df.sample(frac = 1, random_state=0)"
   ]
  },
  {
   "cell_type": "code",
   "execution_count": 435,
   "metadata": {},
   "outputs": [
    {
     "data": {
      "text/html": [
       "<div>\n",
       "<style scoped>\n",
       "    .dataframe tbody tr th:only-of-type {\n",
       "        vertical-align: middle;\n",
       "    }\n",
       "\n",
       "    .dataframe tbody tr th {\n",
       "        vertical-align: top;\n",
       "    }\n",
       "\n",
       "    .dataframe thead th {\n",
       "        text-align: right;\n",
       "    }\n",
       "</style>\n",
       "<table border=\"1\" class=\"dataframe\">\n",
       "  <thead>\n",
       "    <tr style=\"text-align: right;\">\n",
       "      <th></th>\n",
       "      <th>fixed acidity</th>\n",
       "      <th>volatile acidity</th>\n",
       "      <th>citric acid</th>\n",
       "      <th>residual sugar</th>\n",
       "      <th>chlorides</th>\n",
       "      <th>free sulfur dioxide</th>\n",
       "      <th>total sulfur dioxide</th>\n",
       "      <th>density</th>\n",
       "      <th>pH</th>\n",
       "      <th>sulphates</th>\n",
       "      <th>alcohol</th>\n",
       "      <th>quality</th>\n",
       "    </tr>\n",
       "  </thead>\n",
       "  <tbody>\n",
       "    <tr>\n",
       "      <th>2762</th>\n",
       "      <td>7.3</td>\n",
       "      <td>0.32</td>\n",
       "      <td>0.35</td>\n",
       "      <td>1.40</td>\n",
       "      <td>0.050</td>\n",
       "      <td>8.0</td>\n",
       "      <td>163.0</td>\n",
       "      <td>0.99244</td>\n",
       "      <td>3.24</td>\n",
       "      <td>0.42</td>\n",
       "      <td>10.7</td>\n",
       "      <td>5</td>\n",
       "    </tr>\n",
       "    <tr>\n",
       "      <th>42</th>\n",
       "      <td>7.0</td>\n",
       "      <td>0.31</td>\n",
       "      <td>0.26</td>\n",
       "      <td>7.40</td>\n",
       "      <td>0.069</td>\n",
       "      <td>28.0</td>\n",
       "      <td>160.0</td>\n",
       "      <td>0.99540</td>\n",
       "      <td>3.13</td>\n",
       "      <td>0.46</td>\n",
       "      <td>9.8</td>\n",
       "      <td>6</td>\n",
       "    </tr>\n",
       "    <tr>\n",
       "      <th>1419</th>\n",
       "      <td>7.6</td>\n",
       "      <td>0.14</td>\n",
       "      <td>0.74</td>\n",
       "      <td>1.60</td>\n",
       "      <td>0.040</td>\n",
       "      <td>27.0</td>\n",
       "      <td>103.0</td>\n",
       "      <td>0.99160</td>\n",
       "      <td>3.07</td>\n",
       "      <td>0.40</td>\n",
       "      <td>10.8</td>\n",
       "      <td>7</td>\n",
       "    </tr>\n",
       "    <tr>\n",
       "      <th>3664</th>\n",
       "      <td>5.0</td>\n",
       "      <td>0.29</td>\n",
       "      <td>0.54</td>\n",
       "      <td>5.70</td>\n",
       "      <td>0.035</td>\n",
       "      <td>54.0</td>\n",
       "      <td>155.0</td>\n",
       "      <td>0.98976</td>\n",
       "      <td>3.27</td>\n",
       "      <td>0.34</td>\n",
       "      <td>12.9</td>\n",
       "      <td>8</td>\n",
       "    </tr>\n",
       "    <tr>\n",
       "      <th>2125</th>\n",
       "      <td>6.0</td>\n",
       "      <td>0.28</td>\n",
       "      <td>0.22</td>\n",
       "      <td>12.15</td>\n",
       "      <td>0.048</td>\n",
       "      <td>42.0</td>\n",
       "      <td>163.0</td>\n",
       "      <td>0.99570</td>\n",
       "      <td>3.20</td>\n",
       "      <td>0.46</td>\n",
       "      <td>10.1</td>\n",
       "      <td>5</td>\n",
       "    </tr>\n",
       "  </tbody>\n",
       "</table>\n",
       "</div>"
      ],
      "text/plain": [
       "      fixed acidity  volatile acidity  citric acid  residual sugar  chlorides  \\\n",
       "2762            7.3              0.32         0.35            1.40      0.050   \n",
       "42              7.0              0.31         0.26            7.40      0.069   \n",
       "1419            7.6              0.14         0.74            1.60      0.040   \n",
       "3664            5.0              0.29         0.54            5.70      0.035   \n",
       "2125            6.0              0.28         0.22           12.15      0.048   \n",
       "\n",
       "      free sulfur dioxide  total sulfur dioxide  density    pH  sulphates  \\\n",
       "2762                  8.0                 163.0  0.99244  3.24       0.42   \n",
       "42                   28.0                 160.0  0.99540  3.13       0.46   \n",
       "1419                 27.0                 103.0  0.99160  3.07       0.40   \n",
       "3664                 54.0                 155.0  0.98976  3.27       0.34   \n",
       "2125                 42.0                 163.0  0.99570  3.20       0.46   \n",
       "\n",
       "      alcohol  quality  \n",
       "2762     10.7        5  \n",
       "42        9.8        6  \n",
       "1419     10.8        7  \n",
       "3664     12.9        8  \n",
       "2125     10.1        5  "
      ]
     },
     "execution_count": 435,
     "metadata": {},
     "output_type": "execute_result"
    }
   ],
   "source": [
    "# check data types of variables\n",
    "# type your code here\n",
    "df.head()\n"
   ]
  },
  {
   "cell_type": "markdown",
   "metadata": {},
   "source": [
    "### Let's begin with some hands-on practice exercises"
   ]
  },
  {
   "cell_type": "markdown",
   "metadata": {},
   "source": [
    "<a id=\"trans\"> </a>\n",
    "## 1. Feature Transformation"
   ]
  },
  {
   "cell_type": "markdown",
   "metadata": {},
   "source": [
    "## We shall use the wine quality dataset"
   ]
  },
  {
   "cell_type": "markdown",
   "metadata": {
    "collapsed": true
   },
   "source": [
    "<table align=\"left\">\n",
    "    <tr>\n",
    "        <td width=\"6%\">\n",
    "            <img src=\"question_icon.png\">\n",
    "        </td>\n",
    "        <td>\n",
    "            <div align=\"left\", style=\"font-size:120%\">\n",
    "                <font color=\"#21618C\">\n",
    "                    <b>1. Does the variable 'volatile acidity' need transformation ?</b>\n",
    "                </font>\n",
    "            </div>\n",
    "        </td>\n",
    "    </tr>\n",
    "</table>"
   ]
  },
  {
   "cell_type": "code",
   "execution_count": 357,
   "metadata": {},
   "outputs": [
    {
     "name": "stdout",
     "output_type": "stream",
     "text": [
      "Original data:  (7306.320881466652, 0.0)\n"
     ]
    }
   ],
   "source": [
    "# type your code here\n",
    "from scipy.stats import jarque_bera\n",
    "\n",
    "print('Original data: ',jarque_bera(df['volatile acidity']))\n",
    "\n",
    "# H0: the data is normally distributed\n",
    "# HA: the data is not normally distributed."
   ]
  },
  {
   "cell_type": "markdown",
   "metadata": {},
   "source": [
    "### Conclusion:\n",
    "    \n",
    "    We can see that the pvalue <0.05 for original data. Hence we reject H0, ie; the data is not normally distributed.\n",
    "    Hence it is good to transform the data to normally distributed data."
   ]
  },
  {
   "cell_type": "markdown",
   "metadata": {
    "collapsed": true
   },
   "source": [
    "<table align=\"left\">\n",
    "    <tr>\n",
    "        <td width=\"6%\">\n",
    "            <img src=\"question_icon.png\">\n",
    "        </td>\n",
    "        <td>\n",
    "            <div align=\"left\", style=\"font-size:120%\">\n",
    "                <font color=\"#21618C\">\n",
    "                    <b>2. How can we reduce skewness of variable 'Residual_Sugar'?</b>\n",
    "                </font>\n",
    "            </div>\n",
    "        </td>\n",
    "    </tr>\n",
    "</table>"
   ]
  },
  {
   "cell_type": "code",
   "execution_count": 358,
   "metadata": {},
   "outputs": [
    {
     "data": {
      "image/png": "[encoded data removed]",
      "text/plain": [
       "<Figure size 1080x576 with 4 Axes>"
      ]
     },
     "metadata": {
      "needs_background": "light"
     },
     "output_type": "display_data"
    },
    {
     "name": "stdout",
     "output_type": "stream",
     "text": [
      "Original data:  (3396.8207586924946, 0.0)\n",
      "Transformed data:  (394.3386616691604, 0.0)\n"
     ]
    }
   ],
   "source": [
    "# type your code here\n",
    "fig,axes = plt.subplots(2,2,figsize=(15,8))\n",
    "sns.kdeplot(df['residual sugar'],ax=axes[0,0])\n",
    "sns.boxplot(x=df['residual sugar'],ax=axes[0,1])\n",
    "sns.kdeplot(np.log(df['residual sugar']),ax=axes[1,0])\n",
    "sns.boxplot(x=np.log(df['residual sugar']),ax=axes[1,1])\n",
    "plt.show()\n",
    "\n",
    "print('Original data: ',jarque_bera(df['residual sugar']))\n",
    "print('Transformed data: ',jarque_bera(np.log(df['residual sugar'])))\n"
   ]
  },
  {
   "cell_type": "markdown",
   "metadata": {},
   "source": [
    "### Conclusion:\n",
    "We can see that the origial data is highly right skewed and there are outliers in the data.\n",
    "\n",
    "When we perform a log transform it somewhat reduces the skewness and has taken care of the outliers\n",
    "\n",
    "The statistic has come down considerably showing an improvement in the data."
   ]
  },
  {
   "cell_type": "markdown",
   "metadata": {
    "collapsed": true
   },
   "source": [
    "<table align=\"left\">\n",
    "    <tr>\n",
    "        <td width=\"6%\">\n",
    "            <img src=\"question_icon.png\">\n",
    "        </td>\n",
    "        <td>\n",
    "            <div align=\"left\", style=\"font-size:120%\">\n",
    "                <font color=\"#21618C\">\n",
    "                    <b>3. Are there features in the dataset that add little to no information ?</b>\n",
    "                </font>\n",
    "            </div>\n",
    "        </td>\n",
    "    </tr>\n",
    "</table>"
   ]
  },
  {
   "cell_type": "code",
   "execution_count": 359,
   "metadata": {},
   "outputs": [
    {
     "data": {
      "text/html": [
       "<table class=\"simpletable\">\n",
       "<caption>OLS Regression Results</caption>\n",
       "<tr>\n",
       "  <th>Dep. Variable:</th>         <td>quality</td>     <th>  R-squared:         </th> <td>   0.282</td> \n",
       "</tr>\n",
       "<tr>\n",
       "  <th>Model:</th>                   <td>OLS</td>       <th>  Adj. R-squared:    </th> <td>   0.280</td> \n",
       "</tr>\n",
       "<tr>\n",
       "  <th>Method:</th>             <td>Least Squares</td>  <th>  F-statistic:       </th> <td>   174.3</td> \n",
       "</tr>\n",
       "<tr>\n",
       "  <th>Date:</th>             <td>Sat, 02 Jan 2021</td> <th>  Prob (F-statistic):</th>  <td>  0.00</td>  \n",
       "</tr>\n",
       "<tr>\n",
       "  <th>Time:</th>                 <td>17:25:54</td>     <th>  Log-Likelihood:    </th> <td> -5543.7</td> \n",
       "</tr>\n",
       "<tr>\n",
       "  <th>No. Observations:</th>      <td>  4898</td>      <th>  AIC:               </th> <td>1.111e+04</td>\n",
       "</tr>\n",
       "<tr>\n",
       "  <th>Df Residuals:</th>          <td>  4886</td>      <th>  BIC:               </th> <td>1.119e+04</td>\n",
       "</tr>\n",
       "<tr>\n",
       "  <th>Df Model:</th>              <td>    11</td>      <th>                     </th>     <td> </td>    \n",
       "</tr>\n",
       "<tr>\n",
       "  <th>Covariance Type:</th>      <td>nonrobust</td>    <th>                     </th>     <td> </td>    \n",
       "</tr>\n",
       "</table>\n",
       "<table class=\"simpletable\">\n",
       "<tr>\n",
       "            <td></td>              <th>coef</th>     <th>std err</th>      <th>t</th>      <th>P>|t|</th>  <th>[0.025</th>    <th>0.975]</th>  \n",
       "</tr>\n",
       "<tr>\n",
       "  <th>const</th>                <td>  150.1928</td> <td>   18.804</td> <td>    7.987</td> <td> 0.000</td> <td>  113.328</td> <td>  187.057</td>\n",
       "</tr>\n",
       "<tr>\n",
       "  <th>fixed acidity</th>        <td>    0.0655</td> <td>    0.021</td> <td>    3.139</td> <td> 0.002</td> <td>    0.025</td> <td>    0.106</td>\n",
       "</tr>\n",
       "<tr>\n",
       "  <th>volatile acidity</th>     <td>   -1.8632</td> <td>    0.114</td> <td>  -16.373</td> <td> 0.000</td> <td>   -2.086</td> <td>   -1.640</td>\n",
       "</tr>\n",
       "<tr>\n",
       "  <th>citric acid</th>          <td>    0.0221</td> <td>    0.096</td> <td>    0.231</td> <td> 0.818</td> <td>   -0.166</td> <td>    0.210</td>\n",
       "</tr>\n",
       "<tr>\n",
       "  <th>residual sugar</th>       <td>    0.0815</td> <td>    0.008</td> <td>   10.825</td> <td> 0.000</td> <td>    0.067</td> <td>    0.096</td>\n",
       "</tr>\n",
       "<tr>\n",
       "  <th>chlorides</th>            <td>   -0.2473</td> <td>    0.547</td> <td>   -0.452</td> <td> 0.651</td> <td>   -1.319</td> <td>    0.824</td>\n",
       "</tr>\n",
       "<tr>\n",
       "  <th>free sulfur dioxide</th>  <td>    0.0037</td> <td>    0.001</td> <td>    4.422</td> <td> 0.000</td> <td>    0.002</td> <td>    0.005</td>\n",
       "</tr>\n",
       "<tr>\n",
       "  <th>total sulfur dioxide</th> <td>   -0.0003</td> <td>    0.000</td> <td>   -0.756</td> <td> 0.450</td> <td>   -0.001</td> <td>    0.000</td>\n",
       "</tr>\n",
       "<tr>\n",
       "  <th>density</th>              <td> -150.2842</td> <td>   19.075</td> <td>   -7.879</td> <td> 0.000</td> <td> -187.679</td> <td> -112.890</td>\n",
       "</tr>\n",
       "<tr>\n",
       "  <th>pH</th>                   <td>    0.6863</td> <td>    0.105</td> <td>    6.513</td> <td> 0.000</td> <td>    0.480</td> <td>    0.893</td>\n",
       "</tr>\n",
       "<tr>\n",
       "  <th>sulphates</th>            <td>    0.6315</td> <td>    0.100</td> <td>    6.291</td> <td> 0.000</td> <td>    0.435</td> <td>    0.828</td>\n",
       "</tr>\n",
       "<tr>\n",
       "  <th>alcohol</th>              <td>    0.1935</td> <td>    0.024</td> <td>    7.988</td> <td> 0.000</td> <td>    0.146</td> <td>    0.241</td>\n",
       "</tr>\n",
       "</table>\n",
       "<table class=\"simpletable\">\n",
       "<tr>\n",
       "  <th>Omnibus:</th>       <td>114.161</td> <th>  Durbin-Watson:     </th> <td>   1.960</td>\n",
       "</tr>\n",
       "<tr>\n",
       "  <th>Prob(Omnibus):</th> <td> 0.000</td>  <th>  Jarque-Bera (JB):  </th> <td> 251.637</td>\n",
       "</tr>\n",
       "<tr>\n",
       "  <th>Skew:</th>          <td> 0.073</td>  <th>  Prob(JB):          </th> <td>2.28e-55</td>\n",
       "</tr>\n",
       "<tr>\n",
       "  <th>Kurtosis:</th>      <td> 4.101</td>  <th>  Cond. No.          </th> <td>3.74e+05</td>\n",
       "</tr>\n",
       "</table><br/><br/>Notes:<br/>[1] Standard Errors assume that the covariance matrix of the errors is correctly specified.<br/>[2] The condition number is large, 3.74e+05. This might indicate that there are<br/>strong multicollinearity or other numerical problems."
      ],
      "text/plain": [
       "<class 'statsmodels.iolib.summary.Summary'>\n",
       "\"\"\"\n",
       "                            OLS Regression Results                            \n",
       "==============================================================================\n",
       "Dep. Variable:                quality   R-squared:                       0.282\n",
       "Model:                            OLS   Adj. R-squared:                  0.280\n",
       "Method:                 Least Squares   F-statistic:                     174.3\n",
       "Date:                Sat, 02 Jan 2021   Prob (F-statistic):               0.00\n",
       "Time:                        17:25:54   Log-Likelihood:                -5543.7\n",
       "No. Observations:                4898   AIC:                         1.111e+04\n",
       "Df Residuals:                    4886   BIC:                         1.119e+04\n",
       "Df Model:                          11                                         \n",
       "Covariance Type:            nonrobust                                         \n",
       "========================================================================================\n",
       "                           coef    std err          t      P>|t|      [0.025      0.975]\n",
       "----------------------------------------------------------------------------------------\n",
       "const                  150.1928     18.804      7.987      0.000     113.328     187.057\n",
       "fixed acidity            0.0655      0.021      3.139      0.002       0.025       0.106\n",
       "volatile acidity        -1.8632      0.114    -16.373      0.000      -2.086      -1.640\n",
       "citric acid              0.0221      0.096      0.231      0.818      -0.166       0.210\n",
       "residual sugar           0.0815      0.008     10.825      0.000       0.067       0.096\n",
       "chlorides               -0.2473      0.547     -0.452      0.651      -1.319       0.824\n",
       "free sulfur dioxide      0.0037      0.001      4.422      0.000       0.002       0.005\n",
       "total sulfur dioxide    -0.0003      0.000     -0.756      0.450      -0.001       0.000\n",
       "density               -150.2842     19.075     -7.879      0.000    -187.679    -112.890\n",
       "pH                       0.6863      0.105      6.513      0.000       0.480       0.893\n",
       "sulphates                0.6315      0.100      6.291      0.000       0.435       0.828\n",
       "alcohol                  0.1935      0.024      7.988      0.000       0.146       0.241\n",
       "==============================================================================\n",
       "Omnibus:                      114.161   Durbin-Watson:                   1.960\n",
       "Prob(Omnibus):                  0.000   Jarque-Bera (JB):              251.637\n",
       "Skew:                           0.073   Prob(JB):                     2.28e-55\n",
       "Kurtosis:                       4.101   Cond. No.                     3.74e+05\n",
       "==============================================================================\n",
       "\n",
       "Notes:\n",
       "[1] Standard Errors assume that the covariance matrix of the errors is correctly specified.\n",
       "[2] The condition number is large, 3.74e+05. This might indicate that there are\n",
       "strong multicollinearity or other numerical problems.\n",
       "\"\"\""
      ]
     },
     "execution_count": 359,
     "metadata": {},
     "output_type": "execute_result"
    }
   ],
   "source": [
    "# type your code here\n",
    "import statsmodels.api as sm\n",
    "\n",
    "y=df['quality']\n",
    "x=df.drop(columns='quality')\n",
    "xc=sm.add_constant(x)\n",
    "\n",
    "model = sm.OLS(y,xc).fit()\n",
    "model.summary()"
   ]
  },
  {
   "cell_type": "code",
   "execution_count": 360,
   "metadata": {},
   "outputs": [
    {
     "name": "stdout",
     "output_type": "stream",
     "text": [
      "Features that add no value to the model : ['citric acid', 'chlorides', 'total sulfur dioxide']\n"
     ]
    }
   ],
   "source": [
    "allc= list(xc.columns)\n",
    "cols = list(xc.columns)\n",
    "while len(cols)>0:\n",
    "    X=xc[cols]\n",
    "    model= sm.OLS(y,X).fit()\n",
    "    p = model.pvalues\n",
    "    p = p.drop('const')\n",
    "    p.sort_values(ascending=True)\n",
    "    pmax = max(p)\n",
    "    feature_pmax = p.idxmax()\n",
    "    if pmax > 0.05:\n",
    "        cols.remove(feature_pmax)\n",
    "    else:\n",
    "        break\n",
    "    \n",
    "novalue= [i for i in allc if i not in cols]\n",
    "print('Features that add no value to the model :',novalue)"
   ]
  },
  {
   "cell_type": "markdown",
   "metadata": {
    "collapsed": true
   },
   "source": [
    "<table align=\"left\">\n",
    "    <tr>\n",
    "        <td width=\"6%\">\n",
    "            <img src=\"question_icon.png\">\n",
    "        </td>\n",
    "        <td>\n",
    "            <div align=\"left\", style=\"font-size:120%\">\n",
    "                <font color=\"#21618C\">\n",
    "                    <b>4. Which transformation method is best suited to treat the skewness in variable 'alcohol'?</b>\n",
    "                </font>\n",
    "            </div>\n",
    "        </td>\n",
    "    </tr>\n",
    "</table>"
   ]
  },
  {
   "cell_type": "code",
   "execution_count": 361,
   "metadata": {},
   "outputs": [
    {
     "data": {
      "image/png": "[encoded data removed]",
      "text/plain": [
       "<Figure size 1080x1080 with 8 Axes>"
      ]
     },
     "metadata": {
      "needs_background": "light"
     },
     "output_type": "display_data"
    },
    {
     "name": "stdout",
     "output_type": "stream",
     "text": [
      "Original data:  (293.45966765765604, 0.0)\n",
      "Log Transformed data:  (242.4528654603542, 0.0)\n",
      "Square Root Transformed data:  (262.7683694816862, 0.0)\n",
      "Cube Root Transformed data:  (254.99367438556746, 0.0)\n"
     ]
    }
   ],
   "source": [
    "# type your code here\n",
    "fig,axes = plt.subplots(4,2,figsize=(15,15))\n",
    "sns.kdeplot(df['alcohol'],ax=axes[0,0])\n",
    "sns.boxplot(x=df['alcohol'],ax=axes[0,1])\n",
    "sns.kdeplot(np.log(df['alcohol']),ax=axes[1,0])\n",
    "sns.boxplot(x=np.log(df['alcohol']),ax=axes[1,1])\n",
    "sns.kdeplot(np.sqrt(df['alcohol']),ax=axes[2,0])\n",
    "sns.boxplot(x=np.sqrt(df['alcohol']),ax=axes[2,1])\n",
    "sns.kdeplot((df['alcohol']**(1/3)),ax=axes[3,0])\n",
    "sns.boxplot(x=(df['alcohol']**(1/3)),ax=axes[3,1])\n",
    "axes[0,0].set_title('Original')\n",
    "axes[1,0].set_title('Log')\n",
    "axes[2,0].set_title('Squre Root')\n",
    "axes[3,0].set_title('Cube Root')\n",
    "plt.tight_layout()\n",
    "plt.show()\n",
    "\n",
    "print('Original data: ',jarque_bera(df['alcohol']))\n",
    "print('Log Transformed data: ',jarque_bera(np.log(df['alcohol'])))\n",
    "print('Square Root Transformed data: ',jarque_bera(np.sqrt(df['alcohol'])))\n",
    "print('Cube Root Transformed data: ',jarque_bera(df['alcohol']**(1/3)))"
   ]
  },
  {
   "cell_type": "markdown",
   "metadata": {},
   "source": [
    "### Conclusion:\n",
    "From above plots and values it is clear that the Log transform gives the best result, as it has the least Jarque Bera statistic value"
   ]
  },
  {
   "cell_type": "markdown",
   "metadata": {
    "collapsed": true
   },
   "source": [
    "<table align=\"left\">\n",
    "    <tr>\n",
    "        <td width=\"6%\">\n",
    "            <img src=\"question_icon.png\">\n",
    "        </td>\n",
    "        <td>\n",
    "            <div align=\"left\", style=\"font-size:120%\">\n",
    "                <font color=\"#21618C\">\n",
    "                    <b>5. Does scaling the feature 'pH' lead to better prediction when considering a full model ?</b>\n",
    "                </font>\n",
    "            </div>\n",
    "        </td>\n",
    "    </tr>\n",
    "</table>"
   ]
  },
  {
   "cell_type": "code",
   "execution_count": 362,
   "metadata": {},
   "outputs": [
    {
     "data": {
      "text/html": [
       "<table class=\"simpletable\">\n",
       "<caption>OLS Regression Results</caption>\n",
       "<tr>\n",
       "  <th>Dep. Variable:</th>         <td>quality</td>     <th>  R-squared:         </th> <td>   0.282</td> \n",
       "</tr>\n",
       "<tr>\n",
       "  <th>Model:</th>                   <td>OLS</td>       <th>  Adj. R-squared:    </th> <td>   0.280</td> \n",
       "</tr>\n",
       "<tr>\n",
       "  <th>Method:</th>             <td>Least Squares</td>  <th>  F-statistic:       </th> <td>   174.3</td> \n",
       "</tr>\n",
       "<tr>\n",
       "  <th>Date:</th>             <td>Sat, 02 Jan 2021</td> <th>  Prob (F-statistic):</th>  <td>  0.00</td>  \n",
       "</tr>\n",
       "<tr>\n",
       "  <th>Time:</th>                 <td>17:25:56</td>     <th>  Log-Likelihood:    </th> <td> -5543.7</td> \n",
       "</tr>\n",
       "<tr>\n",
       "  <th>No. Observations:</th>      <td>  4898</td>      <th>  AIC:               </th> <td>1.111e+04</td>\n",
       "</tr>\n",
       "<tr>\n",
       "  <th>Df Residuals:</th>          <td>  4886</td>      <th>  BIC:               </th> <td>1.119e+04</td>\n",
       "</tr>\n",
       "<tr>\n",
       "  <th>Df Model:</th>              <td>    11</td>      <th>                     </th>     <td> </td>    \n",
       "</tr>\n",
       "<tr>\n",
       "  <th>Covariance Type:</th>      <td>nonrobust</td>    <th>                     </th>     <td> </td>    \n",
       "</tr>\n",
       "</table>\n",
       "<table class=\"simpletable\">\n",
       "<tr>\n",
       "            <td></td>              <th>coef</th>     <th>std err</th>      <th>t</th>      <th>P>|t|</th>  <th>[0.025</th>    <th>0.975]</th>  \n",
       "</tr>\n",
       "<tr>\n",
       "  <th>const</th>                <td>  150.1928</td> <td>   18.804</td> <td>    7.987</td> <td> 0.000</td> <td>  113.328</td> <td>  187.057</td>\n",
       "</tr>\n",
       "<tr>\n",
       "  <th>fixed acidity</th>        <td>    0.0655</td> <td>    0.021</td> <td>    3.139</td> <td> 0.002</td> <td>    0.025</td> <td>    0.106</td>\n",
       "</tr>\n",
       "<tr>\n",
       "  <th>volatile acidity</th>     <td>   -1.8632</td> <td>    0.114</td> <td>  -16.373</td> <td> 0.000</td> <td>   -2.086</td> <td>   -1.640</td>\n",
       "</tr>\n",
       "<tr>\n",
       "  <th>citric acid</th>          <td>    0.0221</td> <td>    0.096</td> <td>    0.231</td> <td> 0.818</td> <td>   -0.166</td> <td>    0.210</td>\n",
       "</tr>\n",
       "<tr>\n",
       "  <th>residual sugar</th>       <td>    0.0815</td> <td>    0.008</td> <td>   10.825</td> <td> 0.000</td> <td>    0.067</td> <td>    0.096</td>\n",
       "</tr>\n",
       "<tr>\n",
       "  <th>chlorides</th>            <td>   -0.2473</td> <td>    0.547</td> <td>   -0.452</td> <td> 0.651</td> <td>   -1.319</td> <td>    0.824</td>\n",
       "</tr>\n",
       "<tr>\n",
       "  <th>free sulfur dioxide</th>  <td>    0.0037</td> <td>    0.001</td> <td>    4.422</td> <td> 0.000</td> <td>    0.002</td> <td>    0.005</td>\n",
       "</tr>\n",
       "<tr>\n",
       "  <th>total sulfur dioxide</th> <td>   -0.0003</td> <td>    0.000</td> <td>   -0.756</td> <td> 0.450</td> <td>   -0.001</td> <td>    0.000</td>\n",
       "</tr>\n",
       "<tr>\n",
       "  <th>density</th>              <td> -150.2842</td> <td>   19.075</td> <td>   -7.879</td> <td> 0.000</td> <td> -187.679</td> <td> -112.890</td>\n",
       "</tr>\n",
       "<tr>\n",
       "  <th>pH</th>                   <td>    0.6863</td> <td>    0.105</td> <td>    6.513</td> <td> 0.000</td> <td>    0.480</td> <td>    0.893</td>\n",
       "</tr>\n",
       "<tr>\n",
       "  <th>sulphates</th>            <td>    0.6315</td> <td>    0.100</td> <td>    6.291</td> <td> 0.000</td> <td>    0.435</td> <td>    0.828</td>\n",
       "</tr>\n",
       "<tr>\n",
       "  <th>alcohol</th>              <td>    0.1935</td> <td>    0.024</td> <td>    7.988</td> <td> 0.000</td> <td>    0.146</td> <td>    0.241</td>\n",
       "</tr>\n",
       "</table>\n",
       "<table class=\"simpletable\">\n",
       "<tr>\n",
       "  <th>Omnibus:</th>       <td>114.161</td> <th>  Durbin-Watson:     </th> <td>   1.960</td>\n",
       "</tr>\n",
       "<tr>\n",
       "  <th>Prob(Omnibus):</th> <td> 0.000</td>  <th>  Jarque-Bera (JB):  </th> <td> 251.637</td>\n",
       "</tr>\n",
       "<tr>\n",
       "  <th>Skew:</th>          <td> 0.073</td>  <th>  Prob(JB):          </th> <td>2.28e-55</td>\n",
       "</tr>\n",
       "<tr>\n",
       "  <th>Kurtosis:</th>      <td> 4.101</td>  <th>  Cond. No.          </th> <td>3.74e+05</td>\n",
       "</tr>\n",
       "</table><br/><br/>Notes:<br/>[1] Standard Errors assume that the covariance matrix of the errors is correctly specified.<br/>[2] The condition number is large, 3.74e+05. This might indicate that there are<br/>strong multicollinearity or other numerical problems."
      ],
      "text/plain": [
       "<class 'statsmodels.iolib.summary.Summary'>\n",
       "\"\"\"\n",
       "                            OLS Regression Results                            \n",
       "==============================================================================\n",
       "Dep. Variable:                quality   R-squared:                       0.282\n",
       "Model:                            OLS   Adj. R-squared:                  0.280\n",
       "Method:                 Least Squares   F-statistic:                     174.3\n",
       "Date:                Sat, 02 Jan 2021   Prob (F-statistic):               0.00\n",
       "Time:                        17:25:56   Log-Likelihood:                -5543.7\n",
       "No. Observations:                4898   AIC:                         1.111e+04\n",
       "Df Residuals:                    4886   BIC:                         1.119e+04\n",
       "Df Model:                          11                                         \n",
       "Covariance Type:            nonrobust                                         \n",
       "========================================================================================\n",
       "                           coef    std err          t      P>|t|      [0.025      0.975]\n",
       "----------------------------------------------------------------------------------------\n",
       "const                  150.1928     18.804      7.987      0.000     113.328     187.057\n",
       "fixed acidity            0.0655      0.021      3.139      0.002       0.025       0.106\n",
       "volatile acidity        -1.8632      0.114    -16.373      0.000      -2.086      -1.640\n",
       "citric acid              0.0221      0.096      0.231      0.818      -0.166       0.210\n",
       "residual sugar           0.0815      0.008     10.825      0.000       0.067       0.096\n",
       "chlorides               -0.2473      0.547     -0.452      0.651      -1.319       0.824\n",
       "free sulfur dioxide      0.0037      0.001      4.422      0.000       0.002       0.005\n",
       "total sulfur dioxide    -0.0003      0.000     -0.756      0.450      -0.001       0.000\n",
       "density               -150.2842     19.075     -7.879      0.000    -187.679    -112.890\n",
       "pH                       0.6863      0.105      6.513      0.000       0.480       0.893\n",
       "sulphates                0.6315      0.100      6.291      0.000       0.435       0.828\n",
       "alcohol                  0.1935      0.024      7.988      0.000       0.146       0.241\n",
       "==============================================================================\n",
       "Omnibus:                      114.161   Durbin-Watson:                   1.960\n",
       "Prob(Omnibus):                  0.000   Jarque-Bera (JB):              251.637\n",
       "Skew:                           0.073   Prob(JB):                     2.28e-55\n",
       "Kurtosis:                       4.101   Cond. No.                     3.74e+05\n",
       "==============================================================================\n",
       "\n",
       "Notes:\n",
       "[1] Standard Errors assume that the covariance matrix of the errors is correctly specified.\n",
       "[2] The condition number is large, 3.74e+05. This might indicate that there are\n",
       "strong multicollinearity or other numerical problems.\n",
       "\"\"\""
      ]
     },
     "execution_count": 362,
     "metadata": {},
     "output_type": "execute_result"
    }
   ],
   "source": [
    "# type your code here\n",
    "import statsmodels.api as sm\n",
    "\n",
    "y=df['quality']\n",
    "x=df.drop(columns='quality')\n",
    "xc=sm.add_constant(x)\n",
    "\n",
    "model = sm.OLS(y,xc).fit()\n",
    "model.summary()"
   ]
  },
  {
   "cell_type": "code",
   "execution_count": 363,
   "metadata": {},
   "outputs": [
    {
     "data": {
      "text/html": [
       "<table class=\"simpletable\">\n",
       "<caption>OLS Regression Results</caption>\n",
       "<tr>\n",
       "  <th>Dep. Variable:</th>         <td>quality</td>     <th>  R-squared:         </th> <td>   0.282</td> \n",
       "</tr>\n",
       "<tr>\n",
       "  <th>Model:</th>                   <td>OLS</td>       <th>  Adj. R-squared:    </th> <td>   0.280</td> \n",
       "</tr>\n",
       "<tr>\n",
       "  <th>Method:</th>             <td>Least Squares</td>  <th>  F-statistic:       </th> <td>   174.3</td> \n",
       "</tr>\n",
       "<tr>\n",
       "  <th>Date:</th>             <td>Sat, 02 Jan 2021</td> <th>  Prob (F-statistic):</th>  <td>  0.00</td>  \n",
       "</tr>\n",
       "<tr>\n",
       "  <th>Time:</th>                 <td>17:25:56</td>     <th>  Log-Likelihood:    </th> <td> -5543.7</td> \n",
       "</tr>\n",
       "<tr>\n",
       "  <th>No. Observations:</th>      <td>  4898</td>      <th>  AIC:               </th> <td>1.111e+04</td>\n",
       "</tr>\n",
       "<tr>\n",
       "  <th>Df Residuals:</th>          <td>  4886</td>      <th>  BIC:               </th> <td>1.119e+04</td>\n",
       "</tr>\n",
       "<tr>\n",
       "  <th>Df Model:</th>              <td>    11</td>      <th>                     </th>     <td> </td>    \n",
       "</tr>\n",
       "<tr>\n",
       "  <th>Covariance Type:</th>      <td>nonrobust</td>    <th>                     </th>     <td> </td>    \n",
       "</tr>\n",
       "</table>\n",
       "<table class=\"simpletable\">\n",
       "<tr>\n",
       "            <td></td>              <th>coef</th>     <th>std err</th>      <th>t</th>      <th>P>|t|</th>  <th>[0.025</th>    <th>0.975]</th>  \n",
       "</tr>\n",
       "<tr>\n",
       "  <th>const</th>                <td>  152.3811</td> <td>   19.013</td> <td>    8.015</td> <td> 0.000</td> <td>  115.108</td> <td>  189.655</td>\n",
       "</tr>\n",
       "<tr>\n",
       "  <th>fixed acidity</th>        <td>    0.0655</td> <td>    0.021</td> <td>    3.139</td> <td> 0.002</td> <td>    0.025</td> <td>    0.106</td>\n",
       "</tr>\n",
       "<tr>\n",
       "  <th>volatile acidity</th>     <td>   -1.8632</td> <td>    0.114</td> <td>  -16.373</td> <td> 0.000</td> <td>   -2.086</td> <td>   -1.640</td>\n",
       "</tr>\n",
       "<tr>\n",
       "  <th>citric acid</th>          <td>    0.0221</td> <td>    0.096</td> <td>    0.231</td> <td> 0.818</td> <td>   -0.166</td> <td>    0.210</td>\n",
       "</tr>\n",
       "<tr>\n",
       "  <th>residual sugar</th>       <td>    0.0815</td> <td>    0.008</td> <td>   10.825</td> <td> 0.000</td> <td>    0.067</td> <td>    0.096</td>\n",
       "</tr>\n",
       "<tr>\n",
       "  <th>chlorides</th>            <td>   -0.2473</td> <td>    0.547</td> <td>   -0.452</td> <td> 0.651</td> <td>   -1.319</td> <td>    0.824</td>\n",
       "</tr>\n",
       "<tr>\n",
       "  <th>free sulfur dioxide</th>  <td>    0.0037</td> <td>    0.001</td> <td>    4.422</td> <td> 0.000</td> <td>    0.002</td> <td>    0.005</td>\n",
       "</tr>\n",
       "<tr>\n",
       "  <th>total sulfur dioxide</th> <td>   -0.0003</td> <td>    0.000</td> <td>   -0.756</td> <td> 0.450</td> <td>   -0.001</td> <td>    0.000</td>\n",
       "</tr>\n",
       "<tr>\n",
       "  <th>density</th>              <td> -150.2842</td> <td>   19.075</td> <td>   -7.879</td> <td> 0.000</td> <td> -187.679</td> <td> -112.890</td>\n",
       "</tr>\n",
       "<tr>\n",
       "  <th>sulphates</th>            <td>    0.6315</td> <td>    0.100</td> <td>    6.291</td> <td> 0.000</td> <td>    0.435</td> <td>    0.828</td>\n",
       "</tr>\n",
       "<tr>\n",
       "  <th>alcohol</th>              <td>    0.1935</td> <td>    0.024</td> <td>    7.988</td> <td> 0.000</td> <td>    0.146</td> <td>    0.241</td>\n",
       "</tr>\n",
       "<tr>\n",
       "  <th>SS_pH</th>                <td>    0.1036</td> <td>    0.016</td> <td>    6.513</td> <td> 0.000</td> <td>    0.072</td> <td>    0.135</td>\n",
       "</tr>\n",
       "</table>\n",
       "<table class=\"simpletable\">\n",
       "<tr>\n",
       "  <th>Omnibus:</th>       <td>114.161</td> <th>  Durbin-Watson:     </th> <td>   1.960</td>\n",
       "</tr>\n",
       "<tr>\n",
       "  <th>Prob(Omnibus):</th> <td> 0.000</td>  <th>  Jarque-Bera (JB):  </th> <td> 251.637</td>\n",
       "</tr>\n",
       "<tr>\n",
       "  <th>Skew:</th>          <td> 0.073</td>  <th>  Prob(JB):          </th> <td>2.28e-55</td>\n",
       "</tr>\n",
       "<tr>\n",
       "  <th>Kurtosis:</th>      <td> 4.101</td>  <th>  Cond. No.          </th> <td>3.76e+05</td>\n",
       "</tr>\n",
       "</table><br/><br/>Notes:<br/>[1] Standard Errors assume that the covariance matrix of the errors is correctly specified.<br/>[2] The condition number is large, 3.76e+05. This might indicate that there are<br/>strong multicollinearity or other numerical problems."
      ],
      "text/plain": [
       "<class 'statsmodels.iolib.summary.Summary'>\n",
       "\"\"\"\n",
       "                            OLS Regression Results                            \n",
       "==============================================================================\n",
       "Dep. Variable:                quality   R-squared:                       0.282\n",
       "Model:                            OLS   Adj. R-squared:                  0.280\n",
       "Method:                 Least Squares   F-statistic:                     174.3\n",
       "Date:                Sat, 02 Jan 2021   Prob (F-statistic):               0.00\n",
       "Time:                        17:25:56   Log-Likelihood:                -5543.7\n",
       "No. Observations:                4898   AIC:                         1.111e+04\n",
       "Df Residuals:                    4886   BIC:                         1.119e+04\n",
       "Df Model:                          11                                         \n",
       "Covariance Type:            nonrobust                                         \n",
       "========================================================================================\n",
       "                           coef    std err          t      P>|t|      [0.025      0.975]\n",
       "----------------------------------------------------------------------------------------\n",
       "const                  152.3811     19.013      8.015      0.000     115.108     189.655\n",
       "fixed acidity            0.0655      0.021      3.139      0.002       0.025       0.106\n",
       "volatile acidity        -1.8632      0.114    -16.373      0.000      -2.086      -1.640\n",
       "citric acid              0.0221      0.096      0.231      0.818      -0.166       0.210\n",
       "residual sugar           0.0815      0.008     10.825      0.000       0.067       0.096\n",
       "chlorides               -0.2473      0.547     -0.452      0.651      -1.319       0.824\n",
       "free sulfur dioxide      0.0037      0.001      4.422      0.000       0.002       0.005\n",
       "total sulfur dioxide    -0.0003      0.000     -0.756      0.450      -0.001       0.000\n",
       "density               -150.2842     19.075     -7.879      0.000    -187.679    -112.890\n",
       "sulphates                0.6315      0.100      6.291      0.000       0.435       0.828\n",
       "alcohol                  0.1935      0.024      7.988      0.000       0.146       0.241\n",
       "SS_pH                    0.1036      0.016      6.513      0.000       0.072       0.135\n",
       "==============================================================================\n",
       "Omnibus:                      114.161   Durbin-Watson:                   1.960\n",
       "Prob(Omnibus):                  0.000   Jarque-Bera (JB):              251.637\n",
       "Skew:                           0.073   Prob(JB):                     2.28e-55\n",
       "Kurtosis:                       4.101   Cond. No.                     3.76e+05\n",
       "==============================================================================\n",
       "\n",
       "Notes:\n",
       "[1] Standard Errors assume that the covariance matrix of the errors is correctly specified.\n",
       "[2] The condition number is large, 3.76e+05. This might indicate that there are\n",
       "strong multicollinearity or other numerical problems.\n",
       "\"\"\""
      ]
     },
     "execution_count": 363,
     "metadata": {},
     "output_type": "execute_result"
    }
   ],
   "source": [
    "import statsmodels.api as sm\n",
    "from sklearn.preprocessing import StandardScaler\n",
    "\n",
    "ss = StandardScaler()\n",
    "\n",
    "df1=df.copy()\n",
    "\n",
    "df1['SS_pH']= ss.fit_transform(df1[['pH']])\n",
    "df1=df1.drop('pH',axis=1)\n",
    "y=df1['quality']\n",
    "x=df1.drop(columns='quality')\n",
    "xc=sm.add_constant(x)\n",
    "\n",
    "model_ss = sm.OLS(y,xc).fit()\n",
    "model_ss.summary()"
   ]
  },
  {
   "cell_type": "markdown",
   "metadata": {},
   "source": [
    "### Conclusion:\n",
    "\n",
    "We observe that the Adj R2 and R2 of both the models remain unchanged. So in terms of model performance not much changes occured.\n",
    "\n",
    "The Coefficient of the pH reduced after scaling was applied."
   ]
  },
  {
   "cell_type": "markdown",
   "metadata": {
    "collapsed": true
   },
   "source": [
    "<table align=\"left\">\n",
    "    <tr>\n",
    "        <td width=\"6%\">\n",
    "            <img src=\"question_icon.png\">\n",
    "        </td>\n",
    "        <td>\n",
    "            <div align=\"left\", style=\"font-size:120%\">\n",
    "                <font color=\"#21618C\">\n",
    "                    <b>6. What could be done to resolve the issue of multicollinearity if present?</b>\n",
    "                </font>\n",
    "            </div>\n",
    "        </td>\n",
    "    </tr>\n",
    "</table>"
   ]
  },
  {
   "cell_type": "code",
   "execution_count": 364,
   "metadata": {},
   "outputs": [
    {
     "data": {
      "text/plain": [
       "<matplotlib.axes._subplots.AxesSubplot at 0x9fab387ec8>"
      ]
     },
     "execution_count": 364,
     "metadata": {},
     "output_type": "execute_result"
    },
    {
     "data": {
      "image/png": "[encoded data removed]",
      "text/plain": [
       "<Figure size 1080x720 with 2 Axes>"
      ]
     },
     "metadata": {
      "needs_background": "light"
     },
     "output_type": "display_data"
    }
   ],
   "source": [
    "# We can take the correlation matrix\n",
    "# when multicollinearity is observed we can check for insignificant variables with high vif values and drop them.\n",
    "\n",
    "plt.figure(figsize=(15,10))\n",
    "sns.heatmap(df.corr(),annot=True)"
   ]
  },
  {
   "cell_type": "code",
   "execution_count": 365,
   "metadata": {},
   "outputs": [],
   "source": [
    "# Feature selection\n",
    "\n",
    "cols = list(xc.columns)\n",
    "while len(cols)>0:\n",
    "    X=xc[cols]\n",
    "    model= sm.OLS(y,X).fit()\n",
    "    p = model.pvalues\n",
    "    p = p.drop('const')\n",
    "    p.sort_values(ascending=True)\n",
    "    pmax = max(p)\n",
    "    feature_pmax = p.idxmax()\n",
    "    if pmax > 0.05:\n",
    "        cols.remove(feature_pmax)\n",
    "    else:\n",
    "        break"
   ]
  },
  {
   "cell_type": "code",
   "execution_count": 366,
   "metadata": {},
   "outputs": [
    {
     "data": {
      "text/html": [
       "<div>\n",
       "<style scoped>\n",
       "    .dataframe tbody tr th:only-of-type {\n",
       "        vertical-align: middle;\n",
       "    }\n",
       "\n",
       "    .dataframe tbody tr th {\n",
       "        vertical-align: top;\n",
       "    }\n",
       "\n",
       "    .dataframe thead th {\n",
       "        text-align: right;\n",
       "    }\n",
       "</style>\n",
       "<table border=\"1\" class=\"dataframe\">\n",
       "  <thead>\n",
       "    <tr style=\"text-align: right;\">\n",
       "      <th></th>\n",
       "      <th>VIF</th>\n",
       "    </tr>\n",
       "  </thead>\n",
       "  <tbody>\n",
       "    <tr>\n",
       "      <th>const</th>\n",
       "      <td>2.907755e+06</td>\n",
       "    </tr>\n",
       "    <tr>\n",
       "      <th>fixed acidity</th>\n",
       "      <td>2.579640e+00</td>\n",
       "    </tr>\n",
       "    <tr>\n",
       "      <th>volatile acidity</th>\n",
       "      <td>1.057310e+00</td>\n",
       "    </tr>\n",
       "    <tr>\n",
       "      <th>residual sugar</th>\n",
       "      <td>1.185425e+01</td>\n",
       "    </tr>\n",
       "    <tr>\n",
       "      <th>free sulfur dioxide</th>\n",
       "      <td>1.149027e+00</td>\n",
       "    </tr>\n",
       "    <tr>\n",
       "      <th>density</th>\n",
       "      <td>2.612315e+01</td>\n",
       "    </tr>\n",
       "    <tr>\n",
       "      <th>sulphates</th>\n",
       "      <td>1.129688e+00</td>\n",
       "    </tr>\n",
       "    <tr>\n",
       "      <th>alcohol</th>\n",
       "      <td>7.622843e+00</td>\n",
       "    </tr>\n",
       "    <tr>\n",
       "      <th>SS_pH</th>\n",
       "      <td>2.113597e+00</td>\n",
       "    </tr>\n",
       "  </tbody>\n",
       "</table>\n",
       "</div>"
      ],
      "text/plain": [
       "                              VIF\n",
       "const                2.907755e+06\n",
       "fixed acidity        2.579640e+00\n",
       "volatile acidity     1.057310e+00\n",
       "residual sugar       1.185425e+01\n",
       "free sulfur dioxide  1.149027e+00\n",
       "density              2.612315e+01\n",
       "sulphates            1.129688e+00\n",
       "alcohol              7.622843e+00\n",
       "SS_pH                2.113597e+00"
      ]
     },
     "execution_count": 366,
     "metadata": {},
     "output_type": "execute_result"
    }
   ],
   "source": [
    "xc=xc[cols]\n",
    "model = sm.OLS(y,xc)\n",
    "\n",
    "from statsmodels.stats.outliers_influence import variance_inflation_factor as VIF\n",
    "\n",
    "vif = [VIF(xc.values,i) for i in range(xc.shape[1])]\n",
    "\n",
    "pd.DataFrame(vif, index=xc.columns,columns=['VIF'])"
   ]
  },
  {
   "cell_type": "markdown",
   "metadata": {
    "collapsed": true
   },
   "source": [
    "<table align=\"left\">\n",
    "    <tr>\n",
    "        <td width=\"6%\">\n",
    "            <img src=\"question_icon.png\">\n",
    "        </td>\n",
    "        <td>\n",
    "            <div align=\"left\", style=\"font-size:120%\">\n",
    "                <font color=\"#21618C\">\n",
    "                    <b>7.  Fit a full model. Is the assumption for normality of residuals violated ?</b>\n",
    "                </font>\n",
    "            </div>\n",
    "        </td>\n",
    "    </tr>\n",
    "</table>"
   ]
  },
  {
   "cell_type": "code",
   "execution_count": 367,
   "metadata": {},
   "outputs": [],
   "source": [
    "# type your code here\n",
    "\n",
    "y=df['quality']\n",
    "x=df.drop(columns='quality')\n",
    "xc=sm.add_constant(x)\n",
    "\n",
    "model = sm.OLS(y,xc).fit()\n",
    "residual= model.resid"
   ]
  },
  {
   "cell_type": "code",
   "execution_count": 368,
   "metadata": {},
   "outputs": [
    {
     "data": {
      "text/plain": [
       "(251.6368168070483, 0.0)"
      ]
     },
     "execution_count": 368,
     "metadata": {},
     "output_type": "execute_result"
    }
   ],
   "source": [
    "# H0: the data is normally distributed\n",
    "# HA: the data is not normally distributed.\n",
    "\n",
    "jarque_bera(residual)"
   ]
  },
  {
   "cell_type": "markdown",
   "metadata": {},
   "source": [
    "### Conclusion:\n",
    "We see that the pvalue of jarque bera test is <0, hence we reject the H0, ie; the residuals are not normally distributed.\n",
    "Hence we can conclude that the normality of the residuals are violated"
   ]
  },
  {
   "cell_type": "markdown",
   "metadata": {
    "collapsed": true
   },
   "source": [
    "<table align=\"left\">\n",
    "    <tr>\n",
    "        <td width=\"6%\">\n",
    "            <img src=\"question_icon.png\">\n",
    "        </td>\n",
    "        <td>\n",
    "            <div align=\"left\", style=\"font-size:120%\">\n",
    "                <font color=\"#21618C\">\n",
    "                    <b>8. Does the transformation of variable 'citric acid' affect the performance of prediction model?</b>\n",
    "                </font>\n",
    "            </div>\n",
    "        </td>\n",
    "    </tr>\n",
    "</table>"
   ]
  },
  {
   "cell_type": "code",
   "execution_count": 369,
   "metadata": {},
   "outputs": [],
   "source": [
    "# type your code here\n",
    "y=df['quality']\n",
    "x=df.drop(columns='quality')\n",
    "xc=sm.add_constant(x)\n",
    "\n",
    "model = sm.OLS(y,xc).fit()\n",
    "\n",
    "df1= df.copy()\n",
    "df1['Tra_CA']=np.log1p(df['citric acid'])\n",
    "df1 = df1.drop(columns='citric acid')\n",
    "y1= df1['quality']\n",
    "x1 = df1.drop(columns='quality')\n",
    "x1c = sm.add_constant(x1)\n",
    "model_1=sm.OLS(y1,x1c).fit()"
   ]
  },
  {
   "cell_type": "code",
   "execution_count": 370,
   "metadata": {},
   "outputs": [
    {
     "name": "stdout",
     "output_type": "stream",
     "text": [
      "Original model :  0.2802536171020674\n",
      "Transformed citric acid model :  0.2803214013847496\n"
     ]
    }
   ],
   "source": [
    "print('Original model : ',model.rsquared_adj)\n",
    "print('Transformed citric acid model : ',model_1.rsquared_adj)"
   ]
  },
  {
   "cell_type": "markdown",
   "metadata": {},
   "source": [
    "### Conclusion:\n",
    "\n",
    "When we compare the R2 value of the model with original citric acid vlaues and transformed citric acid values we see that the change is miniscule increase of R2.\n",
    "\n",
    "Hence we can conclude the model performance is unaffected by the transformation"
   ]
  },
  {
   "cell_type": "markdown",
   "metadata": {
    "collapsed": true
   },
   "source": [
    "<table align=\"left\">\n",
    "    <tr>\n",
    "        <td width=\"6%\">\n",
    "            <img src=\"question_icon.png\">\n",
    "        </td>\n",
    "        <td>\n",
    "            <div align=\"left\", style=\"font-size:120%\">\n",
    "                <font color=\"#21618C\">\n",
    "                    <b>9. Fit a full model. Check whether variable has linear relationship with the wine quality<br></b>\n",
    "                </font>\n",
    "            </div>\n",
    "        </td>\n",
    "    </tr>\n",
    "</table>"
   ]
  },
  {
   "cell_type": "code",
   "execution_count": 371,
   "metadata": {},
   "outputs": [
    {
     "data": {
      "text/plain": [
       "(1.078357793388899, 0.031171323484583492)"
      ]
     },
     "execution_count": 371,
     "metadata": {},
     "output_type": "execute_result"
    }
   ],
   "source": [
    "# type your code here\n",
    "y=df['quality']\n",
    "x=df.drop(columns='quality')\n",
    "xc=sm.add_constant(x)\n",
    "\n",
    "model = sm.OLS(y,xc).fit()\n",
    "ypred= model.predict(xc)\n",
    "\n",
    "import statsmodels.stats.api as sms\n",
    "\n",
    "# H0: Model is linear\n",
    "# HA: Model is not linear\n",
    "\n",
    "sms.diagnostic.linear_rainbow(res=model,frac=0.5)"
   ]
  },
  {
   "cell_type": "markdown",
   "metadata": {},
   "source": [
    "pvalue > 0.05 we accept H0, ie; the model is linear. Hence we can conclude that the relation between the variables with wine quality is linear"
   ]
  },
  {
   "cell_type": "markdown",
   "metadata": {},
   "source": [
    "<a id=\"sel\"> </a>\n",
    "## 2. Feature Selection"
   ]
  },
  {
   "cell_type": "markdown",
   "metadata": {
    "collapsed": true
   },
   "source": [
    "<table align=\"left\">\n",
    "    <tr>\n",
    "        <td width=\"6%\">\n",
    "            <img src=\"question_icon.png\">\n",
    "        </td>\n",
    "        <td>\n",
    "            <div align=\"left\", style=\"font-size:120%\">\n",
    "                <font color=\"#21618C\">\n",
    "                    <b>10. Find the top five significant variables from the dataset using forward selection technique. Also display the R-squared score for the model built using these five variables.</b>\n",
    "                </font>\n",
    "            </div>\n",
    "        </td>\n",
    "    </tr>\n",
    "</table>"
   ]
  },
  {
   "cell_type": "code",
   "execution_count": 418,
   "metadata": {},
   "outputs": [
    {
     "data": {
      "text/plain": [
       "SequentialFeatureSelector(clone_estimator=True, cv=5,\n",
       "                          estimator=LinearRegression(copy_X=True,\n",
       "                                                     fit_intercept=True,\n",
       "                                                     n_jobs=None,\n",
       "                                                     normalize=False),\n",
       "                          fixed_features=None, floating=False, forward=True,\n",
       "                          k_features=5, n_jobs=1, pre_dispatch='2*n_jobs',\n",
       "                          scoring=None, verbose=0)"
      ]
     },
     "execution_count": 418,
     "metadata": {},
     "output_type": "execute_result"
    }
   ],
   "source": [
    "# type your code here\n",
    "from sklearn.linear_model import LinearRegression\n",
    "from mlxtend.feature_selection import SequentialFeatureSelector as SFS\n",
    "\n",
    "y=df['quality']\n",
    "x=df.drop(columns='quality')\n",
    "\n",
    "lr=LinearRegression()\n",
    "\n",
    "sfs= SFS(lr,k_features=5,forward=True,cv=5)\n",
    "sfs.fit(x,y)"
   ]
  },
  {
   "cell_type": "code",
   "execution_count": 419,
   "metadata": {},
   "outputs": [
    {
     "name": "stdout",
     "output_type": "stream",
     "text": [
      "The five features selected are :  ('volatile acidity', 'residual sugar', 'density', 'pH', 'alcohol')\n",
      "The R2 value for the model with 5 features is : 0.26852468191611417\n"
     ]
    }
   ],
   "source": [
    "print('The five features selected are : ',sfs.k_feature_names_)\n",
    "print('The R2 value for the model with 5 features is :',sfs.k_score_)"
   ]
  },
  {
   "cell_type": "markdown",
   "metadata": {
    "collapsed": true
   },
   "source": [
    "<table align=\"left\">\n",
    "    <tr>\n",
    "        <td width=\"6%\">\n",
    "            <img src=\"question_icon.png\">\n",
    "        </td>\n",
    "        <td>\n",
    "            <div align=\"left\", style=\"font-size:120%\">\n",
    "                <font color=\"#21618C\">\n",
    "                        <b>11. Find the top five significant variables from the dataset using backward elimination technique. Also display the R-squared score for the model built using these five variables.<br><br> Compare the R-squared value obtained from question 10 with the value obtained using backward elimination.</b>\n",
    "                </font>\n",
    "            </div>\n",
    "        </td>\n",
    "    </tr>\n",
    "</table>"
   ]
  },
  {
   "cell_type": "code",
   "execution_count": 374,
   "metadata": {},
   "outputs": [
    {
     "data": {
      "text/plain": [
       "RFE(estimator=LinearRegression(copy_X=True, fit_intercept=True, n_jobs=None,\n",
       "                               normalize=False),\n",
       "    n_features_to_select=5, step=1, verbose=0)"
      ]
     },
     "execution_count": 374,
     "metadata": {},
     "output_type": "execute_result"
    }
   ],
   "source": [
    "# type your code here\n",
    "from sklearn.feature_selection import RFE\n",
    "\n",
    "y=df['quality']\n",
    "x=df.drop(columns='quality')\n",
    "\n",
    "lr=LinearRegression()\n",
    "\n",
    "rfe= RFE(lr, n_features_to_select=5)\n",
    "\n",
    "rfe.fit(x,y)"
   ]
  },
  {
   "cell_type": "code",
   "execution_count": 375,
   "metadata": {},
   "outputs": [
    {
     "data": {
      "text/plain": [
       "0.24990527897718162"
      ]
     },
     "execution_count": 375,
     "metadata": {},
     "output_type": "execute_result"
    }
   ],
   "source": [
    "rfe.score(x,y)"
   ]
  },
  {
   "cell_type": "code",
   "execution_count": 376,
   "metadata": {},
   "outputs": [
    {
     "name": "stdout",
     "output_type": "stream",
     "text": [
      "Selected features are: \n",
      " ['volatile acidity' 'chlorides' 'density' 'sulphates' 'alcohol']\n"
     ]
    }
   ],
   "source": [
    "rfe_df=list(zip(x.columns,rfe.ranking_))\n",
    "rfe_df=pd.DataFrame(rfe_df,columns=['Feature_names','Ranking'])\n",
    "print('Selected features are: \\n',rfe_df[rfe_df['Ranking']==1]['Feature_names'].values)"
   ]
  },
  {
   "cell_type": "code",
   "execution_count": 377,
   "metadata": {},
   "outputs": [
    {
     "name": "stdout",
     "output_type": "stream",
     "text": [
      "The R2 value for the model with 5 features through forward selection : 0.26852468191611417\n",
      "The R2 value for the model with 5 features through backward selection : 0.24990527897718162\n"
     ]
    }
   ],
   "source": [
    "print('The R2 value for the model with 5 features through forward selection :',sfs.k_score_)\n",
    "print('The R2 value for the model with 5 features through backward selection :',rfe.score(x,y))"
   ]
  },
  {
   "cell_type": "markdown",
   "metadata": {
    "collapsed": true
   },
   "source": [
    "<table align=\"left\">\n",
    "    <tr>\n",
    "        <td width=\"6%\">\n",
    "            <img src=\"question_icon.png\">\n",
    "        </td>\n",
    "        <td>\n",
    "            <div align=\"left\", style=\"font-size:120%\">\n",
    "                <font color=\"#21618C\">\n",
    "                    <b>12. Find the best set of significant variables from the dataset using forward selection technique such that the selected set should have 2 to 6 features. Also display the R-squared score for the model built using the selected variables</b>\n",
    "                </font>\n",
    "            </div>\n",
    "        </td>\n",
    "    </tr>\n",
    "</table>"
   ]
  },
  {
   "cell_type": "code",
   "execution_count": 378,
   "metadata": {},
   "outputs": [
    {
     "data": {
      "text/plain": [
       "SequentialFeatureSelector(clone_estimator=True, cv=5,\n",
       "                          estimator=LinearRegression(copy_X=True,\n",
       "                                                     fit_intercept=True,\n",
       "                                                     n_jobs=None,\n",
       "                                                     normalize=False),\n",
       "                          fixed_features=None, floating=False, forward=True,\n",
       "                          k_features=6, n_jobs=1, pre_dispatch='2*n_jobs',\n",
       "                          scoring=None, verbose=0)"
      ]
     },
     "execution_count": 378,
     "metadata": {},
     "output_type": "execute_result"
    }
   ],
   "source": [
    "# type your code here\n",
    "y=df['quality']\n",
    "x=df.drop(columns='quality')\n",
    "\n",
    "lr=LinearRegression()\n",
    "\n",
    "sfs= SFS(lr,k_features=6,forward=True,cv=5)\n",
    "sfs.fit(x,y)"
   ]
  },
  {
   "cell_type": "code",
   "execution_count": 379,
   "metadata": {},
   "outputs": [
    {
     "data": {
      "text/html": [
       "<div>\n",
       "<style scoped>\n",
       "    .dataframe tbody tr th:only-of-type {\n",
       "        vertical-align: middle;\n",
       "    }\n",
       "\n",
       "    .dataframe tbody tr th {\n",
       "        vertical-align: top;\n",
       "    }\n",
       "\n",
       "    .dataframe thead th {\n",
       "        text-align: right;\n",
       "    }\n",
       "</style>\n",
       "<table border=\"1\" class=\"dataframe\">\n",
       "  <thead>\n",
       "    <tr style=\"text-align: right;\">\n",
       "      <th></th>\n",
       "      <th>feature_idx</th>\n",
       "      <th>cv_scores</th>\n",
       "      <th>avg_score</th>\n",
       "      <th>feature_names</th>\n",
       "    </tr>\n",
       "  </thead>\n",
       "  <tbody>\n",
       "    <tr>\n",
       "      <th>6</th>\n",
       "      <td>(1, 3, 7, 8, 9, 10)</td>\n",
       "      <td>[0.26305939248668564, 0.28259670118379243, 0.3...</td>\n",
       "      <td>0.273918</td>\n",
       "      <td>(volatile acidity, residual sugar, density, pH...</td>\n",
       "    </tr>\n",
       "  </tbody>\n",
       "</table>\n",
       "</div>"
      ],
      "text/plain": [
       "           feature_idx                                          cv_scores  \\\n",
       "6  (1, 3, 7, 8, 9, 10)  [0.26305939248668564, 0.28259670118379243, 0.3...   \n",
       "\n",
       "  avg_score                                      feature_names  \n",
       "6  0.273918  (volatile acidity, residual sugar, density, pH...  "
      ]
     },
     "execution_count": 379,
     "metadata": {},
     "output_type": "execute_result"
    }
   ],
   "source": [
    "sfs_df=pd.DataFrame(sfs.subsets_).T\n",
    "sfs_df[sfs_df['avg_score']==sfs_df['avg_score'].max()]"
   ]
  },
  {
   "cell_type": "markdown",
   "metadata": {},
   "source": [
    "### We can see that the maximum avg score for 6 features"
   ]
  },
  {
   "cell_type": "code",
   "execution_count": 380,
   "metadata": {},
   "outputs": [
    {
     "name": "stdout",
     "output_type": "stream",
     "text": [
      "The R2 value for model with 6 features is:  0.2739175370624004\n"
     ]
    }
   ],
   "source": [
    "print('The R2 value for model with 6 features is: ',sfs.k_score_)"
   ]
  },
  {
   "cell_type": "markdown",
   "metadata": {
    "collapsed": true
   },
   "source": [
    "<table align=\"left\">\n",
    "    <tr>\n",
    "        <td width=\"6%\">\n",
    "            <img src=\"question_icon.png\">\n",
    "        </td>\n",
    "        <td>\n",
    "            <div align=\"left\", style=\"font-size:120%\">\n",
    "                <font color=\"#21618C\">\n",
    "                    <b>13. Find the best set of significant variables from the dataset using forward selection technique. Also display the R-squared score for the model built using the selected variables.</b>\n",
    "                </font>\n",
    "            </div>\n",
    "        </td>\n",
    "    </tr>\n",
    "</table>"
   ]
  },
  {
   "cell_type": "code",
   "execution_count": 381,
   "metadata": {},
   "outputs": [
    {
     "data": {
      "text/plain": [
       "SequentialFeatureSelector(clone_estimator=True, cv=5,\n",
       "                          estimator=LinearRegression(copy_X=True,\n",
       "                                                     fit_intercept=True,\n",
       "                                                     n_jobs=None,\n",
       "                                                     normalize=False),\n",
       "                          fixed_features=None, floating=False, forward=True,\n",
       "                          k_features=11, n_jobs=1, pre_dispatch='2*n_jobs',\n",
       "                          scoring=None, verbose=0)"
      ]
     },
     "execution_count": 381,
     "metadata": {},
     "output_type": "execute_result"
    }
   ],
   "source": [
    "# type your code here\n",
    "y=df['quality']\n",
    "x=df.drop(columns='quality')\n",
    "\n",
    "lr=LinearRegression()\n",
    "\n",
    "sfs= SFS(lr,k_features=len(x.columns),forward=True,cv=5)\n",
    "sfs.fit(x,y)"
   ]
  },
  {
   "cell_type": "code",
   "execution_count": 382,
   "metadata": {},
   "outputs": [
    {
     "name": "stdout",
     "output_type": "stream",
     "text": [
      "Number of features selected =  9\n",
      "Feature names :  [('fixed acidity', 'volatile acidity', 'residual sugar', 'free sulfur dioxide', 'total sulfur dioxide', 'density', 'pH', 'sulphates', 'alcohol')]\n",
      "R2 value of the model with these features :  [0.2754682822110691]\n"
     ]
    }
   ],
   "source": [
    "sfs_df=pd.DataFrame(sfs.subsets_).T\n",
    "\n",
    "features=list(sfs_df[sfs_df['avg_score']==sfs_df['avg_score'].max()]['feature_names'])\n",
    "num_of_var=len(features[0])\n",
    "R2_val = sfs_df[sfs_df['avg_score']==sfs_df['avg_score'].max()]['avg_score'].values\n",
    "\n",
    "print('Number of features selected = ',num_of_var)\n",
    "print('Feature names : ',features)\n",
    "print('R2 value of the model with these features : ',R2_val)"
   ]
  },
  {
   "cell_type": "markdown",
   "metadata": {
    "collapsed": true
   },
   "source": [
    "<table align=\"left\">\n",
    "    <tr>\n",
    "        <td width=\"6%\">\n",
    "            <img src=\"question_icon.png\">\n",
    "        </td>\n",
    "        <td>\n",
    "            <div align=\"left\", style=\"font-size:120%\">\n",
    "                <font color=\"#21618C\">\n",
    "                    <b>14. Find the best set of significant variables from the dataset using backward elimination technique. Also display the R-squared score for the model built using the selected variables. <br><br>Compare the R-squared value obtained from question 13 with the value obtained using backward elimination.</b>\n",
    "                </font>\n",
    "            </div>\n",
    "        </td>\n",
    "    </tr>\n",
    "</table>"
   ]
  },
  {
   "cell_type": "code",
   "execution_count": 383,
   "metadata": {},
   "outputs": [
    {
     "data": {
      "text/plain": [
       "GridSearchCV(cv=KFold(n_splits=5, random_state=4, shuffle=True),\n",
       "             error_score=nan,\n",
       "             estimator=RFE(estimator=LinearRegression(copy_X=True,\n",
       "                                                      fit_intercept=True,\n",
       "                                                      n_jobs=None,\n",
       "                                                      normalize=False),\n",
       "                           n_features_to_select=None, step=1, verbose=0),\n",
       "             iid='deprecated', n_jobs=None,\n",
       "             param_grid=[{'n_features_to_select': [1, 2, 3, 4, 5, 6, 7, 8, 9,\n",
       "                                                   10, 11]}],\n",
       "             pre_dispatch='2*n_jobs', refit=True, return_train_score=False,\n",
       "             scoring='r2', verbose=0)"
      ]
     },
     "execution_count": 383,
     "metadata": {},
     "output_type": "execute_result"
    }
   ],
   "source": [
    "# type your code here\n",
    "from sklearn.model_selection import KFold, GridSearchCV\n",
    "\n",
    "y=df['quality']\n",
    "x=df.drop(columns='quality')\n",
    "\n",
    "lr = LinearRegression()\n",
    "\n",
    "kfold = KFold(n_splits=5,shuffle=True,random_state=4)\n",
    "\n",
    "rfe = RFE(lr)\n",
    "\n",
    "params=[{'n_features_to_select':list(range(1,12))}]\n",
    "\n",
    "gsearch = GridSearchCV(rfe, param_grid=params, scoring='r2',cv=kfold)\n",
    "\n",
    "gsearch.fit(x,y)"
   ]
  },
  {
   "cell_type": "code",
   "execution_count": 384,
   "metadata": {},
   "outputs": [
    {
     "data": {
      "text/plain": [
       "{'n_features_to_select': 10}"
      ]
     },
     "execution_count": 384,
     "metadata": {},
     "output_type": "execute_result"
    }
   ],
   "source": [
    "gsearch.best_params_"
   ]
  },
  {
   "cell_type": "code",
   "execution_count": 385,
   "metadata": {},
   "outputs": [
    {
     "data": {
      "text/plain": [
       "RFE(estimator=LinearRegression(copy_X=True, fit_intercept=True, n_jobs=None,\n",
       "                               normalize=False),\n",
       "    n_features_to_select=10, step=1, verbose=0)"
      ]
     },
     "execution_count": 385,
     "metadata": {},
     "output_type": "execute_result"
    }
   ],
   "source": [
    "rfe= RFE (lr,n_features_to_select=10)\n",
    "rfe.fit(x,y)"
   ]
  },
  {
   "cell_type": "code",
   "execution_count": 386,
   "metadata": {},
   "outputs": [
    {
     "name": "stdout",
     "output_type": "stream",
     "text": [
      "R2 of Backward elimination : 0.281786400623662\n",
      "R2 of Forward elimination : [0.2754682822110691]\n"
     ]
    }
   ],
   "source": [
    "print('R2 of Backward elimination :',rfe.score(x,y))\n",
    "print('R2 of Forward elimination :',R2_val)"
   ]
  },
  {
   "cell_type": "markdown",
   "metadata": {
    "collapsed": true
   },
   "source": [
    "<table align=\"left\">\n",
    "    <tr>\n",
    "        <td width=\"6%\">\n",
    "            <img src=\"question_icon.png\">\n",
    "        </td>\n",
    "        <td>\n",
    "            <div align=\"left\", style=\"font-size:120%\">\n",
    "                <font color=\"#21618C\">\n",
    "                    <b>15. Find the best set of significant variables from the dataset among all the possible subsets of the variables. Build a linear regression model using the best subset and find the R-Squared value for that model.</b>\n",
    "                </font>\n",
    "            </div>\n",
    "        </td>\n",
    "    </tr>\n",
    "</table>"
   ]
  },
  {
   "cell_type": "code",
   "execution_count": 387,
   "metadata": {},
   "outputs": [
    {
     "data": {
      "text/plain": [
       "{'n_features_to_select': 10}"
      ]
     },
     "execution_count": 387,
     "metadata": {},
     "output_type": "execute_result"
    }
   ],
   "source": [
    "# type your code here\n",
    "from sklearn.model_selection import KFold, GridSearchCV\n",
    "\n",
    "y=df['quality']\n",
    "x=df.drop(columns='quality')\n",
    "\n",
    "lr = LinearRegression()\n",
    "\n",
    "kfold = KFold(n_splits=5,shuffle=True,random_state=4)\n",
    "\n",
    "rfe = RFE(lr)\n",
    "\n",
    "params=[{'n_features_to_select':list(range(1,12))}]\n",
    "\n",
    "gsearch = GridSearchCV(rfe, param_grid=params, scoring='r2',cv=kfold)\n",
    "\n",
    "gsearch.fit(x,y)\n",
    "gsearch.best_params_"
   ]
  },
  {
   "cell_type": "code",
   "execution_count": 388,
   "metadata": {},
   "outputs": [
    {
     "data": {
      "text/plain": [
       "RFE(estimator=LinearRegression(copy_X=True, fit_intercept=True, n_jobs=None,\n",
       "                               normalize=False),\n",
       "    n_features_to_select=10, step=1, verbose=0)"
      ]
     },
     "execution_count": 388,
     "metadata": {},
     "output_type": "execute_result"
    }
   ],
   "source": [
    "rfe = RFE(lr, n_features_to_select=10)\n",
    "rfe.fit(x,y)"
   ]
  },
  {
   "cell_type": "code",
   "execution_count": 402,
   "metadata": {},
   "outputs": [],
   "source": [
    "rfe_df = pd.DataFrame(rfe.support_,index=x.columns,columns=['Selected'])\n",
    "sel_feat = rfe_df[rfe_df['Selected']==True].index"
   ]
  },
  {
   "cell_type": "code",
   "execution_count": 415,
   "metadata": {},
   "outputs": [
    {
     "data": {
      "text/plain": [
       "LinearRegression(copy_X=True, fit_intercept=True, n_jobs=None, normalize=False)"
      ]
     },
     "execution_count": 415,
     "metadata": {},
     "output_type": "execute_result"
    }
   ],
   "source": [
    "x=df[sel_feat]\n",
    "y=df['quality']\n",
    "\n",
    "lr=LinearRegression()\n",
    "\n",
    "lr.fit(x,y)"
   ]
  },
  {
   "cell_type": "code",
   "execution_count": 414,
   "metadata": {},
   "outputs": [
    {
     "name": "stdout",
     "output_type": "stream",
     "text": [
      "Mean R2 for Linear model with selected features :  0.27639834738194935\n"
     ]
    }
   ],
   "source": [
    "from sklearn.model_selection import cross_val_score,KFold\n",
    "\n",
    "kfold=KFold(n_splits=5,shuffle=True,random_state=0)\n",
    "cv= cross_val_score(lr,x,y,cv=kfold,scoring='r2')\n",
    "\n",
    "print('Mean R2 for Linear model with selected features : ',cv.mean())"
   ]
  },
  {
   "cell_type": "markdown",
   "metadata": {
    "collapsed": true
   },
   "source": [
    "<table align=\"left\">\n",
    "    <tr>\n",
    "        <td width=\"6%\">\n",
    "            <img src=\"question_icon.png\">\n",
    "        </td>\n",
    "        <td>\n",
    "            <div align=\"left\", style=\"font-size:120%\">\n",
    "                <font color=\"#21618C\">\n",
    "                    <b>16. Calculate the RMSE for the train set and test set for the model created using the top 5 variables obtained from forward selection in question 10. Check if the model is overfitted on the train set or not. If yes, then why do you think so?</b>\n",
    "                </font>\n",
    "            </div>\n",
    "        </td>\n",
    "    </tr>\n",
    "</table>"
   ]
  },
  {
   "cell_type": "code",
   "execution_count": 424,
   "metadata": {},
   "outputs": [
    {
     "name": "stdout",
     "output_type": "stream",
     "text": [
      "RMSE for train :  0.7585894867804878\n",
      "RMSE for test  : 0.7504643068399192\n"
     ]
    }
   ],
   "source": [
    "# type your code here\n",
    "from sklearn.linear_model import LinearRegression\n",
    "from mlxtend.feature_selection import SequentialFeatureSelector as SFS\n",
    "from sklearn.model_selection import train_test_split\n",
    "from sklearn.metrics import mean_squared_error\n",
    "\n",
    "y=df['quality']\n",
    "x=df.drop(columns='quality')\n",
    "\n",
    "lr=LinearRegression()\n",
    "\n",
    "sfs= SFS(lr,k_features=5,forward=True,cv=5)\n",
    "sfs.fit(x,y)\n",
    "\n",
    "features= list(sfs.k_feature_names_)\n",
    "\n",
    "x=x[features]\n",
    "\n",
    "xtrain,xtest,ytrain,ytest = train_test_split(x,y,test_size = 0.3, random_state=0)\n",
    "\n",
    "lr.fit(xtrain,ytrain)\n",
    "\n",
    "ypred_train = lr.predict(xtrain)\n",
    "ypred_test  = lr.predict(xtest)\n",
    "\n",
    "rmse_train = np.sqrt(mean_squared_error(ytrain, ypred_train))\n",
    "rmse_test  = np.sqrt(mean_squared_error(ytest, ypred_test))\n",
    "\n",
    "print('RMSE for train : ',rmse_train)\n",
    "print('RMSE for test  :',rmse_test)"
   ]
  },
  {
   "cell_type": "code",
   "execution_count": 425,
   "metadata": {},
   "outputs": [
    {
     "data": {
      "text/plain": [
       "0.27560451836396516"
      ]
     },
     "execution_count": 425,
     "metadata": {},
     "output_type": "execute_result"
    }
   ],
   "source": [
    "lr.score(xtrain,ytrain)"
   ]
  },
  {
   "cell_type": "code",
   "execution_count": 426,
   "metadata": {},
   "outputs": [
    {
     "data": {
      "text/plain": [
       "0.2580119931275542"
      ]
     },
     "execution_count": 426,
     "metadata": {},
     "output_type": "execute_result"
    }
   ],
   "source": [
    "lr.score(xtest,ytest)"
   ]
  },
  {
   "cell_type": "markdown",
   "metadata": {},
   "source": [
    "<a id=\"cv\"> </a>\n",
    "## 3. Model Validation"
   ]
  },
  {
   "cell_type": "markdown",
   "metadata": {
    "collapsed": true
   },
   "source": [
    "<table align=\"left\">\n",
    "    <tr>\n",
    "        <td width=\"6%\">\n",
    "            <img src=\"question_icon.png\">\n",
    "        </td>\n",
    "        <td>\n",
    "            <div align=\"left\", style=\"font-size:120%\">\n",
    "                <font color=\"#21618C\">\n",
    "                    <b>17. Create a new feature based on the 'pH' which tells whether wine is acidic, basic or neutral. Will this variable significantly contribute to the model?</b>\n",
    "                </font>\n",
    "            </div>\n",
    "        </td>\n",
    "    </tr>\n",
    "</table>"
   ]
  },
  {
   "cell_type": "code",
   "execution_count": 464,
   "metadata": {},
   "outputs": [],
   "source": [
    "# type your code here\n",
    "l=[]\n",
    "\n",
    "for i in df['pH']:\n",
    "    if 0 <= i < 7:\n",
    "        l.append('Acidic')\n",
    "    elif i == 7:\n",
    "        l.append('Neutral')\n",
    "    elif 7 < i <=14:\n",
    "        l.append('Basic')\n",
    "    else:\n",
    "        l.append(np.nan)\n",
    "df['nature']=l"
   ]
  },
  {
   "cell_type": "code",
   "execution_count": 466,
   "metadata": {},
   "outputs": [
    {
     "data": {
      "text/plain": [
       "Acidic    4898\n",
       "Name: nature, dtype: int64"
      ]
     },
     "execution_count": 466,
     "metadata": {},
     "output_type": "execute_result"
    }
   ],
   "source": [
    "df['nature'].value_counts()"
   ]
  },
  {
   "cell_type": "code",
   "execution_count": 470,
   "metadata": {},
   "outputs": [
    {
     "data": {
      "text/html": [
       "<div>\n",
       "<style scoped>\n",
       "    .dataframe tbody tr th:only-of-type {\n",
       "        vertical-align: middle;\n",
       "    }\n",
       "\n",
       "    .dataframe tbody tr th {\n",
       "        vertical-align: top;\n",
       "    }\n",
       "\n",
       "    .dataframe thead th {\n",
       "        text-align: right;\n",
       "    }\n",
       "</style>\n",
       "<table border=\"1\" class=\"dataframe\">\n",
       "  <thead>\n",
       "    <tr style=\"text-align: right;\">\n",
       "      <th></th>\n",
       "      <th>fixed acidity</th>\n",
       "      <th>volatile acidity</th>\n",
       "      <th>citric acid</th>\n",
       "      <th>residual sugar</th>\n",
       "      <th>chlorides</th>\n",
       "      <th>free sulfur dioxide</th>\n",
       "      <th>total sulfur dioxide</th>\n",
       "      <th>density</th>\n",
       "      <th>pH</th>\n",
       "      <th>sulphates</th>\n",
       "      <th>alcohol</th>\n",
       "      <th>quality</th>\n",
       "      <th>nature_Acidic</th>\n",
       "    </tr>\n",
       "  </thead>\n",
       "  <tbody>\n",
       "    <tr>\n",
       "      <th>2762</th>\n",
       "      <td>7.3</td>\n",
       "      <td>0.32</td>\n",
       "      <td>0.35</td>\n",
       "      <td>1.40</td>\n",
       "      <td>0.050</td>\n",
       "      <td>8.0</td>\n",
       "      <td>163.0</td>\n",
       "      <td>0.99244</td>\n",
       "      <td>3.24</td>\n",
       "      <td>0.42</td>\n",
       "      <td>10.7</td>\n",
       "      <td>5</td>\n",
       "      <td>1</td>\n",
       "    </tr>\n",
       "    <tr>\n",
       "      <th>42</th>\n",
       "      <td>7.0</td>\n",
       "      <td>0.31</td>\n",
       "      <td>0.26</td>\n",
       "      <td>7.40</td>\n",
       "      <td>0.069</td>\n",
       "      <td>28.0</td>\n",
       "      <td>160.0</td>\n",
       "      <td>0.99540</td>\n",
       "      <td>3.13</td>\n",
       "      <td>0.46</td>\n",
       "      <td>9.8</td>\n",
       "      <td>6</td>\n",
       "      <td>1</td>\n",
       "    </tr>\n",
       "    <tr>\n",
       "      <th>1419</th>\n",
       "      <td>7.6</td>\n",
       "      <td>0.14</td>\n",
       "      <td>0.74</td>\n",
       "      <td>1.60</td>\n",
       "      <td>0.040</td>\n",
       "      <td>27.0</td>\n",
       "      <td>103.0</td>\n",
       "      <td>0.99160</td>\n",
       "      <td>3.07</td>\n",
       "      <td>0.40</td>\n",
       "      <td>10.8</td>\n",
       "      <td>7</td>\n",
       "      <td>1</td>\n",
       "    </tr>\n",
       "    <tr>\n",
       "      <th>3664</th>\n",
       "      <td>5.0</td>\n",
       "      <td>0.29</td>\n",
       "      <td>0.54</td>\n",
       "      <td>5.70</td>\n",
       "      <td>0.035</td>\n",
       "      <td>54.0</td>\n",
       "      <td>155.0</td>\n",
       "      <td>0.98976</td>\n",
       "      <td>3.27</td>\n",
       "      <td>0.34</td>\n",
       "      <td>12.9</td>\n",
       "      <td>8</td>\n",
       "      <td>1</td>\n",
       "    </tr>\n",
       "    <tr>\n",
       "      <th>2125</th>\n",
       "      <td>6.0</td>\n",
       "      <td>0.28</td>\n",
       "      <td>0.22</td>\n",
       "      <td>12.15</td>\n",
       "      <td>0.048</td>\n",
       "      <td>42.0</td>\n",
       "      <td>163.0</td>\n",
       "      <td>0.99570</td>\n",
       "      <td>3.20</td>\n",
       "      <td>0.46</td>\n",
       "      <td>10.1</td>\n",
       "      <td>5</td>\n",
       "      <td>1</td>\n",
       "    </tr>\n",
       "  </tbody>\n",
       "</table>\n",
       "</div>"
      ],
      "text/plain": [
       "      fixed acidity  volatile acidity  citric acid  residual sugar  chlorides  \\\n",
       "2762            7.3              0.32         0.35            1.40      0.050   \n",
       "42              7.0              0.31         0.26            7.40      0.069   \n",
       "1419            7.6              0.14         0.74            1.60      0.040   \n",
       "3664            5.0              0.29         0.54            5.70      0.035   \n",
       "2125            6.0              0.28         0.22           12.15      0.048   \n",
       "\n",
       "      free sulfur dioxide  total sulfur dioxide  density    pH  sulphates  \\\n",
       "2762                  8.0                 163.0  0.99244  3.24       0.42   \n",
       "42                   28.0                 160.0  0.99540  3.13       0.46   \n",
       "1419                 27.0                 103.0  0.99160  3.07       0.40   \n",
       "3664                 54.0                 155.0  0.98976  3.27       0.34   \n",
       "2125                 42.0                 163.0  0.99570  3.20       0.46   \n",
       "\n",
       "      alcohol  quality  nature_Acidic  \n",
       "2762     10.7        5              1  \n",
       "42        9.8        6              1  \n",
       "1419     10.8        7              1  \n",
       "3664     12.9        8              1  \n",
       "2125     10.1        5              1  "
      ]
     },
     "execution_count": 470,
     "metadata": {},
     "output_type": "execute_result"
    }
   ],
   "source": [
    "df = pd.get_dummies(df,columns=['nature'],drop_first=0)\n",
    "df.head()"
   ]
  },
  {
   "cell_type": "code",
   "execution_count": 471,
   "metadata": {},
   "outputs": [
    {
     "data": {
      "text/html": [
       "<table class=\"simpletable\">\n",
       "<caption>OLS Regression Results</caption>\n",
       "<tr>\n",
       "  <th>Dep. Variable:</th>         <td>quality</td>     <th>  R-squared:         </th> <td>   0.000</td> \n",
       "</tr>\n",
       "<tr>\n",
       "  <th>Model:</th>                   <td>OLS</td>       <th>  Adj. R-squared:    </th> <td>   0.000</td> \n",
       "</tr>\n",
       "<tr>\n",
       "  <th>Method:</th>             <td>Least Squares</td>  <th>  F-statistic:       </th> <td>     nan</td> \n",
       "</tr>\n",
       "<tr>\n",
       "  <th>Date:</th>             <td>Sat, 02 Jan 2021</td> <th>  Prob (F-statistic):</th>  <td>   nan</td>  \n",
       "</tr>\n",
       "<tr>\n",
       "  <th>Time:</th>                 <td>19:31:52</td>     <th>  Log-Likelihood:    </th> <td> -6354.6</td> \n",
       "</tr>\n",
       "<tr>\n",
       "  <th>No. Observations:</th>      <td>  4898</td>      <th>  AIC:               </th> <td>1.271e+04</td>\n",
       "</tr>\n",
       "<tr>\n",
       "  <th>Df Residuals:</th>          <td>  4897</td>      <th>  BIC:               </th> <td>1.272e+04</td>\n",
       "</tr>\n",
       "<tr>\n",
       "  <th>Df Model:</th>              <td>     0</td>      <th>                     </th>     <td> </td>    \n",
       "</tr>\n",
       "<tr>\n",
       "  <th>Covariance Type:</th>      <td>nonrobust</td>    <th>                     </th>     <td> </td>    \n",
       "</tr>\n",
       "</table>\n",
       "<table class=\"simpletable\">\n",
       "<tr>\n",
       "        <td></td>           <th>coef</th>     <th>std err</th>      <th>t</th>      <th>P>|t|</th>  <th>[0.025</th>    <th>0.975]</th>  \n",
       "</tr>\n",
       "<tr>\n",
       "  <th>nature_Acidic</th> <td>    5.8779</td> <td>    0.013</td> <td>  464.489</td> <td> 0.000</td> <td>    5.853</td> <td>    5.903</td>\n",
       "</tr>\n",
       "</table>\n",
       "<table class=\"simpletable\">\n",
       "<tr>\n",
       "  <th>Omnibus:</th>       <td>27.683</td> <th>  Durbin-Watson:     </th> <td>   1.976</td>\n",
       "</tr>\n",
       "<tr>\n",
       "  <th>Prob(Omnibus):</th> <td> 0.000</td> <th>  Jarque-Bera (JB):  </th> <td>  29.243</td>\n",
       "</tr>\n",
       "<tr>\n",
       "  <th>Skew:</th>          <td> 0.156</td> <th>  Prob(JB):          </th> <td>4.47e-07</td>\n",
       "</tr>\n",
       "<tr>\n",
       "  <th>Kurtosis:</th>      <td> 3.215</td> <th>  Cond. No.          </th> <td>    1.00</td>\n",
       "</tr>\n",
       "</table><br/><br/>Notes:<br/>[1] Standard Errors assume that the covariance matrix of the errors is correctly specified."
      ],
      "text/plain": [
       "<class 'statsmodels.iolib.summary.Summary'>\n",
       "\"\"\"\n",
       "                            OLS Regression Results                            \n",
       "==============================================================================\n",
       "Dep. Variable:                quality   R-squared:                       0.000\n",
       "Model:                            OLS   Adj. R-squared:                  0.000\n",
       "Method:                 Least Squares   F-statistic:                       nan\n",
       "Date:                Sat, 02 Jan 2021   Prob (F-statistic):                nan\n",
       "Time:                        19:31:52   Log-Likelihood:                -6354.6\n",
       "No. Observations:                4898   AIC:                         1.271e+04\n",
       "Df Residuals:                    4897   BIC:                         1.272e+04\n",
       "Df Model:                           0                                         \n",
       "Covariance Type:            nonrobust                                         \n",
       "=================================================================================\n",
       "                    coef    std err          t      P>|t|      [0.025      0.975]\n",
       "---------------------------------------------------------------------------------\n",
       "nature_Acidic     5.8779      0.013    464.489      0.000       5.853       5.903\n",
       "==============================================================================\n",
       "Omnibus:                       27.683   Durbin-Watson:                   1.976\n",
       "Prob(Omnibus):                  0.000   Jarque-Bera (JB):               29.243\n",
       "Skew:                           0.156   Prob(JB):                     4.47e-07\n",
       "Kurtosis:                       3.215   Cond. No.                         1.00\n",
       "==============================================================================\n",
       "\n",
       "Notes:\n",
       "[1] Standard Errors assume that the covariance matrix of the errors is correctly specified.\n",
       "\"\"\""
      ]
     },
     "execution_count": 471,
     "metadata": {},
     "output_type": "execute_result"
    }
   ],
   "source": [
    "x = df['nature_Acidic']\n",
    "y = df['quality']\n",
    "xc = sm.add_constant(x)\n",
    "model = sm.OLS(y,xc).fit()\n",
    "model.summary()"
   ]
  },
  {
   "cell_type": "markdown",
   "metadata": {},
   "source": [
    "## Conclusion:\n",
    "\n",
    "Though the pvalue is 0.00, we see that the R2 of the model is also 0, ie; the nature is able to interpret 0% of the variation in the quality."
   ]
  },
  {
   "cell_type": "markdown",
   "metadata": {
    "collapsed": true
   },
   "source": [
    "<table align=\"left\">\n",
    "    <tr>\n",
    "        <td width=\"6%\">\n",
    "            <img src=\"question_icon.png\">\n",
    "        </td>\n",
    "        <td>\n",
    "            <div align=\"left\", style=\"font-size:120%\">\n",
    "                <font color=\"#21618C\">\n",
    "                    <b>18. Fit the a full model. Validate the model using cross validation method</b>\n",
    "                </font>\n",
    "            </div>\n",
    "        </td>\n",
    "    </tr>\n",
    "</table>"
   ]
  },
  {
   "cell_type": "code",
   "execution_count": 476,
   "metadata": {},
   "outputs": [
    {
     "name": "stdout",
     "output_type": "stream",
     "text": [
      "The mean R2 value of the full linear model is =  0.27304759126792905\n"
     ]
    }
   ],
   "source": [
    "# type your code here\n",
    "x= df.drop(columns = 'quality')\n",
    "y= df['quality']\n",
    "\n",
    "xtrain,xtest,ytrain,ytest =train_test_split(x,y, test_size = 0.3, random_state = 0)\n",
    "\n",
    "lr=LinearRegression()\n",
    "lr.fit(xtest,ytest)\n",
    "\n",
    "kfold= KFold(n_splits=3, shuffle=True, random_state=0)\n",
    "\n",
    "cv= cross_val_score(lr,x,y, cv= kfold, scoring='r2')\n",
    "print('The mean R2 value of the full linear model is = ',cv.mean())"
   ]
  },
  {
   "cell_type": "markdown",
   "metadata": {
    "collapsed": true
   },
   "source": [
    "<table align=\"left\">\n",
    "    <tr>\n",
    "        <td width=\"6%\">\n",
    "            <img src=\"question_icon.png\">\n",
    "        </td>\n",
    "        <td>\n",
    "            <div align=\"left\", style=\"font-size:120%\">\n",
    "                <font color=\"#21618C\">\n",
    "                    <b>19. Fit the a full model. Validate the model using 5 - fold cross validation</b>\n",
    "                </font>\n",
    "            </div>\n",
    "        </td>\n",
    "    </tr>\n",
    "</table>"
   ]
  },
  {
   "cell_type": "code",
   "execution_count": 477,
   "metadata": {},
   "outputs": [
    {
     "name": "stdout",
     "output_type": "stream",
     "text": [
      "The mean R2 value of the full linear model is =  0.27647439282204866\n"
     ]
    }
   ],
   "source": [
    "# type your code here\n",
    "x= df.drop(columns = 'quality')\n",
    "y= df['quality']\n",
    "\n",
    "xtrain,xtest,ytrain,ytest =train_test_split(x,y, test_size = 0.3, random_state = 0)\n",
    "\n",
    "lr=LinearRegression()\n",
    "lr.fit(xtest,ytest)\n",
    "\n",
    "kfold= KFold(n_splits=5, shuffle=True, random_state=0)\n",
    "\n",
    "cv= cross_val_score(lr,x,y, cv= kfold, scoring='r2')\n",
    "print('The mean R2 value of the full linear model is = ',cv.mean())"
   ]
  },
  {
   "cell_type": "markdown",
   "metadata": {
    "collapsed": true
   },
   "source": [
    "<table align=\"left\">\n",
    "    <tr>\n",
    "        <td width=\"6%\">\n",
    "            <img src=\"question_icon.png\">\n",
    "        </td>\n",
    "        <td>\n",
    "            <div align=\"left\", style=\"font-size:120%\">\n",
    "                <font color=\"#21618C\">\n",
    "                    <b>20. Fit the a full model. Validate the model using leave one out cross validation</b>\n",
    "                </font>\n",
    "            </div>\n",
    "        </td>\n",
    "    </tr>\n",
    "</table>"
   ]
  },
  {
   "cell_type": "code",
   "execution_count": 484,
   "metadata": {},
   "outputs": [
    {
     "name": "stdout",
     "output_type": "stream",
     "text": [
      "The RMSE value of the full linear model leave one out cv is =  0.754112058474323\n"
     ]
    }
   ],
   "source": [
    "# type your code here\n",
    "from sklearn.model_selection import LeaveOneOut\n",
    "\n",
    "x= df.drop(columns = 'quality')\n",
    "y= df['quality']\n",
    "\n",
    "xtrain,xtest,ytrain,ytest =train_test_split(x,y, test_size = 0.3, random_state = 0)\n",
    "\n",
    "lr=LinearRegression()\n",
    "lr.fit(xtest,ytest)\n",
    "\n",
    "loo=LeaveOneOut()\n",
    "\n",
    "cv= cross_val_score(lr,x,y, cv= loo, scoring='neg_mean_squared_error')\n",
    "print('The RMSE value of the full linear model leave one out cv is = ',np.sqrt(np.mean(cv*-1)))"
   ]
  }
 ],
 "metadata": {
  "kernelspec": {
   "display_name": "Python 3",
   "language": "python",
   "name": "python3"
  },
  "language_info": {
   "codemirror_mode": {
    "name": "ipython",
    "version": 3
   },
   "file_extension": ".py",
   "mimetype": "text/x-python",
   "name": "python",
   "nbconvert_exporter": "python",
   "pygments_lexer": "ipython3",
   "version": "3.8.3"
  }
 },
 "nbformat": 4,
 "nbformat_minor": 2
}
