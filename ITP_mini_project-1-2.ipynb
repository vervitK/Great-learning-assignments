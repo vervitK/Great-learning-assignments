{
 "cells": [
  {
   "cell_type": "markdown",
   "metadata": {},
   "source": [
    "# <center>PGP Data Science Engineering</center>\n",
    "## <center>Introduction to Programming – Mini Project:</center>\n"
   ]
  },
  {
   "cell_type": "markdown",
   "metadata": {},
   "source": [
    "### Problem 1:\n",
    "\n",
    "1. Write a program to calculate area of shapes. Your program should be capable of calculating the area of a square, rectangle, triangle and a circle. The user should be presented with options to select the shape. Based on which shape is chosed by the user, the program should ask for the appropriate input and print the resulting area on the screen.\n",
    "\n",
    "When the program is run, the screen should display something like this:\n",
    "\n",
    "**Which shape would you like to calculate the area for? Please enter the option number-**<br>\n",
    "**1. Square**<br>\n",
    "**2. Rectangle**<br>\n",
    "**3. Triangle**<br>\n",
    "**4. Circle**<br>\n",
    "**Enter Option: _**\n",
    "\n",
    "Say the user enters the option 1.\n",
    "\n",
    "**Please enter the length of a side: _**\n",
    "\n",
    "If the user enters a value of 5. The output should be:\n",
    "\n",
    "**The area of the square is 25**\n",
    "\n",
    "This program should indicate that the input is invalid if the user enters a character instead of a number as input. For instance if the user enters a value of ‘a’ instead of 5 in the previous example the program should prompt:\n",
    "\n",
    "**Invalid input, please enter a number: _**\n"
   ]
  },
  {
   "cell_type": "code",
   "execution_count": 7,
   "metadata": {},
   "outputs": [
    {
     "name": "stdout",
     "output_type": "stream",
     "text": [
      "Which shape would you like to calculate the area for? Please enter the option number-\n",
      "1.0 Square 2.0 Rectangle 3.0 Triangle 4.0 Circle\n",
      "Enter Option: _3\n",
      "Enter the base of triangl: 5\n",
      "Enter the height of triangle: 3\n",
      "The area of Triangle is  7.5\n"
     ]
    }
   ],
   "source": [
    "print('Which shape would you like to calculate the area for? Please enter the option number-')\n",
    "\n",
    "print(1., 'Square',2. ,'Rectangle',3., 'Triangle',4., 'Circle')\n",
    "\n",
    "x = int(input('Enter Option: _'))\n",
    "if x == 1:\n",
    "    s = input('Enter the length of side: ')        # area of square \n",
    "    if  s.isnumeric() == True :\n",
    "        print('The area of square is ',int(s)*int(s))\n",
    "    else:\n",
    "        print('Invalid input, please enter a number: _')\n",
    "\n",
    "        \n",
    "if x == 2:\n",
    "    l = input('Enter the length of side: ')\n",
    "    w = input('Enter the width of side: ')      # area of rectangle \n",
    "    if  l.isnumeric() == True  and w.isnumeric() == True:\n",
    "        print('The area of Rectnangle is ',int(l)*int(w))\n",
    "    else:\n",
    "        print('Invalid input, please enter a number: _')\n",
    "\n",
    "        \n",
    "if x == 3:\n",
    "    b = input('Enter the base of triangl: ')\n",
    "    h = input('Enter the height of triangle: ')       #area of triangle\n",
    "    if  b.isnumeric() == True  and h.isnumeric() == True:\n",
    "        print('The area of Triangle is ',(int(b)*int(h))*0.5)\n",
    "    else:\n",
    "        print('Invalid input, please enter a number: _')\n",
    "\n",
    "        \n",
    "if x == 4:\n",
    "    c = input('Enter the length of side: ')        # area of circle\n",
    "    if  c.isnumeric() == True :\n",
    "        print('The area of circle is ',int(s)*int(s))\n",
    "    else:\n",
    "        print('Invalid input, please enter a number: _')\n",
    "        "
   ]
  },
  {
   "cell_type": "markdown",
   "metadata": {},
   "source": [
    "### Problem 2:\n",
    "\n",
    "Create and encrypter in python based on the ceaser cipher. It is a substitution cipher where each character of the original text is shifted a certain number characters in the alphabet. Write a function that would require 2 arguments – the input text to be encrypted and a key. For eg: Given the input text ‘hello’ and the key 3, the resulting encryted text would be ‘khoor’. Here you can see that every character in the string hello is shifted by 3 characters. ‘h’ has shifted to ‘k’, ‘e’ has shifted to ‘h’ and so on. If a key of 5 were used, the resulting string would be ‘mjqqt’. This function should be capable of ignoring any characters which are not alphabets. Th2 character ‘z’ entered b\n",
    "y the user for a key of 3 would result in ‘c’.\n",
    "\n",
    "Usage:<br>\n",
    "**encrypt(‘hello world!’, 3)**<br>\n",
    "**‘khoor zruog!’**\n",
    "\n",
    "Similarly create decrypter which can decode the encryted text when provided the input text and key\n",
    "\n",
    "Usage:<br>\n",
    "**decrypt(‘khoor zruog!’, 3)**<br>\n",
    "**‘hello world!’**\n",
    "\n",
    "For the sake of simplicity you can assume that input solely consists of lowercase alphabets, spaces and punctuation symbols. Numbers in the input text would also be ignored similar to symbols."
   ]
  },
  {
   "cell_type": "code",
   "execution_count": 13,
   "metadata": {},
   "outputs": [],
   "source": [
    "def encrypt(n,m):\n",
    "    z=''\n",
    "    n=n.lower()\n",
    "    for i in n:\n",
    "        if ord(i) in range(97,123):\n",
    "            v=ord(i)+m\n",
    "            if v>122:\n",
    "                v=97 + (v-123)\n",
    "            z+=chr(v)\n",
    "        else:\n",
    "            z+=i\n",
    "    return z"
   ]
  },
  {
   "cell_type": "code",
   "execution_count": 14,
   "metadata": {},
   "outputs": [
    {
     "data": {
      "text/plain": [
       "'khoor zruog!'"
      ]
     },
     "execution_count": 14,
     "metadata": {},
     "output_type": "execute_result"
    }
   ],
   "source": [
    "encrypt('hello world!',3)"
   ]
  },
  {
   "cell_type": "code",
   "execution_count": 15,
   "metadata": {},
   "outputs": [],
   "source": [
    "def decrypt(n,m):\n",
    "    z=''\n",
    "    n=n.lower()\n",
    "    for i in n:\n",
    "        if ord(i) in range(97,123):\n",
    "            v=ord(i)-m\n",
    "            if v>122:\n",
    "                v=97 + (v-123)\n",
    "            z+=chr(v)\n",
    "        else:\n",
    "            z+=i\n",
    "    return z"
   ]
  },
  {
   "cell_type": "code",
   "execution_count": 18,
   "metadata": {},
   "outputs": [
    {
     "data": {
      "text/plain": [
       "'hello world!'"
      ]
     },
     "execution_count": 18,
     "metadata": {},
     "output_type": "execute_result"
    }
   ],
   "source": [
    "decrypt('khoor zruog!',3)"
   ]
  },
  {
   "cell_type": "code",
   "execution_count": null,
   "metadata": {},
   "outputs": [],
   "source": []
  }
 ],
 "metadata": {
  "kernelspec": {
   "display_name": "Python 3",
   "language": "python",
   "name": "python3"
  },
  "language_info": {
   "codemirror_mode": {
    "name": "ipython",
    "version": 3
   },
   "file_extension": ".py",
   "mimetype": "text/x-python",
   "name": "python",
   "nbconvert_exporter": "python",
   "pygments_lexer": "ipython3",
   "version": "3.8.5"
  }
 },
 "nbformat": 4,
 "nbformat_minor": 2
}
